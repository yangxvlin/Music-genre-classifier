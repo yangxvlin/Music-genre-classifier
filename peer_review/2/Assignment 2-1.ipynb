{
 "cells": [
  {
   "cell_type": "code",
   "execution_count": 1,
   "metadata": {},
   "outputs": [],
   "source": [
    "import numpy as np\n",
    "import pandas as pd\n",
    "import sklearn\n",
    "import math\n",
    "import matplotlib.pyplot as plt\n",
    "from sklearn import metrics\n",
    "from sklearn.neighbors import KNeighborsClassifier\n",
    "from sklearn.preprocessing import StandardScaler\n",
    "from sklearn.naive_bayes import GaussianNB\n",
    "from sklearn.neural_network import MLPClassifier\n",
    "from sklearn.tree import DecisionTreeClassifier"
   ]
  },
  {
   "cell_type": "code",
   "execution_count": 2,
   "metadata": {},
   "outputs": [],
   "source": [
    "train_features = pd.read_csv(\"train_features.csv\")\n",
    "train_labels = pd.read_csv(\"train_labels.csv\")\n",
    "validation_features = pd.read_csv(\"valid_features.csv\")\n",
    "validation_labels = pd.read_csv(\"valid_labels.csv\")\n",
    "test_features = pd.read_csv(\"test_features.csv\")\n",
    "audioData = train_features.iloc[:,9:]\n",
    "audioDataV = validation_features.iloc[:,9:]\n",
    "audioDataT = test_features.iloc[:,9:]\n",
    "\n",
    "temtl = train_labels.iloc[:,1:]\n",
    "temtl = temtl.values.tolist()\n",
    "temvl = validation_labels.iloc[:,1:]\n",
    "temvl = temvl.values.tolist()\n",
    "\n",
    "trainLabel = []\n",
    "for i in range (len(temtl)):\n",
    "    trainLabel.append(temtl[i][0])\n",
    "validLabel = []\n",
    "for i in range (len(temvl)):\n",
    "    validLabel.append(temvl[i][0])\n",
    "    \n",
    "\n",
    "scaler = StandardScaler()\n",
    "stAudioData = scaler.fit_transform(audioData)\n",
    "stAudioDataV = scaler.fit_transform(audioDataV)\n",
    "stAudioDataT = scaler.fit_transform(audioDataT)\n"
   ]
  },
  {
   "cell_type": "code",
   "execution_count": 3,
   "metadata": {},
   "outputs": [],
   "source": [
    "textData = train_features.iloc[:,2:3]\n",
    "validtextData = validation_features.iloc[:,2:3]\n",
    "testtextData = test_features.iloc[:,2:3]\n",
    "text = textData.values.tolist()\n",
    "validtext = validtextData.values.tolist()\n",
    "testtext = testtextData.values.tolist()\n",
    "for i in range(len(text)):\n",
    "    text[i][0]=text[i][0].split(\", \")\n",
    "\n",
    "allTags = []\n",
    "for i in range(len(text)):\n",
    "    for j in range(len(text[i][0])):\n",
    "        if text[i][0][j] not in allTags:\n",
    "            allTags.append(text[i][0][j])\n",
    "            \n",
    "for i in range(len(validtext)):\n",
    "    validtext[i][0]=validtext[i][0].split(\", \")\n",
    "\n",
    "for i in range(len(testtext)):\n",
    "    testtext[i][0]=testtext[i][0].split(\", \")\n",
    "\n",
    "tagsDataSet = []\n",
    "for i in range(len(text)):\n",
    "    row = [0]*len(allTags)\n",
    "    for j in range(len(text[i][0])):\n",
    "        row[allTags.index(text[i][0][j])] = 1\n",
    "    tagsDataSet.append(row)\n",
    "\n",
    "validtagsDataSet = []\n",
    "for i in range(len(validtext)):\n",
    "    row = [0]*len(allTags)\n",
    "    for j in range(len(validtext[i][0])):\n",
    "        if (validtext[i][0][j] in allTags):\n",
    "            row[allTags.index(validtext[i][0][j])] = 1\n",
    "    validtagsDataSet.append(row)\n",
    "    \n",
    "testtagsDataSet = []\n",
    "for i in range(len(testtext)):\n",
    "    row = [0]*len(allTags)\n",
    "    for j in range(len(testtext[i][0])):\n",
    "        if (testtext[i][0][j] in allTags):\n",
    "            row[allTags.index(testtext[i][0][j])] = 1\n",
    "    testtagsDataSet.append(row)"
   ]
  },
  {
   "cell_type": "code",
   "execution_count": 4,
   "metadata": {},
   "outputs": [],
   "source": [
    "tagsDataSetPd = pd.DataFrame(tagsDataSet)\n",
    "validtagsDataSetPd = pd.DataFrame(validtagsDataSet)\n",
    "testtagsDataSetPd = pd.DataFrame(testtagsDataSet)\n",
    "\n",
    "stAudioDataPd = pd.DataFrame(stAudioData)\n",
    "stAudioDataVPd = pd.DataFrame(stAudioDataV)\n",
    "stAudioDataTPd = pd.DataFrame(stAudioDataT)"
   ]
  },
  {
   "cell_type": "code",
   "execution_count": 5,
   "metadata": {},
   "outputs": [],
   "source": [
    "featureT = pd.concat([tagsDataSetPd, stAudioDataPd], axis=1, join='inner')\n",
    "featureV = pd.concat([validtagsDataSetPd, stAudioDataVPd], axis=1, join='inner')\n",
    "featureTest = pd.concat([testtagsDataSetPd, stAudioDataTPd], axis=1, join='inner')"
   ]
  },
  {
   "cell_type": "code",
   "execution_count": 6,
   "metadata": {},
   "outputs": [],
   "source": [
    "def train_KNN(feature, label):\n",
    "    KNNModel = KNeighborsClassifier(n_neighbors = 51, weights = \"distance\").fit(feature, label) \n",
    "    return KNNModel\n"
   ]
  },
  {
   "cell_type": "code",
   "execution_count": 7,
   "metadata": {},
   "outputs": [],
   "source": [
    "def train_Gaussian(feature, label):\n",
    "    GaussianModel = GaussianNB().fit(feature,label)\n",
    "    return GaussianModel"
   ]
  },
  {
   "cell_type": "code",
   "execution_count": 8,
   "metadata": {},
   "outputs": [],
   "source": [
    "def train_MLP(feature, label):\n",
    "    MLPModel = MLPClassifier(hidden_layer_sizes=[200],max_iter=3000, alpha=1).fit(feature, label)\n",
    "    return MLPModel"
   ]
  },
  {
   "cell_type": "code",
   "execution_count": 9,
   "metadata": {},
   "outputs": [],
   "source": [
    "def train_DecisionTree(feature, label):\n",
    "    dtModel = DecisionTreeClassifier(max_depth=None, criterion='entropy').fit(feature, label)\n",
    "    return dtModel"
   ]
  },
  {
   "cell_type": "code",
   "execution_count": 10,
   "metadata": {},
   "outputs": [],
   "source": [
    "def evaluation(predict, true):\n",
    "    Acc = metrics.accuracy_score(true, predict)\n",
    "    return Acc\n"
   ]
  },
  {
   "cell_type": "markdown",
   "metadata": {},
   "source": [
    "#### K-Nearest Neighbors Classifier"
   ]
  },
  {
   "cell_type": "code",
   "execution_count": 26,
   "metadata": {},
   "outputs": [
    {
     "name": "stdout",
     "output_type": "stream",
     "text": [
      "Accuracy of K-NN model trained by Audio Features:  0.48\n",
      "Accuracy of K-NN model trained by Text Features:  0.26666666666666666\n",
      "Accuracy of K-NN model trained by combination of Audio and Text Features:  0.5444444444444444\n"
     ]
    }
   ],
   "source": [
    "KNNModelAudio = train_KNN(stAudioData, trainLabel)\n",
    "predictAudio = KNNModelAudio.predict(stAudioDataV)\n",
    "accAudioKNNModel = evaluation(predictAudio, validLabel)\n",
    "\n",
    "KNNModelTag = train_KNN(tagsDataSet, trainLabel)\n",
    "predictTag = KNNModelTag.predict(validtagsDataSet)\n",
    "accTagKNNModel = evaluation(predictTag, validLabel)\n",
    "\n",
    "KNNModelTagAndAudio = train_KNN(featureT, trainLabel)\n",
    "predictTagAndAudio = KNNModelTagAndAudio.predict(featureV)\n",
    "accTagAndAudioKNNModel = evaluation(predictTagAndAudio, validLabel)\n",
    "                            \n",
    "print('Accuracy of K-NN model trained by Audio Features: ', accAudioKNNModel)\n",
    "print('Accuracy of K-NN model trained by Text Features: ', accTagKNNModel)\n",
    "print('Accuracy of K-NN model trained by combination of Audio and Text Features: ', accTagAndAudioKNNModel)"
   ]
  },
  {
   "cell_type": "markdown",
   "metadata": {},
   "source": [
    "Find the optimal K value"
   ]
  },
  {
   "cell_type": "code",
   "execution_count": 24,
   "metadata": {},
   "outputs": [
    {
     "data": {
      "image/png": "[encoded data removed]",
      "text/plain": [
       "<Figure size 432x288 with 1 Axes>"
      ]
     },
     "metadata": {
      "needs_background": "light"
     },
     "output_type": "display_data"
    }
   ],
   "source": [
    "accuracys = []\n",
    "index = []\n",
    "for i in range(3, 69, 2):\n",
    "    classifier = KNeighborsClassifier(n_neighbors=i, weights = \"distance\")\n",
    "    classifier.fit(stAudioData, trainLabel)\n",
    "    predictsKNN = classifier.predict(stAudioDataV)\n",
    "    acc = evaluation(predictsKNN, validLabel)\n",
    "    accuracys.append(acc)\n",
    "    index.append(i)\n",
    "plt.ylim(0.35, 0.55)\n",
    "plt.plot(index,accuracys, marker='o')\n",
    "plt.title('Accuracy Rate K Value')\n",
    "plt.xlabel('K Value')\n",
    "plt.ylabel('Accuracy')\n",
    "plt.show()"
   ]
  },
  {
   "cell_type": "markdown",
   "metadata": {},
   "source": [
    "#### Gaussian Naïve Bayes Classifier"
   ]
  },
  {
   "cell_type": "code",
   "execution_count": 27,
   "metadata": {},
   "outputs": [
    {
     "name": "stdout",
     "output_type": "stream",
     "text": [
      "Accuracy of Gaussian Naïve Bayes model trained by Audio Features:  0.37777777777777777\n",
      "Accuracy of Gaussian Naïve Bayes model trained by Text Features:  0.41555555555555557\n",
      "Accuracy of Gaussian Naïve Bayes model trained by combination of Audio and Text Features:  0.4177777777777778\n"
     ]
    }
   ],
   "source": [
    "GaussianModelAudio = train_Gaussian(stAudioData, trainLabel)\n",
    "predictAudio = GaussianModelAudio.predict(stAudioDataV)\n",
    "accAudioGaussian = evaluation(predictAudio, validLabel)\n",
    "\n",
    "GaussianModelTag = train_Gaussian(tagsDataSet, trainLabel)\n",
    "predictTag = GaussianModelTag.predict(validtagsDataSet)\n",
    "accTagGaussian = evaluation(predictTag, validLabel)\n",
    "\n",
    "GaussianModelTagAndAudio = train_Gaussian(featureT, trainLabel)\n",
    "predictTagAndAudio = GaussianModelTagAndAudio.predict(featureV)\n",
    "accTagAndAudioGaussian = evaluation(predictTagAndAudio, validLabel)\n",
    "\n",
    "print('Accuracy of Gaussian Naïve Bayes model trained by Audio Features: ', accAudioGaussian)\n",
    "print('Accuracy of Gaussian Naïve Bayes model trained by Text Features: ', accTagGaussian)\n",
    "print('Accuracy of Gaussian Naïve Bayes model trained by combination of Audio and Text Features: ', accTagAndAudioGaussian)"
   ]
  },
  {
   "cell_type": "markdown",
   "metadata": {},
   "source": [
    "#### Multi-layer Perceptron Classifier"
   ]
  },
  {
   "cell_type": "code",
   "execution_count": 18,
   "metadata": {},
   "outputs": [
    {
     "name": "stdout",
     "output_type": "stream",
     "text": [
      "Multi-layer Perceptron model trained by Audio Features:\n",
      "Accuracy of predicting validation instances:  0.4822222222222222\n",
      "Accuracy of predicting training instances:  0.8594686116176088\n"
     ]
    }
   ],
   "source": [
    "MLPModelAudio = train_MLP(stAudioData, trainLabel)\n",
    "predictAudioMLP = MLPModelAudio.predict(stAudioDataV)\n",
    "accAudioMLP = evaluation(predictAudioMLP, validLabel)\n",
    "\n",
    "predictAudioMLPTraining = MLPModelAudio.predict(stAudioData)\n",
    "accAudioMLPTraining = evaluation(predictAudioMLPTraining, trainLabel)\n",
    "\n",
    "print('Multi-layer Perceptron model trained by Audio Features:')\n",
    "print('Accuracy of predicting validation instances: ', accAudioMLP)\n",
    "print('Accuracy of predicting training instances: ', accAudioMLPTraining)"
   ]
  },
  {
   "cell_type": "code",
   "execution_count": 29,
   "metadata": {},
   "outputs": [
    {
     "name": "stdout",
     "output_type": "stream",
     "text": [
      "Accuracy of Multi-layer Perceptron model trained by re-scaled Audio Features:  0.4822222222222222\n",
      "Accuracy of Multi-layer Perceptron model trained by original Audio Features:  0.2777777777777778\n"
     ]
    }
   ],
   "source": [
    "MLPModelAudioNoSt = train_MLP(audioData, trainLabel)\n",
    "predictNoSt = MLPModelAudioNoSt.predict(audioDataV)\n",
    "accAudioMLPOri = evaluation(predictNoSt, validLabel)\n",
    "\n",
    "print('Accuracy of Multi-layer Perceptron model trained by re-scaled Audio Features: ', accAudioMLP)\n",
    "print('Accuracy of Multi-layer Perceptron model trained by original Audio Features: ', accAudioMLPOri)"
   ]
  },
  {
   "cell_type": "code",
   "execution_count": 28,
   "metadata": {
    "scrolled": true
   },
   "outputs": [
    {
     "name": "stdout",
     "output_type": "stream",
     "text": [
      "Multi-layer Perceptron model trained by Text Features:\n",
      "Accuracy of predicting validation instances:  0.5688888888888889\n",
      "Accuracy of predicting training instances:  0.981245115915603\n"
     ]
    }
   ],
   "source": [
    "MLPModelTag = train_MLP(tagsDataSet, trainLabel)\n",
    "predictTagMLP = MLPModelTag.predict(validtagsDataSet)\n",
    "accTagMLP = evaluation(predictTagMLP, validLabel)\n",
    "\n",
    "predictTagMLPTraining = MLPModelTag.predict(tagsDataSet)\n",
    "accTagMLPTraining = evaluation(predictTagMLPTraining, trainLabel)\n",
    "\n",
    "print('Multi-layer Perceptron model trained by Text Features:')\n",
    "print('Accuracy of predicting validation instances: ', accTagMLP)\n",
    "print('Accuracy of predicting training instances: ', accTagMLPTraining)"
   ]
  },
  {
   "cell_type": "code",
   "execution_count": 26,
   "metadata": {},
   "outputs": [
    {
     "name": "stdout",
     "output_type": "stream",
     "text": [
      "Multi-layer Perceptron model trained by Text and Audio Features:\n",
      "Accuracy of predicting validation instances:  0.66\n",
      "Accuracy of predicting training instances:  0.9958322479812451\n"
     ]
    }
   ],
   "source": [
    "MLPModelTagAndAudio = train_MLP(featureT, trainLabel)\n",
    "predictTagAndAudioMLP = MLPModelTagAndAudio.predict(featureV)\n",
    "accTagAndAudioMLP = evaluation(predictTagAndAudioMLP, validLabel)\n",
    "\n",
    "predictTagAndAudioMLPTraining = MLPModelTagAndAudio.predict(featureT)\n",
    "accTagAndAudioMLPTraining = evaluation(predictTagAndAudioMLPTraining, trainLabel)\n",
    "\n",
    "print('Multi-layer Perceptron model trained by Text and Audio Features:')\n",
    "print('Accuracy of predicting validation instances: ', accTagAndAudioMLP)\n",
    "print('Accuracy of predicting training instances: ', accTagAndAudioMLPTraining)"
   ]
  },
  {
   "cell_type": "code",
   "execution_count": 30,
   "metadata": {},
   "outputs": [
    {
     "name": "stdout",
     "output_type": "stream",
     "text": [
      "Accuracy of Multi-layer Perceptron model trained by Audio Features:  0.4822222222222222\n",
      "Accuracy of Multi-layer Perceptron model trained by Text Features:  0.5688888888888889\n",
      "Accuracy of Multi-layer Perceptron model trained by combination of Audio and Text Features:  0.66\n"
     ]
    }
   ],
   "source": [
    "print('Accuracy of Multi-layer Perceptron model trained by Audio Features: ', accAudioMLP)\n",
    "print('Accuracy of Multi-layer Perceptron model trained by Text Features: ', accTagMLP)\n",
    "print('Accuracy of Multi-layer Perceptron model trained by combination of Audio and Text Features: ', accTagAndAudioMLP)"
   ]
  },
  {
   "cell_type": "markdown",
   "metadata": {},
   "source": [
    "Find the best parameters for multi-layer perceptron classifier"
   ]
  },
  {
   "cell_type": "code",
   "execution_count": 21,
   "metadata": {},
   "outputs": [
    {
     "name": "stdout",
     "output_type": "stream",
     "text": [
      "Regularisation parameter: 1e-07 Accuracy: 0.41333333333333333 \n",
      "Regularisation parameter: 1e-06 Accuracy: 0.4622222222222222 \n",
      "Regularisation parameter: 1e-05 Accuracy: 0.44222222222222224 \n",
      "Regularisation parameter: 0.0001 Accuracy: 0.4111111111111111 \n",
      "Regularisation parameter: 0.001 Accuracy: 0.4222222222222222 \n",
      "Regularisation parameter: 0.01 Accuracy: 0.4088888888888889 \n",
      "Regularisation parameter: 0.1 Accuracy: 0.45111111111111113 \n",
      "Regularisation parameter: 1.0 Accuracy: 0.5 \n",
      "Regularisation parameter: 10.0 Accuracy: 0.4488888888888889 \n"
     ]
    }
   ],
   "source": [
    "alphas = [np.power(10.0, i) for i in range(-7, 2)]\n",
    "for alpha in alphas:\n",
    "    clf = MLPClassifier(hidden_layer_sizes=[200],max_iter=3000, alpha=alpha).fit(stAudioData, trainLabel)\n",
    "    predict = clf.predict(stAudioDataV)\n",
    "    print('Regularisation parameter: {} Accuracy: {} '.format(alpha, evaluation(predict, validLabel)))"
   ]
  },
  {
   "cell_type": "code",
   "execution_count": 25,
   "metadata": {},
   "outputs": [
    {
     "name": "stdout",
     "output_type": "stream",
     "text": [
      "Fitting 3 folds for each of 4 candidates, totalling 12 fits\n"
     ]
    },
    {
     "name": "stderr",
     "output_type": "stream",
     "text": [
      "[Parallel(n_jobs=4)]: Using backend LokyBackend with 4 concurrent workers.\n",
      "[Parallel(n_jobs=4)]: Done  12 out of  12 | elapsed: 11.6min finished\n"
     ]
    },
    {
     "name": "stdout",
     "output_type": "stream",
     "text": [
      "Best parameters {'alpha': 1, 'hidden_layer_sizes': [200]}\n"
     ]
    }
   ],
   "source": [
    "from sklearn.model_selection import GridSearchCV\n",
    "clf = MLPClassifier(max_iter=3000)\n",
    "hidden_sizes = [[100], [200], [200,100], [200,100,50]]\n",
    "#arguments of MLPClassifier and a list of values for them to search and find the best.\n",
    "param_grid = {'alpha': alphas, 'hidden_layer_sizes':hidden_sizes}\n",
    "\n",
    "\n",
    "gs = GridSearchCV(estimator=clf,\n",
    "                  param_grid=param_grid,\n",
    "                  scoring='accuracy',\n",
    "                  cv=3,\n",
    "                  n_jobs=4,\n",
    "                  verbose=1)\n",
    "gs.fit(featureT, trainLabel)\n",
    "\n",
    "best_params = gs.best_params_\n",
    "print('Best parameters', best_params)"
   ]
  },
  {
   "cell_type": "markdown",
   "metadata": {},
   "source": [
    "#### Decision Tree Classifier"
   ]
  },
  {
   "cell_type": "code",
   "execution_count": 52,
   "metadata": {},
   "outputs": [
    {
     "name": "stdout",
     "output_type": "stream",
     "text": [
      "Accuracy of Decision Tree model trained by Audio Features:  0.3111111111111111\n",
      "Accuracy of Decision Tree model trained by Text Features:  0.3688888888888889\n",
      "Accuracy of Decision Tree model trained by combination of Audio and Text Features:  0.43333333333333335\n"
     ]
    }
   ],
   "source": [
    "dtModelAudio = train_DecisionTree(stAudioData, trainLabel)\n",
    "predictAudiodt = dtModelAudio.predict(stAudioDataV)\n",
    "accAudioDT = evaluation(predictAudiodt, validLabel)\n",
    "\n",
    "dtModelTag = train_DecisionTree(tagsDataSet, trainLabel)\n",
    "predictTagdt = dtModelTag.predict(validtagsDataSet)\n",
    "accTagDT = evaluation(predictTagdt, validLabel)\n",
    "\n",
    "dtModelTagAndAudio = train_DecisionTree(featureT, trainLabel)\n",
    "predictTagAndAudiodt = dtModelTagAndAudio.predict(featureV)\n",
    "accTagAndAudioDT = evaluation(predictTagAndAudiodt, validLabel)\n",
    "\n",
    "print('Accuracy of Decision Tree model trained by Audio Features: ', accAudioDT)\n",
    "print('Accuracy of Decision Tree model trained by Text Features: ', accTagDT)\n",
    "print('Accuracy of Decision Tree model trained by combination of Audio and Text Features: ', accTagAndAudioDT)"
   ]
  },
  {
   "cell_type": "code",
   "execution_count": 53,
   "metadata": {},
   "outputs": [
    {
     "name": "stdout",
     "output_type": "stream",
     "text": [
      "Decision Tree model trained by Text and Audio Features:\n",
      "Accuracy of predicting validation instances:  0.43333333333333335\n",
      "Accuracy of predicting training instances:  1.0\n"
     ]
    }
   ],
   "source": [
    "predictTagAndAudiodtTraining = dtModelTagAndAudio.predict(featureT)\n",
    "accTagAndAudioDTTraining = evaluation(predictTagAndAudiodtTraining, trainLabel)\n",
    "\n",
    "print('Decision Tree model trained by Text and Audio Features:')\n",
    "print('Accuracy of predicting validation instances: ', accTagAndAudioDT)\n",
    "print('Accuracy of predicting training instances: ', accTagAndAudioDTTraining)"
   ]
  },
  {
   "cell_type": "markdown",
   "metadata": {},
   "source": [
    "#### Zero-R Baselion "
   ]
  },
  {
   "cell_type": "code",
   "execution_count": 11,
   "metadata": {},
   "outputs": [
    {
     "name": "stdout",
     "output_type": "stream",
     "text": [
      "The accuracy of Zero-R baseline:  0.12222222222222222\n"
     ]
    }
   ],
   "source": [
    "from sklearn.dummy import DummyClassifier\n",
    "zero_r = DummyClassifier(strategy='most_frequent').fit(train_features, trainLabel)\n",
    "predictZeroR = zero_r.predict(validation_features)\n",
    "accZeroR = evaluation(predictZeroR, validLabel)\n",
    "print('The accuracy of Zero-R baseline: ', accZeroR)"
   ]
  },
  {
   "cell_type": "markdown",
   "metadata": {},
   "source": [
    "#### Output the prediction of Test Instances"
   ]
  },
  {
   "cell_type": "code",
   "execution_count": 21,
   "metadata": {},
   "outputs": [],
   "source": [
    "output = MLPModelTagAndAudio.predict(featureTest)\n",
    "o = output.tolist()\n",
    "import csv\n",
    "with open('1185334.csv', mode='w', newline='') as employee_file:\n",
    "    employee_writer = csv.writer(employee_file, delimiter=',', quotechar='\"', quoting=csv.QUOTE_MINIMAL)\n",
    "    employee_writer.writerow([\"trackID\", \"genre\"])\n",
    "    for i in range (len(o)):\n",
    "        employee_writer.writerow([test_features[\"trackID\"][i], o[i]])"
   ]
  }
 ],
 "metadata": {
  "kernelspec": {
   "display_name": "Python 3",
   "language": "python",
   "name": "python3"
  },
  "language_info": {
   "codemirror_mode": {
    "name": "ipython",
    "version": 3
   },
   "file_extension": ".py",
   "mimetype": "text/x-python",
   "name": "python",
   "nbconvert_exporter": "python",
   "pygments_lexer": "ipython3",
   "version": "3.8.3"
  }
 },
 "nbformat": 4,
 "nbformat_minor": 4
}
