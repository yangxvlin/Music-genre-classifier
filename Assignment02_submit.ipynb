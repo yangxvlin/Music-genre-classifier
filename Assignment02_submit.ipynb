{
 "cells": [
  {
   "cell_type": "markdown",
   "metadata": {
    "ExecuteTime": {
     "end_time": "2020-09-29T12:29:54.646680Z",
     "start_time": "2020-09-29T12:29:54.643687Z"
    },
    "heading_collapsed": true
   },
   "source": [
    "# COMP90049 Introduction to Machine Learning, 2020 Semester 2"
   ]
  },
  {
   "cell_type": "markdown",
   "metadata": {
    "hidden": true
   },
   "source": [
    "## The University of Melbourne, School of Computing and Information Systems\n",
    "-----\n",
    "## Project 2: Music Genre Prediction from Audio, Metadata and Text Features!\n",
    "-----\n",
    "###### Student Name(s): Xulin Yang\n",
    "###### Python version: 3.6.5\n",
    "###### Submission deadline: 5 PM 16 October"
   ]
  },
  {
   "cell_type": "markdown",
   "metadata": {
    "heading_collapsed": true
   },
   "source": [
    "# Import"
   ]
  },
  {
   "cell_type": "code",
   "execution_count": 1,
   "metadata": {
    "ExecuteTime": {
     "end_time": "2020-10-16T01:02:53.137717Z",
     "start_time": "2020-10-16T01:02:51.453666Z"
    },
    "hidden": true
   },
   "outputs": [
    {
     "name": "stdout",
     "output_type": "stream",
     "text": [
      "The scikit-learn version is 0.23.2.\n"
     ]
    }
   ],
   "source": [
    "import numpy as np\n",
    "import pandas as pd\n",
    "import matplotlib.pyplot as plt\n",
    "import seaborn as sns\n",
    "import sklearn\n",
    "from sklearn.feature_selection import chi2, SelectKBest\n",
    "from sklearn.preprocessing import MinMaxScaler, StandardScaler\n",
    "from sklearn.neighbors import KNeighborsClassifier\n",
    "from sklearn import metrics\n",
    "from sklearn.metrics import classification_report, plot_confusion_matrix\n",
    "from sklearn.ensemble import RandomForestClassifier\n",
    "from sklearn.feature_selection import SelectFromModel\n",
    "from sklearn.model_selection import RandomizedSearchCV\n",
    "from sklearn.model_selection import cross_val_score\n",
    "from pprint import pprint\n",
    "from sklearn.naive_bayes import GaussianNB, MultinomialNB, CategoricalNB\n",
    "from sklearn.tree import DecisionTreeClassifier\n",
    "from sklearn.feature_extraction.text import TfidfVectorizer\n",
    "from sklearn.svm import LinearSVC\n",
    "from sklearn.pipeline import make_pipeline\n",
    "from sklearn import tree\n",
    "from sklearn.svm import SVC\n",
    "from sklearn.decomposition import PCA\n",
    "from sklearn.feature_extraction.text import CountVectorizer\n",
    "from sklearn.feature_extraction.text import TfidfTransformer\n",
    "from sklearn.feature_extraction.text import TfidfVectorizer\n",
    "from sklearn import preprocessing\n",
    "import string\n",
    "import re\n",
    "from sklearn.ensemble import GradientBoostingClassifier, AdaBoostClassifier\n",
    "from sklearn.ensemble import StackingClassifier, BaggingClassifier\n",
    "from sklearn.neural_network import MLPClassifier\n",
    "from sklearn.dummy import DummyClassifier\n",
    "from sklearn.metrics.pairwise import euclidean_distances\n",
    "from sklearn.model_selection import learning_curve\n",
    "from sklearn.preprocessing import KBinsDiscretizer\n",
    "from sklearn.linear_model import LogisticRegression\n",
    "print('The scikit-learn version is {}.'.format(sklearn.__version__))"
   ]
  },
  {
   "cell_type": "code",
   "execution_count": 2,
   "metadata": {
    "ExecuteTime": {
     "end_time": "2020-10-16T01:02:56.422267Z",
     "start_time": "2020-10-16T01:02:56.419421Z"
    },
    "hidden": true
   },
   "outputs": [],
   "source": [
    "RANDOM_STATE = 90049"
   ]
  },
  {
   "cell_type": "code",
   "execution_count": 3,
   "metadata": {
    "ExecuteTime": {
     "end_time": "2020-10-16T01:02:57.173155Z",
     "start_time": "2020-10-16T01:02:57.170369Z"
    },
    "hidden": true
   },
   "outputs": [],
   "source": [
    "def select_df1_columns_based_on_df2(df1: pd.DataFrame, df2: pd.DataFrame):\n",
    "    return df1[list(df2.columns)]"
   ]
  },
  {
   "cell_type": "markdown",
   "metadata": {
    "heading_collapsed": true
   },
   "source": [
    "# load dataset"
   ]
  },
  {
   "cell_type": "code",
   "execution_count": 4,
   "metadata": {
    "ExecuteTime": {
     "end_time": "2020-10-16T01:02:58.100976Z",
     "start_time": "2020-10-16T01:02:58.098167Z"
    },
    "hidden": true
   },
   "outputs": [],
   "source": [
    "def read_csv(file_path: str):\n",
    "    return pd.read_csv(file_path)"
   ]
  },
  {
   "cell_type": "code",
   "execution_count": 5,
   "metadata": {
    "ExecuteTime": {
     "end_time": "2020-10-16T01:02:59.156997Z",
     "start_time": "2020-10-16T01:02:58.778112Z"
    },
    "hidden": true
   },
   "outputs": [],
   "source": [
    "test_features = read_csv('dataset/test_features.csv')\n",
    "train_features = read_csv('dataset/train_features.csv')\n",
    "train_labels = read_csv('dataset/train_labels.csv')\n",
    "valid_features = read_csv('dataset/valid_features.csv')\n",
    "valid_labels = read_csv('dataset/valid_labels.csv')"
   ]
  },
  {
   "cell_type": "code",
   "execution_count": 6,
   "metadata": {
    "ExecuteTime": {
     "end_time": "2020-10-16T01:02:59.853746Z",
     "start_time": "2020-10-16T01:02:59.838250Z"
    },
    "hidden": true,
    "scrolled": true
   },
   "outputs": [],
   "source": [
    "test_features = test_features.set_index('trackID')\n",
    "train_features = train_features.set_index('trackID')\n",
    "train_labels = train_labels.set_index('trackID')\n",
    "valid_features = valid_features.set_index('trackID')\n",
    "valid_labels = valid_labels.set_index('trackID')"
   ]
  },
  {
   "cell_type": "markdown",
   "metadata": {
    "heading_collapsed": true
   },
   "source": [
    "# train test evaluate functions"
   ]
  },
  {
   "cell_type": "markdown",
   "metadata": {
    "heading_collapsed": true,
    "hidden": true
   },
   "source": [
    "## train"
   ]
  },
  {
   "cell_type": "code",
   "execution_count": 7,
   "metadata": {
    "ExecuteTime": {
     "end_time": "2020-10-16T01:03:05.869530Z",
     "start_time": "2020-10-16T01:03:05.866198Z"
    },
    "hidden": true
   },
   "outputs": [],
   "source": [
    "# this function train for input models given train X and train Y\n",
    "def train(models: list, X: pd.DataFrame, Y: pd.DataFrame):\n",
    "    trained = []\n",
    "    for m in models:\n",
    "        m.fit(X, Y.values.ravel())\n",
    "        trained.append(m)\n",
    "    return trained"
   ]
  },
  {
   "cell_type": "markdown",
   "metadata": {
    "heading_collapsed": true,
    "hidden": true
   },
   "source": [
    "## predict"
   ]
  },
  {
   "cell_type": "code",
   "execution_count": 8,
   "metadata": {
    "ExecuteTime": {
     "end_time": "2020-10-16T01:03:07.453011Z",
     "start_time": "2020-10-16T01:03:07.449667Z"
    },
    "hidden": true
   },
   "outputs": [],
   "source": [
    "# this function predict for input models given test X\n",
    "def predict(models: list, X: pd.DataFrame):\n",
    "    y_preds = []\n",
    "    for m in models:\n",
    "        preds = m.predict(X)\n",
    "        y_preds.append(pd.DataFrame(preds, columns=[\"genre\"], index=X.index))\n",
    "    return y_preds"
   ]
  },
  {
   "cell_type": "markdown",
   "metadata": {
    "heading_collapsed": true,
    "hidden": true
   },
   "source": [
    "## evaluate"
   ]
  },
  {
   "cell_type": "code",
   "execution_count": 9,
   "metadata": {
    "ExecuteTime": {
     "end_time": "2020-10-16T01:03:09.134131Z",
     "start_time": "2020-10-16T01:03:09.129872Z"
    },
    "hidden": true
   },
   "outputs": [],
   "source": [
    "# This function should evaluate a set of predictions in terms of metrics\n",
    "def evaluate(pred, true, average='macro'):\n",
    "    CM = metrics.confusion_matrix(true, pred) # Confusion Matrix\n",
    "    Acc = metrics.accuracy_score(true, pred) # Accuracy\n",
    "#     'micro':\n",
    "#         Calculate metrics globally by counting the total true positives, false \n",
    "#         negatives and false positives.\n",
    "\n",
    "#     'macro':\n",
    "#         Calculate metrics for each label, and find their unweighted mean. This \n",
    "#         does not take label imbalance into account.\n",
    "\n",
    "#     'weighted':\n",
    "#         Calculate metrics for each label, and find their average weighted by \n",
    "#         support (the number of true instances for each label). This alters \n",
    "#         ‘macro’ to account for label imbalance; it can result in an F-score that \n",
    "#         is not between precision and recall.\n",
    "#   \n",
    "#   As we have imbalanced class distribution, we use macro\n",
    "    precf1 = metrics.precision_recall_fscore_support(true, pred, average=average) # Precision, Recall and F1-score\n",
    "    return CM, Acc, precf1"
   ]
  },
  {
   "cell_type": "markdown",
   "metadata": {
    "heading_collapsed": true,
    "hidden": true
   },
   "source": [
    "## helper function"
   ]
  },
  {
   "cell_type": "code",
   "execution_count": 10,
   "metadata": {
    "ExecuteTime": {
     "end_time": "2020-10-16T01:03:11.197276Z",
     "start_time": "2020-10-16T01:03:11.193949Z"
    },
    "hidden": true
   },
   "outputs": [],
   "source": [
    "def select_audio_features(data: pd.DataFrame):\n",
    "    tmp = pd.DataFrame()\n",
    "    for i in range(1, 148+1):\n",
    "        tmp[\"vect_\" + str(i)] = data[\"vect_\" + str(i)]\n",
    "    return tmp"
   ]
  },
  {
   "cell_type": "code",
   "execution_count": 11,
   "metadata": {
    "ExecuteTime": {
     "end_time": "2020-10-16T01:03:11.919489Z",
     "start_time": "2020-10-16T01:03:11.913629Z"
    },
    "hidden": true
   },
   "outputs": [],
   "source": [
    "def select_meta_data_features(data: pd.DataFrame):\n",
    "    tmp = data.copy()\n",
    "    if \"key\" in data.columns:\n",
    "        tmp = tmp[[\"loudness\", \"tempo\", \"time_signature\", \"key\", \"mode\", \"duration\"]]\n",
    "    else:\n",
    "        tmp = tmp[[\"loudness\", \"tempo\", \"time_signature\", \n",
    "                   \"key_0\", \n",
    "                   \"key_1\", \n",
    "                   \"key_2\", \n",
    "                   \"key_3\", \n",
    "                   \"key_4\", \n",
    "                   \"key_5\", \n",
    "                   \"key_6\", \n",
    "                   \"key_7\", \n",
    "                   \"key_8\", \n",
    "                   \"key_9\", \n",
    "                   \"key_10\", \n",
    "                   \"key_11\", \n",
    "                   \"mode\", \"duration\"]]\n",
    "    return tmp"
   ]
  },
  {
   "cell_type": "code",
   "execution_count": 12,
   "metadata": {
    "ExecuteTime": {
     "end_time": "2020-10-16T01:03:12.841111Z",
     "start_time": "2020-10-16T01:03:12.838299Z"
    },
    "hidden": true
   },
   "outputs": [],
   "source": [
    "def one_hot_encoding(data: pd.DataFrame, column_name):\n",
    "    new_df = data.copy()\n",
    "    new_df = pd.get_dummies(new_df, prefix=column_name, columns=[column_name])\n",
    "    \n",
    "    return new_df"
   ]
  },
  {
   "cell_type": "code",
   "execution_count": 13,
   "metadata": {
    "ExecuteTime": {
     "end_time": "2020-10-16T01:03:13.645142Z",
     "start_time": "2020-10-16T01:03:13.641454Z"
    },
    "hidden": true
   },
   "outputs": [],
   "source": [
    "def draw_k_line_chart(x, y, ylabel, title, xlabel=\"k\"):\n",
    "#     plt.figure(figsize=(10, 3))\n",
    "    plt.plot(x, y, 'b-')\n",
    "    plt.xlabel(xlabel, fontsize=20)\n",
    "    plt.ylabel(ylabel, fontsize=20)\n",
    "    plt.title(title, fontsize=20)\n",
    "    plt.show()"
   ]
  },
  {
   "cell_type": "markdown",
   "metadata": {},
   "source": [
    "# Exploratory data analysis & feature engineering"
   ]
  },
  {
   "cell_type": "markdown",
   "metadata": {
    "heading_collapsed": true
   },
   "source": [
    "## label distribution"
   ]
  },
  {
   "cell_type": "code",
   "execution_count": 14,
   "metadata": {
    "ExecuteTime": {
     "end_time": "2020-10-16T01:03:38.522757Z",
     "start_time": "2020-10-16T01:03:38.200745Z"
    },
    "hidden": true,
    "scrolled": true
   },
   "outputs": [
    {
     "data": {
      "image/png": "[encoded data removed]",
      "text/plain": [
       "<Figure size 720x216 with 2 Axes>"
      ]
     },
     "metadata": {},
     "output_type": "display_data"
    }
   ],
   "source": [
    "def draw_train_valid_label_distribution(train_labels: pd.DataFrame, valid_labels: pd.DataFrame, \n",
    "                                        title1='train set label distribution',\n",
    "                                        title2='validation set label distribution'):\n",
    "    xs = train_labels[\"genre\"].unique()\n",
    "\n",
    "    f, (ax1, ax2) = plt.subplots(1, 2, sharey=True, figsize=(10,3))\n",
    "    ax1.set_title(title1)\n",
    "    (train_labels[\"genre\"].value_counts() / sum(train_labels[\"genre\"].value_counts().sort_index()))[xs].plot(ax=ax1, kind='bar')\n",
    "\n",
    "    ax2.set_title(title2)\n",
    "    (valid_labels[\"genre\"].value_counts() / sum(valid_labels[\"genre\"].value_counts().sort_index()))[xs].plot(ax=ax2, kind='bar')\n",
    "    plt.show()\n",
    "\n",
    "draw_train_valid_label_distribution(train_labels, valid_labels)"
   ]
  },
  {
   "cell_type": "markdown",
   "metadata": {},
   "source": [
    "## textual feature"
   ]
  },
  {
   "cell_type": "markdown",
   "metadata": {
    "heading_collapsed": true
   },
   "source": [
    "### helper function"
   ]
  },
  {
   "cell_type": "code",
   "execution_count": 15,
   "metadata": {
    "ExecuteTime": {
     "end_time": "2020-10-16T01:04:13.350422Z",
     "start_time": "2020-10-16T01:04:13.343591Z"
    },
    "hidden": true
   },
   "outputs": [],
   "source": [
    "# modify from:\n",
    "# https://kavita-ganesan.com/tfidftransformer-tfidfvectorizer-usage-differences/#.X4gxmpMzafU\n",
    "\n",
    "def clear_punctuations(text):\n",
    "    for p in string.punctuation:\n",
    "        text = text.replace(p, '')\n",
    "    return text\n",
    "\n",
    "def preprocess_tag(all_tags):\n",
    "    result = []\n",
    "    for tag in all_tags:\n",
    "        tag = clear_punctuations(tag)\n",
    "        result.append(tag)\n",
    "    return result\n",
    "\n",
    "def preprocess_title(all_titles):\n",
    "    result = []\n",
    "    for title in all_titles:\n",
    "        trantab = str.maketrans({key: None for key in string.punctuation})\n",
    "        title = title.translate(trantab)\n",
    "        title = re.sub('\\d+','',title)\n",
    "        result.append(title)\n",
    "    return np.array(result) \n",
    "\n",
    "def turn_TFIDF(train_corpus,corpus,note):\n",
    "    if(note == 'tag'):\n",
    "        corpus = preprocess_tag(corpus)\n",
    "        train_corpus = preprocess_tag(train_corpus)\n",
    "    if(note == 'title'):\n",
    "        corpus = preprocess_title(corpus)\n",
    "        train_corpus = preprocess_title(train_corpus)\n",
    "    vectorizer = TfidfVectorizer(token_pattern=r\"(?u)\\b\\w+\\b\")\n",
    "    tfidf = vectorizer.fit(train_corpus)\n",
    "    vectors = tfidf.transform(corpus)\n",
    "    return pd.DataFrame(vectors.todense().tolist(), columns = vectorizer.get_feature_names())"
   ]
  },
  {
   "cell_type": "markdown",
   "metadata": {
    "heading_collapsed": true
   },
   "source": [
    "### compute"
   ]
  },
  {
   "cell_type": "code",
   "execution_count": 16,
   "metadata": {
    "ExecuteTime": {
     "end_time": "2020-10-16T01:04:44.170247Z",
     "start_time": "2020-10-16T01:04:14.703236Z"
    },
    "hidden": true,
    "scrolled": true
   },
   "outputs": [],
   "source": [
    "tag_for_train = (train_features.iloc[:,1]).values\n",
    "tag_for_valid = (valid_features.iloc[:,1]).values\n",
    "tag_for_test = (test_features.iloc[:,1]).values\n",
    "\n",
    "title_for_train = (train_features.iloc[:,0]).values\n",
    "title_for_valid = (valid_features.iloc[:,0]).values\n",
    "title_for_test = (test_features.iloc[:,0]).values\n",
    "\n",
    "train_title = turn_TFIDF(title_for_train,title_for_train,'title').set_index(train_features.index)\n",
    "valid_title = turn_TFIDF(title_for_train,title_for_valid,'title').set_index(valid_features.index)\n",
    "test_title = turn_TFIDF(title_for_train,title_for_test,'title').set_index(test_features.index)\n",
    "\n",
    "train_tag = turn_TFIDF(tag_for_train,tag_for_train,'tag').set_index(train_features.index)\n",
    "valid_tag = turn_TFIDF(tag_for_train,tag_for_valid,'tag').set_index(valid_features.index)\n",
    "test_tag = turn_TFIDF(tag_for_train,tag_for_test,'tag').set_index(test_features.index)\n",
    "\n",
    "# train_tag"
   ]
  },
  {
   "cell_type": "code",
   "execution_count": 17,
   "metadata": {
    "ExecuteTime": {
     "end_time": "2020-10-16T01:04:44.624108Z",
     "start_time": "2020-10-16T01:04:44.172958Z"
    },
    "hidden": true
   },
   "outputs": [],
   "source": [
    "train_features_all = pd.concat([train_tag, \n",
    "                                select_meta_data_features(train_features), \n",
    "                                select_audio_features(train_features)], axis=1)\n",
    "valid_features_all = pd.concat([valid_tag,\n",
    "                                select_meta_data_features(valid_features), \n",
    "                                select_audio_features(valid_features)], axis=1)\n",
    "test_features_all = pd.concat([test_tag, \n",
    "                               select_meta_data_features(test_features), \n",
    "                               select_audio_features(test_features)], axis=1)"
   ]
  },
  {
   "cell_type": "markdown",
   "metadata": {},
   "source": [
    "# report"
   ]
  },
  {
   "cell_type": "markdown",
   "metadata": {
    "heading_collapsed": true
   },
   "source": [
    "## tag, meta, audio or combination, which is good?"
   ]
  },
  {
   "cell_type": "code",
   "execution_count": 18,
   "metadata": {
    "ExecuteTime": {
     "end_time": "2020-10-16T01:05:24.898655Z",
     "start_time": "2020-10-16T01:05:24.493969Z"
    },
    "hidden": true
   },
   "outputs": [],
   "source": [
    "train_tag = train_tag.rename(columns={\"tempo\": \"tempo_tag\"})\n",
    "valid_tag = valid_tag.rename(columns={\"tempo\": \"tempo_tag\"})\n",
    "test_tag = test_tag.rename(columns={\"tempo\": \"tempo_tag\"})"
   ]
  },
  {
   "cell_type": "code",
   "execution_count": 19,
   "metadata": {
    "ExecuteTime": {
     "end_time": "2020-10-16T01:05:25.933317Z",
     "start_time": "2020-10-16T01:05:25.581620Z"
    },
    "hidden": true
   },
   "outputs": [],
   "source": [
    "all_features = pd.concat([train_features, valid_features, test_features], axis=0)\n",
    "all_features_one_hot = one_hot_encoding(all_features, \"key\")\n",
    "all_features_one_hot = all_features_one_hot.drop(columns=['title', 'tags'], axis=1)\n",
    "\n",
    "# train_tag\n",
    "train_meta = select_meta_data_features(all_features_one_hot).iloc[train_features.index, :]\n",
    "train_audio = select_audio_features(all_features_one_hot).iloc[train_features.index, :]\n",
    "\n",
    "train_all_features = train_tag.join(all_features_one_hot)\n",
    "valid_all_features = valid_tag.join(all_features_one_hot)\n",
    "test_all_features = test_tag.join(all_features_one_hot)"
   ]
  },
  {
   "cell_type": "code",
   "execution_count": 20,
   "metadata": {
    "ExecuteTime": {
     "end_time": "2020-10-16T01:05:34.701091Z",
     "start_time": "2020-10-16T01:05:27.133451Z"
    },
    "hidden": true
   },
   "outputs": [],
   "source": [
    "clf = GaussianNB()\n",
    "\n",
    "names = [\"tags\", \"meta\", \"audio\", \"tags+meta\", \"tags+audio\", \"meta+audio\", \"tags+meta+audio\"]\n",
    "trains = [train_tag, \n",
    "          train_meta,\n",
    "          train_audio,\n",
    "          select_df1_columns_based_on_df2(train_all_features, train_tag.join(train_meta)),\n",
    "          select_df1_columns_based_on_df2(train_all_features, train_tag.join(train_audio)),\n",
    "          select_df1_columns_based_on_df2(train_all_features, train_meta.join(train_audio)),\n",
    "          train_all_features\n",
    "         ]\n",
    "\n",
    "f1s = []\n",
    "for t in trains:\n",
    "    clf.fit(t, train_labels.values.ravel())\n",
    "    pred = clf.predict(select_df1_columns_based_on_df2(valid_all_features, t))\n",
    "    _, _, pref = evaluate(pred, valid_labels.values.ravel())\n",
    "    f1s.append(pref[2])"
   ]
  },
  {
   "cell_type": "code",
   "execution_count": 21,
   "metadata": {
    "ExecuteTime": {
     "end_time": "2020-10-16T01:05:34.894776Z",
     "start_time": "2020-10-16T01:05:34.703322Z"
    },
    "hidden": true
   },
   "outputs": [
    {
     "data": {
      "image/png": "[encoded data removed]",
      "text/plain": [
       "<Figure size 432x288 with 1 Axes>"
      ]
     },
     "metadata": {},
     "output_type": "display_data"
    }
   ],
   "source": [
    "# plt.figure(figsize=[1, 6])\n",
    "plt.bar(x= names, height=f1s)\n",
    "plt.xticks(rotation=90)\n",
    "plt.ylabel(\"macro f1\")\n",
    "plt.title(\"Various feature category combination on Gaussian NB (benchmark)\")\n",
    "plt.show()"
   ]
  },
  {
   "cell_type": "markdown",
   "metadata": {
    "heading_collapsed": true
   },
   "source": [
    "## hyper-parameter tuning"
   ]
  },
  {
   "cell_type": "markdown",
   "metadata": {
    "heading_collapsed": true,
    "hidden": true
   },
   "source": [
    "### knn"
   ]
  },
  {
   "cell_type": "code",
   "execution_count": 420,
   "metadata": {
    "ExecuteTime": {
     "end_time": "2020-10-10T13:35:16.589539Z",
     "start_time": "2020-10-10T13:35:14.609599Z"
    },
    "hidden": true
   },
   "outputs": [],
   "source": [
    "scaler = StandardScaler()\n",
    "scaler.fit(train_all_features)\n",
    "train_all_features_standard = scaler.transform(train_all_features)\n",
    "valid_all_features_standard = scaler.transform(valid_all_features)\n",
    "test_all_features_standard = scaler.transform(test_all_features)"
   ]
  },
  {
   "cell_type": "code",
   "execution_count": 428,
   "metadata": {
    "ExecuteTime": {
     "end_time": "2020-10-11T02:25:38.292020Z",
     "start_time": "2020-10-10T14:26:06.784921Z"
    },
    "hidden": true
   },
   "outputs": [
    {
     "name": "stdout",
     "output_type": "stream",
     "text": [
      "1 euclidean 200 0.2354660438242103\n",
      "1 manhattan 200 0.22380132378915638\n",
      "2 euclidean 200 0.2354660438242103\n",
      "2 manhattan 200 0.22380132378915638\n",
      "3 euclidean 200 0.23799492843051037\n",
      "3 manhattan 200 0.19316053244629877\n",
      "4 euclidean 200 0.23656192136836127\n",
      "4 manhattan 200 0.2000676359152304\n",
      "5 euclidean 200 0.23968699800584234\n",
      "5 manhattan 200 0.18887054617194127\n",
      "6 euclidean 200 0.24003692444554794\n",
      "6 manhattan 200 0.18802687000912466\n",
      "7 euclidean 200 0.23322500577237334\n",
      "7 manhattan 200 0.17771993434950417\n",
      "8 euclidean 200 0.22576012235390408\n",
      "8 manhattan 200 0.17151626887403565\n",
      "9 euclidean 200 0.2203108442963826\n",
      "9 manhattan 200 0.16739571613171528\n",
      "10 euclidean 200 0.21596221268591748\n",
      "10 manhattan 200 0.16220204703025234\n",
      "11 euclidean 200 0.2099604940189264\n",
      "11 manhattan 200 0.16330910667505366\n",
      "12 euclidean 200 0.20190210188455437\n",
      "12 manhattan 200 0.1541479681629392\n",
      "13 euclidean 200 0.19649447234365955\n",
      "13 manhattan 200 0.15148447532093828\n",
      "14 euclidean 200 0.1965270368491457\n",
      "14 manhattan 200 0.14803286391547485\n",
      "15 euclidean 200 0.19371325387127789\n",
      "15 manhattan 200 0.14324822575406795\n",
      "16 euclidean 200 0.18790192484526153\n",
      "16 manhattan 200 0.14365321921706958\n",
      "17 euclidean 200 0.1819981058732703\n",
      "17 manhattan 200 0.14236172781474904\n",
      "18 euclidean 200 0.17626754351228788\n",
      "18 manhattan 200 0.13819463097478743\n",
      "19 euclidean 200 0.17394706382076838\n",
      "19 manhattan 200 0.1364079200428667\n",
      "20 euclidean 200 0.17060954839532422\n",
      "20 manhattan 200 0.13566905310098737\n",
      "21 euclidean 200 0.16917178850278689\n",
      "21 manhattan 200 0.13224021661762095\n",
      "22 euclidean 200 0.16380474762367392\n",
      "22 manhattan 200 0.13261008649039369\n",
      "23 euclidean 200 0.16184531335544072\n",
      "23 manhattan 200 0.13174597257148135\n",
      "24 euclidean 200 0.15677813924681966\n",
      "24 manhattan 200 0.12676553214375155\n",
      "25 euclidean 200 0.15370583982452854\n",
      "25 manhattan 200 0.12796713760097522\n",
      "26 euclidean 200 0.150521506438688\n",
      "26 manhattan 200 0.12664150604226396\n",
      "27 euclidean 200 0.15091782427744949\n",
      "27 manhattan 200 0.1278969348476215\n",
      "28 euclidean 200 0.14697152955521972\n",
      "28 manhattan 200 0.12707292053556643\n",
      "29 euclidean 200 0.14629985722429203\n",
      "29 manhattan 200 0.12526613736366227\n",
      "30 euclidean 200 0.1441155807613345\n",
      "30 manhattan 200 0.12436785485183496\n",
      "31 euclidean 200 0.14317398807620302\n",
      "31 manhattan 200 0.12290245977133649\n",
      "32 euclidean 200 0.14262431597670894\n",
      "32 manhattan 200 0.11989129001434104\n",
      "33 euclidean 200 0.14155170495818112\n",
      "33 manhattan 200 0.12100230189014746\n",
      "34 euclidean 200 0.13854803291930695\n",
      "34 manhattan 200 0.12170711013949935\n",
      "35 euclidean 200 0.13548716367579636\n",
      "35 manhattan 200 0.12177922927491965\n",
      "36 euclidean 200 0.13598913049415925\n",
      "36 manhattan 200 0.12022881856080406\n",
      "37 euclidean 200 0.13600216582042127\n",
      "37 manhattan 200 0.12133038124341108\n",
      "38 euclidean 200 0.13378617724178302\n",
      "38 manhattan 200 0.12224957533768048\n",
      "39 euclidean 200 0.13220518777868956\n",
      "39 manhattan 200 0.1234417247014121\n",
      "40 euclidean 200 0.129881482417321\n",
      "40 manhattan 200 0.12319680238407937\n",
      "41 euclidean 200 0.12701046837053245\n",
      "41 manhattan 200 0.12328423472927301\n",
      "42 euclidean 200 0.12571604192696656\n",
      "42 manhattan 200 0.12316711783282559\n",
      "43 euclidean 200 0.12494299329432783\n",
      "43 manhattan 200 0.1221968132544228\n",
      "44 euclidean 200 0.1206641265934911\n",
      "44 manhattan 200 0.12263337814634964\n",
      "45 euclidean 200 0.11705859597587479\n",
      "45 manhattan 200 0.12601737419126485\n",
      "46 euclidean 200 0.11657786434800035\n",
      "46 manhattan 200 0.12436284412575431\n",
      "47 euclidean 200 0.11471328133922765\n",
      "47 manhattan 200 0.12519234327896311\n",
      "48 euclidean 200 0.11496470634685889\n",
      "48 manhattan 200 0.12668107736831663\n",
      "49 euclidean 200 0.11299259201293901\n",
      "49 manhattan 200 0.1274415846915739\n",
      "50 euclidean 200 0.11341636770655406\n",
      "50 manhattan 200 0.12751818030162532\n",
      "51 euclidean 200 0.1128130500062154\n",
      "51 manhattan 200 0.12922645941086147\n",
      "52 euclidean 200 0.10969749323494138\n",
      "52 manhattan 200 0.1296007728725098\n",
      "53 euclidean 200 0.10809820458054964\n",
      "53 manhattan 200 0.1298785162981784\n",
      "54 euclidean 200 0.10768928624684704\n",
      "54 manhattan 200 0.13149866926414905\n",
      "55 euclidean 200 0.10835082662601643\n",
      "55 manhattan 200 0.13126981653549702\n",
      "56 euclidean 200 0.10495033574643106\n",
      "56 manhattan 200 0.13316517543814793\n",
      "57 euclidean 200 0.10280948700591115\n",
      "57 manhattan 200 0.13386680444617302\n",
      "58 euclidean 200 0.10129684614735283\n",
      "58 manhattan 200 0.13365647002077002\n",
      "59 euclidean 200 0.10108992009561941\n",
      "59 manhattan 200 0.13386920947332598\n",
      "60 euclidean 200 0.09868561520232635\n",
      "60 manhattan 200 0.13343839585725903\n",
      "61 euclidean 200 0.09962757021949072\n",
      "61 manhattan 200 0.13694612174162932\n",
      "62 euclidean 200 0.09837354948877765\n",
      "62 manhattan 200 0.13931259004092156\n",
      "63 euclidean 200 0.09724958118930427\n",
      "63 manhattan 200 0.1404472802077186\n",
      "64 euclidean 200 0.09622091960114243\n",
      "64 manhattan 200 0.14092154329201032\n",
      "65 euclidean 200 0.09651284934943279\n",
      "65 manhattan 200 0.14176024746854365\n",
      "66 euclidean 200 0.09562627136543607\n",
      "66 manhattan 200 0.14378357017013252\n",
      "67 euclidean 200 0.09390312038922308\n",
      "67 manhattan 200 0.14357080579127712\n",
      "68 euclidean 200 0.09333085396073507\n",
      "68 manhattan 200 0.14335106997527064\n",
      "69 euclidean 200 0.09280505648264989\n",
      "69 manhattan 200 0.1438922841326691\n",
      "70 euclidean 200 0.09048431339366587\n",
      "70 manhattan 200 0.14446131838202075\n",
      "71 euclidean 200 0.09068872062524572\n",
      "71 manhattan 200 0.14490739573877978\n",
      "72 euclidean 200 0.08938077534702413\n",
      "72 manhattan 200 0.14677439051530064\n",
      "73 euclidean 200 0.08759256187790812\n",
      "73 manhattan 200 0.14740122712101633\n"
     ]
    },
    {
     "ename": "KeyboardInterrupt",
     "evalue": "",
     "output_type": "error",
     "traceback": [
      "\u001b[0;31m---------------------------------------------------------------------------\u001b[0m",
      "\u001b[0;31mKeyboardInterrupt\u001b[0m                         Traceback (most recent call last)",
      "\u001b[0;32m<ipython-input-428-81026ff07bcc>\u001b[0m in \u001b[0;36m<module>\u001b[0;34m()\u001b[0m\n\u001b[1;32m     15\u001b[0m                         \u001b[0my\u001b[0m\u001b[0;34m=\u001b[0m\u001b[0mtrain_labels\u001b[0m\u001b[0;34m.\u001b[0m\u001b[0mvalues\u001b[0m\u001b[0;34m.\u001b[0m\u001b[0mravel\u001b[0m\u001b[0;34m(\u001b[0m\u001b[0;34m)\u001b[0m\u001b[0;34m,\u001b[0m\u001b[0;34m\u001b[0m\u001b[0m\n\u001b[1;32m     16\u001b[0m                         \u001b[0mcv\u001b[0m\u001b[0;34m=\u001b[0m\u001b[0;36m5\u001b[0m\u001b[0;34m,\u001b[0m\u001b[0;34m\u001b[0m\u001b[0m\n\u001b[0;32m---> 17\u001b[0;31m                         scoring='f1_macro')\n\u001b[0m\u001b[1;32m     18\u001b[0m         \u001b[0mf1s\u001b[0m\u001b[0;34m[\u001b[0m\u001b[0mi\u001b[0m\u001b[0;34m]\u001b[0m\u001b[0;34m.\u001b[0m\u001b[0mappend\u001b[0m\u001b[0;34m(\u001b[0m\u001b[0mnp\u001b[0m\u001b[0;34m.\u001b[0m\u001b[0mmean\u001b[0m\u001b[0;34m(\u001b[0m\u001b[0mscores\u001b[0m\u001b[0;34m)\u001b[0m\u001b[0;34m)\u001b[0m\u001b[0;34m\u001b[0m\u001b[0m\n\u001b[1;32m     19\u001b[0m         \u001b[0mprint\u001b[0m\u001b[0;34m(\u001b[0m\u001b[0mk\u001b[0m\u001b[0;34m,\u001b[0m \u001b[0mmetrics\u001b[0m\u001b[0;34m[\u001b[0m\u001b[0mi\u001b[0m\u001b[0;34m]\u001b[0m\u001b[0;34m,\u001b[0m \u001b[0mk_max\u001b[0m\u001b[0;34m,\u001b[0m \u001b[0mnp\u001b[0m\u001b[0;34m.\u001b[0m\u001b[0mmean\u001b[0m\u001b[0;34m(\u001b[0m\u001b[0mscores\u001b[0m\u001b[0;34m)\u001b[0m\u001b[0;34m)\u001b[0m\u001b[0;34m\u001b[0m\u001b[0m\n",
      "\u001b[0;32m/Library/Frameworks/Python.framework/Versions/3.6/lib/python3.6/site-packages/sklearn/utils/validation.py\u001b[0m in \u001b[0;36minner_f\u001b[0;34m(*args, **kwargs)\u001b[0m\n\u001b[1;32m     70\u001b[0m                           FutureWarning)\n\u001b[1;32m     71\u001b[0m         \u001b[0mkwargs\u001b[0m\u001b[0;34m.\u001b[0m\u001b[0mupdate\u001b[0m\u001b[0;34m(\u001b[0m\u001b[0;34m{\u001b[0m\u001b[0mk\u001b[0m\u001b[0;34m:\u001b[0m \u001b[0marg\u001b[0m \u001b[0;32mfor\u001b[0m \u001b[0mk\u001b[0m\u001b[0;34m,\u001b[0m \u001b[0marg\u001b[0m \u001b[0;32min\u001b[0m \u001b[0mzip\u001b[0m\u001b[0;34m(\u001b[0m\u001b[0msig\u001b[0m\u001b[0;34m.\u001b[0m\u001b[0mparameters\u001b[0m\u001b[0;34m,\u001b[0m \u001b[0margs\u001b[0m\u001b[0;34m)\u001b[0m\u001b[0;34m}\u001b[0m\u001b[0;34m)\u001b[0m\u001b[0;34m\u001b[0m\u001b[0m\n\u001b[0;32m---> 72\u001b[0;31m         \u001b[0;32mreturn\u001b[0m \u001b[0mf\u001b[0m\u001b[0;34m(\u001b[0m\u001b[0;34m**\u001b[0m\u001b[0mkwargs\u001b[0m\u001b[0;34m)\u001b[0m\u001b[0;34m\u001b[0m\u001b[0m\n\u001b[0m\u001b[1;32m     73\u001b[0m     \u001b[0;32mreturn\u001b[0m \u001b[0minner_f\u001b[0m\u001b[0;34m\u001b[0m\u001b[0m\n\u001b[1;32m     74\u001b[0m \u001b[0;34m\u001b[0m\u001b[0m\n",
      "\u001b[0;32m/Library/Frameworks/Python.framework/Versions/3.6/lib/python3.6/site-packages/sklearn/model_selection/_validation.py\u001b[0m in \u001b[0;36mcross_val_score\u001b[0;34m(estimator, X, y, groups, scoring, cv, n_jobs, verbose, fit_params, pre_dispatch, error_score)\u001b[0m\n\u001b[1;32m    404\u001b[0m                                 \u001b[0mfit_params\u001b[0m\u001b[0;34m=\u001b[0m\u001b[0mfit_params\u001b[0m\u001b[0;34m,\u001b[0m\u001b[0;34m\u001b[0m\u001b[0m\n\u001b[1;32m    405\u001b[0m                                 \u001b[0mpre_dispatch\u001b[0m\u001b[0;34m=\u001b[0m\u001b[0mpre_dispatch\u001b[0m\u001b[0;34m,\u001b[0m\u001b[0;34m\u001b[0m\u001b[0m\n\u001b[0;32m--> 406\u001b[0;31m                                 error_score=error_score)\n\u001b[0m\u001b[1;32m    407\u001b[0m     \u001b[0;32mreturn\u001b[0m \u001b[0mcv_results\u001b[0m\u001b[0;34m[\u001b[0m\u001b[0;34m'test_score'\u001b[0m\u001b[0;34m]\u001b[0m\u001b[0;34m\u001b[0m\u001b[0m\n\u001b[1;32m    408\u001b[0m \u001b[0;34m\u001b[0m\u001b[0m\n",
      "\u001b[0;32m/Library/Frameworks/Python.framework/Versions/3.6/lib/python3.6/site-packages/sklearn/utils/validation.py\u001b[0m in \u001b[0;36minner_f\u001b[0;34m(*args, **kwargs)\u001b[0m\n\u001b[1;32m     70\u001b[0m                           FutureWarning)\n\u001b[1;32m     71\u001b[0m         \u001b[0mkwargs\u001b[0m\u001b[0;34m.\u001b[0m\u001b[0mupdate\u001b[0m\u001b[0;34m(\u001b[0m\u001b[0;34m{\u001b[0m\u001b[0mk\u001b[0m\u001b[0;34m:\u001b[0m \u001b[0marg\u001b[0m \u001b[0;32mfor\u001b[0m \u001b[0mk\u001b[0m\u001b[0;34m,\u001b[0m \u001b[0marg\u001b[0m \u001b[0;32min\u001b[0m \u001b[0mzip\u001b[0m\u001b[0;34m(\u001b[0m\u001b[0msig\u001b[0m\u001b[0;34m.\u001b[0m\u001b[0mparameters\u001b[0m\u001b[0;34m,\u001b[0m \u001b[0margs\u001b[0m\u001b[0;34m)\u001b[0m\u001b[0;34m}\u001b[0m\u001b[0;34m)\u001b[0m\u001b[0;34m\u001b[0m\u001b[0m\n\u001b[0;32m---> 72\u001b[0;31m         \u001b[0;32mreturn\u001b[0m \u001b[0mf\u001b[0m\u001b[0;34m(\u001b[0m\u001b[0;34m**\u001b[0m\u001b[0mkwargs\u001b[0m\u001b[0;34m)\u001b[0m\u001b[0;34m\u001b[0m\u001b[0m\n\u001b[0m\u001b[1;32m     73\u001b[0m     \u001b[0;32mreturn\u001b[0m \u001b[0minner_f\u001b[0m\u001b[0;34m\u001b[0m\u001b[0m\n\u001b[1;32m     74\u001b[0m \u001b[0;34m\u001b[0m\u001b[0m\n",
      "\u001b[0;32m/Library/Frameworks/Python.framework/Versions/3.6/lib/python3.6/site-packages/sklearn/model_selection/_validation.py\u001b[0m in \u001b[0;36mcross_validate\u001b[0;34m(estimator, X, y, groups, scoring, cv, n_jobs, verbose, fit_params, pre_dispatch, return_train_score, return_estimator, error_score)\u001b[0m\n\u001b[1;32m    246\u001b[0m             \u001b[0mreturn_times\u001b[0m\u001b[0;34m=\u001b[0m\u001b[0;32mTrue\u001b[0m\u001b[0;34m,\u001b[0m \u001b[0mreturn_estimator\u001b[0m\u001b[0;34m=\u001b[0m\u001b[0mreturn_estimator\u001b[0m\u001b[0;34m,\u001b[0m\u001b[0;34m\u001b[0m\u001b[0m\n\u001b[1;32m    247\u001b[0m             error_score=error_score)\n\u001b[0;32m--> 248\u001b[0;31m         for train, test in cv.split(X, y, groups))\n\u001b[0m\u001b[1;32m    249\u001b[0m \u001b[0;34m\u001b[0m\u001b[0m\n\u001b[1;32m    250\u001b[0m     \u001b[0mzipped_scores\u001b[0m \u001b[0;34m=\u001b[0m \u001b[0mlist\u001b[0m\u001b[0;34m(\u001b[0m\u001b[0mzip\u001b[0m\u001b[0;34m(\u001b[0m\u001b[0;34m*\u001b[0m\u001b[0mscores\u001b[0m\u001b[0;34m)\u001b[0m\u001b[0;34m)\u001b[0m\u001b[0;34m\u001b[0m\u001b[0m\n",
      "\u001b[0;32m/Library/Frameworks/Python.framework/Versions/3.6/lib/python3.6/site-packages/joblib/parallel.py\u001b[0m in \u001b[0;36m__call__\u001b[0;34m(self, iterable)\u001b[0m\n\u001b[1;32m   1046\u001b[0m             \u001b[0;31m# remaining jobs.\u001b[0m\u001b[0;34m\u001b[0m\u001b[0;34m\u001b[0m\u001b[0m\n\u001b[1;32m   1047\u001b[0m             \u001b[0mself\u001b[0m\u001b[0;34m.\u001b[0m\u001b[0m_iterating\u001b[0m \u001b[0;34m=\u001b[0m \u001b[0;32mFalse\u001b[0m\u001b[0;34m\u001b[0m\u001b[0m\n\u001b[0;32m-> 1048\u001b[0;31m             \u001b[0;32mif\u001b[0m \u001b[0mself\u001b[0m\u001b[0;34m.\u001b[0m\u001b[0mdispatch_one_batch\u001b[0m\u001b[0;34m(\u001b[0m\u001b[0miterator\u001b[0m\u001b[0;34m)\u001b[0m\u001b[0;34m:\u001b[0m\u001b[0;34m\u001b[0m\u001b[0m\n\u001b[0m\u001b[1;32m   1049\u001b[0m                 \u001b[0mself\u001b[0m\u001b[0;34m.\u001b[0m\u001b[0m_iterating\u001b[0m \u001b[0;34m=\u001b[0m \u001b[0mself\u001b[0m\u001b[0;34m.\u001b[0m\u001b[0m_original_iterator\u001b[0m \u001b[0;32mis\u001b[0m \u001b[0;32mnot\u001b[0m \u001b[0;32mNone\u001b[0m\u001b[0;34m\u001b[0m\u001b[0m\n\u001b[1;32m   1050\u001b[0m \u001b[0;34m\u001b[0m\u001b[0m\n",
      "\u001b[0;32m/Library/Frameworks/Python.framework/Versions/3.6/lib/python3.6/site-packages/joblib/parallel.py\u001b[0m in \u001b[0;36mdispatch_one_batch\u001b[0;34m(self, iterator)\u001b[0m\n\u001b[1;32m    864\u001b[0m                 \u001b[0;32mreturn\u001b[0m \u001b[0;32mFalse\u001b[0m\u001b[0;34m\u001b[0m\u001b[0m\n\u001b[1;32m    865\u001b[0m             \u001b[0;32melse\u001b[0m\u001b[0;34m:\u001b[0m\u001b[0;34m\u001b[0m\u001b[0m\n\u001b[0;32m--> 866\u001b[0;31m                 \u001b[0mself\u001b[0m\u001b[0;34m.\u001b[0m\u001b[0m_dispatch\u001b[0m\u001b[0;34m(\u001b[0m\u001b[0mtasks\u001b[0m\u001b[0;34m)\u001b[0m\u001b[0;34m\u001b[0m\u001b[0m\n\u001b[0m\u001b[1;32m    867\u001b[0m                 \u001b[0;32mreturn\u001b[0m \u001b[0;32mTrue\u001b[0m\u001b[0;34m\u001b[0m\u001b[0m\n\u001b[1;32m    868\u001b[0m \u001b[0;34m\u001b[0m\u001b[0m\n",
      "\u001b[0;32m/Library/Frameworks/Python.framework/Versions/3.6/lib/python3.6/site-packages/joblib/parallel.py\u001b[0m in \u001b[0;36m_dispatch\u001b[0;34m(self, batch)\u001b[0m\n\u001b[1;32m    782\u001b[0m         \u001b[0;32mwith\u001b[0m \u001b[0mself\u001b[0m\u001b[0;34m.\u001b[0m\u001b[0m_lock\u001b[0m\u001b[0;34m:\u001b[0m\u001b[0;34m\u001b[0m\u001b[0m\n\u001b[1;32m    783\u001b[0m             \u001b[0mjob_idx\u001b[0m \u001b[0;34m=\u001b[0m \u001b[0mlen\u001b[0m\u001b[0;34m(\u001b[0m\u001b[0mself\u001b[0m\u001b[0;34m.\u001b[0m\u001b[0m_jobs\u001b[0m\u001b[0;34m)\u001b[0m\u001b[0;34m\u001b[0m\u001b[0m\n\u001b[0;32m--> 784\u001b[0;31m             \u001b[0mjob\u001b[0m \u001b[0;34m=\u001b[0m \u001b[0mself\u001b[0m\u001b[0;34m.\u001b[0m\u001b[0m_backend\u001b[0m\u001b[0;34m.\u001b[0m\u001b[0mapply_async\u001b[0m\u001b[0;34m(\u001b[0m\u001b[0mbatch\u001b[0m\u001b[0;34m,\u001b[0m \u001b[0mcallback\u001b[0m\u001b[0;34m=\u001b[0m\u001b[0mcb\u001b[0m\u001b[0;34m)\u001b[0m\u001b[0;34m\u001b[0m\u001b[0m\n\u001b[0m\u001b[1;32m    785\u001b[0m             \u001b[0;31m# A job can complete so quickly than its callback is\u001b[0m\u001b[0;34m\u001b[0m\u001b[0;34m\u001b[0m\u001b[0m\n\u001b[1;32m    786\u001b[0m             \u001b[0;31m# called before we get here, causing self._jobs to\u001b[0m\u001b[0;34m\u001b[0m\u001b[0;34m\u001b[0m\u001b[0m\n",
      "\u001b[0;32m/Library/Frameworks/Python.framework/Versions/3.6/lib/python3.6/site-packages/joblib/_parallel_backends.py\u001b[0m in \u001b[0;36mapply_async\u001b[0;34m(self, func, callback)\u001b[0m\n\u001b[1;32m    206\u001b[0m     \u001b[0;32mdef\u001b[0m \u001b[0mapply_async\u001b[0m\u001b[0;34m(\u001b[0m\u001b[0mself\u001b[0m\u001b[0;34m,\u001b[0m \u001b[0mfunc\u001b[0m\u001b[0;34m,\u001b[0m \u001b[0mcallback\u001b[0m\u001b[0;34m=\u001b[0m\u001b[0;32mNone\u001b[0m\u001b[0;34m)\u001b[0m\u001b[0;34m:\u001b[0m\u001b[0;34m\u001b[0m\u001b[0m\n\u001b[1;32m    207\u001b[0m         \u001b[0;34m\"\"\"Schedule a func to be run\"\"\"\u001b[0m\u001b[0;34m\u001b[0m\u001b[0m\n\u001b[0;32m--> 208\u001b[0;31m         \u001b[0mresult\u001b[0m \u001b[0;34m=\u001b[0m \u001b[0mImmediateResult\u001b[0m\u001b[0;34m(\u001b[0m\u001b[0mfunc\u001b[0m\u001b[0;34m)\u001b[0m\u001b[0;34m\u001b[0m\u001b[0m\n\u001b[0m\u001b[1;32m    209\u001b[0m         \u001b[0;32mif\u001b[0m \u001b[0mcallback\u001b[0m\u001b[0;34m:\u001b[0m\u001b[0;34m\u001b[0m\u001b[0m\n\u001b[1;32m    210\u001b[0m             \u001b[0mcallback\u001b[0m\u001b[0;34m(\u001b[0m\u001b[0mresult\u001b[0m\u001b[0;34m)\u001b[0m\u001b[0;34m\u001b[0m\u001b[0m\n",
      "\u001b[0;32m/Library/Frameworks/Python.framework/Versions/3.6/lib/python3.6/site-packages/joblib/_parallel_backends.py\u001b[0m in \u001b[0;36m__init__\u001b[0;34m(self, batch)\u001b[0m\n\u001b[1;32m    570\u001b[0m         \u001b[0;31m# Don't delay the application, to avoid keeping the input\u001b[0m\u001b[0;34m\u001b[0m\u001b[0;34m\u001b[0m\u001b[0m\n\u001b[1;32m    571\u001b[0m         \u001b[0;31m# arguments in memory\u001b[0m\u001b[0;34m\u001b[0m\u001b[0;34m\u001b[0m\u001b[0m\n\u001b[0;32m--> 572\u001b[0;31m         \u001b[0mself\u001b[0m\u001b[0;34m.\u001b[0m\u001b[0mresults\u001b[0m \u001b[0;34m=\u001b[0m \u001b[0mbatch\u001b[0m\u001b[0;34m(\u001b[0m\u001b[0;34m)\u001b[0m\u001b[0;34m\u001b[0m\u001b[0m\n\u001b[0m\u001b[1;32m    573\u001b[0m \u001b[0;34m\u001b[0m\u001b[0m\n\u001b[1;32m    574\u001b[0m     \u001b[0;32mdef\u001b[0m \u001b[0mget\u001b[0m\u001b[0;34m(\u001b[0m\u001b[0mself\u001b[0m\u001b[0;34m)\u001b[0m\u001b[0;34m:\u001b[0m\u001b[0;34m\u001b[0m\u001b[0m\n",
      "\u001b[0;32m/Library/Frameworks/Python.framework/Versions/3.6/lib/python3.6/site-packages/joblib/parallel.py\u001b[0m in \u001b[0;36m__call__\u001b[0;34m(self)\u001b[0m\n\u001b[1;32m    261\u001b[0m         \u001b[0;32mwith\u001b[0m \u001b[0mparallel_backend\u001b[0m\u001b[0;34m(\u001b[0m\u001b[0mself\u001b[0m\u001b[0;34m.\u001b[0m\u001b[0m_backend\u001b[0m\u001b[0;34m,\u001b[0m \u001b[0mn_jobs\u001b[0m\u001b[0;34m=\u001b[0m\u001b[0mself\u001b[0m\u001b[0;34m.\u001b[0m\u001b[0m_n_jobs\u001b[0m\u001b[0;34m)\u001b[0m\u001b[0;34m:\u001b[0m\u001b[0;34m\u001b[0m\u001b[0m\n\u001b[1;32m    262\u001b[0m             return [func(*args, **kwargs)\n\u001b[0;32m--> 263\u001b[0;31m                     for func, args, kwargs in self.items]\n\u001b[0m\u001b[1;32m    264\u001b[0m \u001b[0;34m\u001b[0m\u001b[0m\n\u001b[1;32m    265\u001b[0m     \u001b[0;32mdef\u001b[0m \u001b[0m__reduce__\u001b[0m\u001b[0;34m(\u001b[0m\u001b[0mself\u001b[0m\u001b[0;34m)\u001b[0m\u001b[0;34m:\u001b[0m\u001b[0;34m\u001b[0m\u001b[0m\n",
      "\u001b[0;32m/Library/Frameworks/Python.framework/Versions/3.6/lib/python3.6/site-packages/joblib/parallel.py\u001b[0m in \u001b[0;36m<listcomp>\u001b[0;34m(.0)\u001b[0m\n\u001b[1;32m    261\u001b[0m         \u001b[0;32mwith\u001b[0m \u001b[0mparallel_backend\u001b[0m\u001b[0;34m(\u001b[0m\u001b[0mself\u001b[0m\u001b[0;34m.\u001b[0m\u001b[0m_backend\u001b[0m\u001b[0;34m,\u001b[0m \u001b[0mn_jobs\u001b[0m\u001b[0;34m=\u001b[0m\u001b[0mself\u001b[0m\u001b[0;34m.\u001b[0m\u001b[0m_n_jobs\u001b[0m\u001b[0;34m)\u001b[0m\u001b[0;34m:\u001b[0m\u001b[0;34m\u001b[0m\u001b[0m\n\u001b[1;32m    262\u001b[0m             return [func(*args, **kwargs)\n\u001b[0;32m--> 263\u001b[0;31m                     for func, args, kwargs in self.items]\n\u001b[0m\u001b[1;32m    264\u001b[0m \u001b[0;34m\u001b[0m\u001b[0m\n\u001b[1;32m    265\u001b[0m     \u001b[0;32mdef\u001b[0m \u001b[0m__reduce__\u001b[0m\u001b[0;34m(\u001b[0m\u001b[0mself\u001b[0m\u001b[0;34m)\u001b[0m\u001b[0;34m:\u001b[0m\u001b[0;34m\u001b[0m\u001b[0m\n",
      "\u001b[0;32m/Library/Frameworks/Python.framework/Versions/3.6/lib/python3.6/site-packages/sklearn/model_selection/_validation.py\u001b[0m in \u001b[0;36m_fit_and_score\u001b[0;34m(estimator, X, y, scorer, train, test, verbose, parameters, fit_params, return_train_score, return_parameters, return_n_test_samples, return_times, return_estimator, error_score)\u001b[0m\n\u001b[1;32m    558\u001b[0m     \u001b[0;32melse\u001b[0m\u001b[0;34m:\u001b[0m\u001b[0;34m\u001b[0m\u001b[0m\n\u001b[1;32m    559\u001b[0m         \u001b[0mfit_time\u001b[0m \u001b[0;34m=\u001b[0m \u001b[0mtime\u001b[0m\u001b[0;34m.\u001b[0m\u001b[0mtime\u001b[0m\u001b[0;34m(\u001b[0m\u001b[0;34m)\u001b[0m \u001b[0;34m-\u001b[0m \u001b[0mstart_time\u001b[0m\u001b[0;34m\u001b[0m\u001b[0m\n\u001b[0;32m--> 560\u001b[0;31m         \u001b[0mtest_scores\u001b[0m \u001b[0;34m=\u001b[0m \u001b[0m_score\u001b[0m\u001b[0;34m(\u001b[0m\u001b[0mestimator\u001b[0m\u001b[0;34m,\u001b[0m \u001b[0mX_test\u001b[0m\u001b[0;34m,\u001b[0m \u001b[0my_test\u001b[0m\u001b[0;34m,\u001b[0m \u001b[0mscorer\u001b[0m\u001b[0;34m)\u001b[0m\u001b[0;34m\u001b[0m\u001b[0m\n\u001b[0m\u001b[1;32m    561\u001b[0m         \u001b[0mscore_time\u001b[0m \u001b[0;34m=\u001b[0m \u001b[0mtime\u001b[0m\u001b[0;34m.\u001b[0m\u001b[0mtime\u001b[0m\u001b[0;34m(\u001b[0m\u001b[0;34m)\u001b[0m \u001b[0;34m-\u001b[0m \u001b[0mstart_time\u001b[0m \u001b[0;34m-\u001b[0m \u001b[0mfit_time\u001b[0m\u001b[0;34m\u001b[0m\u001b[0m\n\u001b[1;32m    562\u001b[0m         \u001b[0;32mif\u001b[0m \u001b[0mreturn_train_score\u001b[0m\u001b[0;34m:\u001b[0m\u001b[0;34m\u001b[0m\u001b[0m\n",
      "\u001b[0;32m/Library/Frameworks/Python.framework/Versions/3.6/lib/python3.6/site-packages/sklearn/model_selection/_validation.py\u001b[0m in \u001b[0;36m_score\u001b[0;34m(estimator, X_test, y_test, scorer)\u001b[0m\n\u001b[1;32m    605\u001b[0m         \u001b[0mscores\u001b[0m \u001b[0;34m=\u001b[0m \u001b[0mscorer\u001b[0m\u001b[0;34m(\u001b[0m\u001b[0mestimator\u001b[0m\u001b[0;34m,\u001b[0m \u001b[0mX_test\u001b[0m\u001b[0;34m)\u001b[0m\u001b[0;34m\u001b[0m\u001b[0m\n\u001b[1;32m    606\u001b[0m     \u001b[0;32melse\u001b[0m\u001b[0;34m:\u001b[0m\u001b[0;34m\u001b[0m\u001b[0m\n\u001b[0;32m--> 607\u001b[0;31m         \u001b[0mscores\u001b[0m \u001b[0;34m=\u001b[0m \u001b[0mscorer\u001b[0m\u001b[0;34m(\u001b[0m\u001b[0mestimator\u001b[0m\u001b[0;34m,\u001b[0m \u001b[0mX_test\u001b[0m\u001b[0;34m,\u001b[0m \u001b[0my_test\u001b[0m\u001b[0;34m)\u001b[0m\u001b[0;34m\u001b[0m\u001b[0m\n\u001b[0m\u001b[1;32m    608\u001b[0m \u001b[0;34m\u001b[0m\u001b[0m\n\u001b[1;32m    609\u001b[0m     error_msg = (\"scoring must return a number, got %s (%s) \"\n",
      "\u001b[0;32m/Library/Frameworks/Python.framework/Versions/3.6/lib/python3.6/site-packages/sklearn/metrics/_scorer.py\u001b[0m in \u001b[0;36m__call__\u001b[0;34m(self, estimator, *args, **kwargs)\u001b[0m\n\u001b[1;32m     86\u001b[0m             \u001b[0;32mif\u001b[0m \u001b[0misinstance\u001b[0m\u001b[0;34m(\u001b[0m\u001b[0mscorer\u001b[0m\u001b[0;34m,\u001b[0m \u001b[0m_BaseScorer\u001b[0m\u001b[0;34m)\u001b[0m\u001b[0;34m:\u001b[0m\u001b[0;34m\u001b[0m\u001b[0m\n\u001b[1;32m     87\u001b[0m                 score = scorer._score(cached_call, estimator,\n\u001b[0;32m---> 88\u001b[0;31m                                       *args, **kwargs)\n\u001b[0m\u001b[1;32m     89\u001b[0m             \u001b[0;32melse\u001b[0m\u001b[0;34m:\u001b[0m\u001b[0;34m\u001b[0m\u001b[0m\n\u001b[1;32m     90\u001b[0m                 \u001b[0mscore\u001b[0m \u001b[0;34m=\u001b[0m \u001b[0mscorer\u001b[0m\u001b[0;34m(\u001b[0m\u001b[0mestimator\u001b[0m\u001b[0;34m,\u001b[0m \u001b[0;34m*\u001b[0m\u001b[0margs\u001b[0m\u001b[0;34m,\u001b[0m \u001b[0;34m**\u001b[0m\u001b[0mkwargs\u001b[0m\u001b[0;34m)\u001b[0m\u001b[0;34m\u001b[0m\u001b[0m\n",
      "\u001b[0;32m/Library/Frameworks/Python.framework/Versions/3.6/lib/python3.6/site-packages/sklearn/metrics/_scorer.py\u001b[0m in \u001b[0;36m_score\u001b[0;34m(self, method_caller, estimator, X, y_true, sample_weight)\u001b[0m\n\u001b[1;32m    204\u001b[0m         \"\"\"\n\u001b[1;32m    205\u001b[0m \u001b[0;34m\u001b[0m\u001b[0m\n\u001b[0;32m--> 206\u001b[0;31m         \u001b[0my_pred\u001b[0m \u001b[0;34m=\u001b[0m \u001b[0mmethod_caller\u001b[0m\u001b[0;34m(\u001b[0m\u001b[0mestimator\u001b[0m\u001b[0;34m,\u001b[0m \u001b[0;34m\"predict\"\u001b[0m\u001b[0;34m,\u001b[0m \u001b[0mX\u001b[0m\u001b[0;34m)\u001b[0m\u001b[0;34m\u001b[0m\u001b[0m\n\u001b[0m\u001b[1;32m    207\u001b[0m         \u001b[0;32mif\u001b[0m \u001b[0msample_weight\u001b[0m \u001b[0;32mis\u001b[0m \u001b[0;32mnot\u001b[0m \u001b[0;32mNone\u001b[0m\u001b[0;34m:\u001b[0m\u001b[0;34m\u001b[0m\u001b[0m\n\u001b[1;32m    208\u001b[0m             return self._sign * self._score_func(y_true, y_pred,\n",
      "\u001b[0;32m/Library/Frameworks/Python.framework/Versions/3.6/lib/python3.6/site-packages/sklearn/metrics/_scorer.py\u001b[0m in \u001b[0;36m_cached_call\u001b[0;34m(cache, estimator, method, *args, **kwargs)\u001b[0m\n\u001b[1;32m     51\u001b[0m     \u001b[0;34m\"\"\"Call estimator with method and args and kwargs.\"\"\"\u001b[0m\u001b[0;34m\u001b[0m\u001b[0m\n\u001b[1;32m     52\u001b[0m     \u001b[0;32mif\u001b[0m \u001b[0mcache\u001b[0m \u001b[0;32mis\u001b[0m \u001b[0;32mNone\u001b[0m\u001b[0;34m:\u001b[0m\u001b[0;34m\u001b[0m\u001b[0m\n\u001b[0;32m---> 53\u001b[0;31m         \u001b[0;32mreturn\u001b[0m \u001b[0mgetattr\u001b[0m\u001b[0;34m(\u001b[0m\u001b[0mestimator\u001b[0m\u001b[0;34m,\u001b[0m \u001b[0mmethod\u001b[0m\u001b[0;34m)\u001b[0m\u001b[0;34m(\u001b[0m\u001b[0;34m*\u001b[0m\u001b[0margs\u001b[0m\u001b[0;34m,\u001b[0m \u001b[0;34m**\u001b[0m\u001b[0mkwargs\u001b[0m\u001b[0;34m)\u001b[0m\u001b[0;34m\u001b[0m\u001b[0m\n\u001b[0m\u001b[1;32m     54\u001b[0m \u001b[0;34m\u001b[0m\u001b[0m\n\u001b[1;32m     55\u001b[0m     \u001b[0;32mtry\u001b[0m\u001b[0;34m:\u001b[0m\u001b[0;34m\u001b[0m\u001b[0m\n",
      "\u001b[0;32m/Library/Frameworks/Python.framework/Versions/3.6/lib/python3.6/site-packages/sklearn/neighbors/_classification.py\u001b[0m in \u001b[0;36mpredict\u001b[0;34m(self, X)\u001b[0m\n\u001b[1;32m    173\u001b[0m         \u001b[0mX\u001b[0m \u001b[0;34m=\u001b[0m \u001b[0mcheck_array\u001b[0m\u001b[0;34m(\u001b[0m\u001b[0mX\u001b[0m\u001b[0;34m,\u001b[0m \u001b[0maccept_sparse\u001b[0m\u001b[0;34m=\u001b[0m\u001b[0;34m'csr'\u001b[0m\u001b[0;34m)\u001b[0m\u001b[0;34m\u001b[0m\u001b[0m\n\u001b[1;32m    174\u001b[0m \u001b[0;34m\u001b[0m\u001b[0m\n\u001b[0;32m--> 175\u001b[0;31m         \u001b[0mneigh_dist\u001b[0m\u001b[0;34m,\u001b[0m \u001b[0mneigh_ind\u001b[0m \u001b[0;34m=\u001b[0m \u001b[0mself\u001b[0m\u001b[0;34m.\u001b[0m\u001b[0mkneighbors\u001b[0m\u001b[0;34m(\u001b[0m\u001b[0mX\u001b[0m\u001b[0;34m)\u001b[0m\u001b[0;34m\u001b[0m\u001b[0m\n\u001b[0m\u001b[1;32m    176\u001b[0m         \u001b[0mclasses_\u001b[0m \u001b[0;34m=\u001b[0m \u001b[0mself\u001b[0m\u001b[0;34m.\u001b[0m\u001b[0mclasses_\u001b[0m\u001b[0;34m\u001b[0m\u001b[0m\n\u001b[1;32m    177\u001b[0m         \u001b[0m_y\u001b[0m \u001b[0;34m=\u001b[0m \u001b[0mself\u001b[0m\u001b[0;34m.\u001b[0m\u001b[0m_y\u001b[0m\u001b[0;34m\u001b[0m\u001b[0m\n",
      "\u001b[0;32m/Library/Frameworks/Python.framework/Versions/3.6/lib/python3.6/site-packages/sklearn/neighbors/_base.py\u001b[0m in \u001b[0;36mkneighbors\u001b[0;34m(self, X, n_neighbors, return_distance)\u001b[0m\n\u001b[1;32m    663\u001b[0m                 delayed_query(\n\u001b[1;32m    664\u001b[0m                     self._tree, X[s], n_neighbors, return_distance)\n\u001b[0;32m--> 665\u001b[0;31m                 \u001b[0;32mfor\u001b[0m \u001b[0ms\u001b[0m \u001b[0;32min\u001b[0m \u001b[0mgen_even_slices\u001b[0m\u001b[0;34m(\u001b[0m\u001b[0mX\u001b[0m\u001b[0;34m.\u001b[0m\u001b[0mshape\u001b[0m\u001b[0;34m[\u001b[0m\u001b[0;36m0\u001b[0m\u001b[0;34m]\u001b[0m\u001b[0;34m,\u001b[0m \u001b[0mn_jobs\u001b[0m\u001b[0;34m)\u001b[0m\u001b[0;34m\u001b[0m\u001b[0m\n\u001b[0m\u001b[1;32m    666\u001b[0m             )\n\u001b[1;32m    667\u001b[0m         \u001b[0;32melse\u001b[0m\u001b[0;34m:\u001b[0m\u001b[0;34m\u001b[0m\u001b[0m\n",
      "\u001b[0;32m/Library/Frameworks/Python.framework/Versions/3.6/lib/python3.6/site-packages/joblib/parallel.py\u001b[0m in \u001b[0;36m__call__\u001b[0;34m(self, iterable)\u001b[0m\n\u001b[1;32m   1046\u001b[0m             \u001b[0;31m# remaining jobs.\u001b[0m\u001b[0;34m\u001b[0m\u001b[0;34m\u001b[0m\u001b[0m\n\u001b[1;32m   1047\u001b[0m             \u001b[0mself\u001b[0m\u001b[0;34m.\u001b[0m\u001b[0m_iterating\u001b[0m \u001b[0;34m=\u001b[0m \u001b[0;32mFalse\u001b[0m\u001b[0;34m\u001b[0m\u001b[0m\n\u001b[0;32m-> 1048\u001b[0;31m             \u001b[0;32mif\u001b[0m \u001b[0mself\u001b[0m\u001b[0;34m.\u001b[0m\u001b[0mdispatch_one_batch\u001b[0m\u001b[0;34m(\u001b[0m\u001b[0miterator\u001b[0m\u001b[0;34m)\u001b[0m\u001b[0;34m:\u001b[0m\u001b[0;34m\u001b[0m\u001b[0m\n\u001b[0m\u001b[1;32m   1049\u001b[0m                 \u001b[0mself\u001b[0m\u001b[0;34m.\u001b[0m\u001b[0m_iterating\u001b[0m \u001b[0;34m=\u001b[0m \u001b[0mself\u001b[0m\u001b[0;34m.\u001b[0m\u001b[0m_original_iterator\u001b[0m \u001b[0;32mis\u001b[0m \u001b[0;32mnot\u001b[0m \u001b[0;32mNone\u001b[0m\u001b[0;34m\u001b[0m\u001b[0m\n\u001b[1;32m   1050\u001b[0m \u001b[0;34m\u001b[0m\u001b[0m\n",
      "\u001b[0;32m/Library/Frameworks/Python.framework/Versions/3.6/lib/python3.6/site-packages/joblib/parallel.py\u001b[0m in \u001b[0;36mdispatch_one_batch\u001b[0;34m(self, iterator)\u001b[0m\n\u001b[1;32m    864\u001b[0m                 \u001b[0;32mreturn\u001b[0m \u001b[0;32mFalse\u001b[0m\u001b[0;34m\u001b[0m\u001b[0m\n\u001b[1;32m    865\u001b[0m             \u001b[0;32melse\u001b[0m\u001b[0;34m:\u001b[0m\u001b[0;34m\u001b[0m\u001b[0m\n\u001b[0;32m--> 866\u001b[0;31m                 \u001b[0mself\u001b[0m\u001b[0;34m.\u001b[0m\u001b[0m_dispatch\u001b[0m\u001b[0;34m(\u001b[0m\u001b[0mtasks\u001b[0m\u001b[0;34m)\u001b[0m\u001b[0;34m\u001b[0m\u001b[0m\n\u001b[0m\u001b[1;32m    867\u001b[0m                 \u001b[0;32mreturn\u001b[0m \u001b[0;32mTrue\u001b[0m\u001b[0;34m\u001b[0m\u001b[0m\n\u001b[1;32m    868\u001b[0m \u001b[0;34m\u001b[0m\u001b[0m\n",
      "\u001b[0;32m/Library/Frameworks/Python.framework/Versions/3.6/lib/python3.6/site-packages/joblib/parallel.py\u001b[0m in \u001b[0;36m_dispatch\u001b[0;34m(self, batch)\u001b[0m\n\u001b[1;32m    782\u001b[0m         \u001b[0;32mwith\u001b[0m \u001b[0mself\u001b[0m\u001b[0;34m.\u001b[0m\u001b[0m_lock\u001b[0m\u001b[0;34m:\u001b[0m\u001b[0;34m\u001b[0m\u001b[0m\n\u001b[1;32m    783\u001b[0m             \u001b[0mjob_idx\u001b[0m \u001b[0;34m=\u001b[0m \u001b[0mlen\u001b[0m\u001b[0;34m(\u001b[0m\u001b[0mself\u001b[0m\u001b[0;34m.\u001b[0m\u001b[0m_jobs\u001b[0m\u001b[0;34m)\u001b[0m\u001b[0;34m\u001b[0m\u001b[0m\n\u001b[0;32m--> 784\u001b[0;31m             \u001b[0mjob\u001b[0m \u001b[0;34m=\u001b[0m \u001b[0mself\u001b[0m\u001b[0;34m.\u001b[0m\u001b[0m_backend\u001b[0m\u001b[0;34m.\u001b[0m\u001b[0mapply_async\u001b[0m\u001b[0;34m(\u001b[0m\u001b[0mbatch\u001b[0m\u001b[0;34m,\u001b[0m \u001b[0mcallback\u001b[0m\u001b[0;34m=\u001b[0m\u001b[0mcb\u001b[0m\u001b[0;34m)\u001b[0m\u001b[0;34m\u001b[0m\u001b[0m\n\u001b[0m\u001b[1;32m    785\u001b[0m             \u001b[0;31m# A job can complete so quickly than its callback is\u001b[0m\u001b[0;34m\u001b[0m\u001b[0;34m\u001b[0m\u001b[0m\n\u001b[1;32m    786\u001b[0m             \u001b[0;31m# called before we get here, causing self._jobs to\u001b[0m\u001b[0;34m\u001b[0m\u001b[0;34m\u001b[0m\u001b[0m\n",
      "\u001b[0;32m/Library/Frameworks/Python.framework/Versions/3.6/lib/python3.6/site-packages/joblib/_parallel_backends.py\u001b[0m in \u001b[0;36mapply_async\u001b[0;34m(self, func, callback)\u001b[0m\n\u001b[1;32m    206\u001b[0m     \u001b[0;32mdef\u001b[0m \u001b[0mapply_async\u001b[0m\u001b[0;34m(\u001b[0m\u001b[0mself\u001b[0m\u001b[0;34m,\u001b[0m \u001b[0mfunc\u001b[0m\u001b[0;34m,\u001b[0m \u001b[0mcallback\u001b[0m\u001b[0;34m=\u001b[0m\u001b[0;32mNone\u001b[0m\u001b[0;34m)\u001b[0m\u001b[0;34m:\u001b[0m\u001b[0;34m\u001b[0m\u001b[0m\n\u001b[1;32m    207\u001b[0m         \u001b[0;34m\"\"\"Schedule a func to be run\"\"\"\u001b[0m\u001b[0;34m\u001b[0m\u001b[0m\n\u001b[0;32m--> 208\u001b[0;31m         \u001b[0mresult\u001b[0m \u001b[0;34m=\u001b[0m \u001b[0mImmediateResult\u001b[0m\u001b[0;34m(\u001b[0m\u001b[0mfunc\u001b[0m\u001b[0;34m)\u001b[0m\u001b[0;34m\u001b[0m\u001b[0m\n\u001b[0m\u001b[1;32m    209\u001b[0m         \u001b[0;32mif\u001b[0m \u001b[0mcallback\u001b[0m\u001b[0;34m:\u001b[0m\u001b[0;34m\u001b[0m\u001b[0m\n\u001b[1;32m    210\u001b[0m             \u001b[0mcallback\u001b[0m\u001b[0;34m(\u001b[0m\u001b[0mresult\u001b[0m\u001b[0;34m)\u001b[0m\u001b[0;34m\u001b[0m\u001b[0m\n",
      "\u001b[0;32m/Library/Frameworks/Python.framework/Versions/3.6/lib/python3.6/site-packages/joblib/_parallel_backends.py\u001b[0m in \u001b[0;36m__init__\u001b[0;34m(self, batch)\u001b[0m\n\u001b[1;32m    570\u001b[0m         \u001b[0;31m# Don't delay the application, to avoid keeping the input\u001b[0m\u001b[0;34m\u001b[0m\u001b[0;34m\u001b[0m\u001b[0m\n\u001b[1;32m    571\u001b[0m         \u001b[0;31m# arguments in memory\u001b[0m\u001b[0;34m\u001b[0m\u001b[0;34m\u001b[0m\u001b[0m\n\u001b[0;32m--> 572\u001b[0;31m         \u001b[0mself\u001b[0m\u001b[0;34m.\u001b[0m\u001b[0mresults\u001b[0m \u001b[0;34m=\u001b[0m \u001b[0mbatch\u001b[0m\u001b[0;34m(\u001b[0m\u001b[0;34m)\u001b[0m\u001b[0;34m\u001b[0m\u001b[0m\n\u001b[0m\u001b[1;32m    573\u001b[0m \u001b[0;34m\u001b[0m\u001b[0m\n\u001b[1;32m    574\u001b[0m     \u001b[0;32mdef\u001b[0m \u001b[0mget\u001b[0m\u001b[0;34m(\u001b[0m\u001b[0mself\u001b[0m\u001b[0;34m)\u001b[0m\u001b[0;34m:\u001b[0m\u001b[0;34m\u001b[0m\u001b[0m\n",
      "\u001b[0;32m/Library/Frameworks/Python.framework/Versions/3.6/lib/python3.6/site-packages/joblib/parallel.py\u001b[0m in \u001b[0;36m__call__\u001b[0;34m(self)\u001b[0m\n\u001b[1;32m    261\u001b[0m         \u001b[0;32mwith\u001b[0m \u001b[0mparallel_backend\u001b[0m\u001b[0;34m(\u001b[0m\u001b[0mself\u001b[0m\u001b[0;34m.\u001b[0m\u001b[0m_backend\u001b[0m\u001b[0;34m,\u001b[0m \u001b[0mn_jobs\u001b[0m\u001b[0;34m=\u001b[0m\u001b[0mself\u001b[0m\u001b[0;34m.\u001b[0m\u001b[0m_n_jobs\u001b[0m\u001b[0;34m)\u001b[0m\u001b[0;34m:\u001b[0m\u001b[0;34m\u001b[0m\u001b[0m\n\u001b[1;32m    262\u001b[0m             return [func(*args, **kwargs)\n\u001b[0;32m--> 263\u001b[0;31m                     for func, args, kwargs in self.items]\n\u001b[0m\u001b[1;32m    264\u001b[0m \u001b[0;34m\u001b[0m\u001b[0m\n\u001b[1;32m    265\u001b[0m     \u001b[0;32mdef\u001b[0m \u001b[0m__reduce__\u001b[0m\u001b[0;34m(\u001b[0m\u001b[0mself\u001b[0m\u001b[0;34m)\u001b[0m\u001b[0;34m:\u001b[0m\u001b[0;34m\u001b[0m\u001b[0m\n",
      "\u001b[0;32m/Library/Frameworks/Python.framework/Versions/3.6/lib/python3.6/site-packages/joblib/parallel.py\u001b[0m in \u001b[0;36m<listcomp>\u001b[0;34m(.0)\u001b[0m\n\u001b[1;32m    261\u001b[0m         \u001b[0;32mwith\u001b[0m \u001b[0mparallel_backend\u001b[0m\u001b[0;34m(\u001b[0m\u001b[0mself\u001b[0m\u001b[0;34m.\u001b[0m\u001b[0m_backend\u001b[0m\u001b[0;34m,\u001b[0m \u001b[0mn_jobs\u001b[0m\u001b[0;34m=\u001b[0m\u001b[0mself\u001b[0m\u001b[0;34m.\u001b[0m\u001b[0m_n_jobs\u001b[0m\u001b[0;34m)\u001b[0m\u001b[0;34m:\u001b[0m\u001b[0;34m\u001b[0m\u001b[0m\n\u001b[1;32m    262\u001b[0m             return [func(*args, **kwargs)\n\u001b[0;32m--> 263\u001b[0;31m                     for func, args, kwargs in self.items]\n\u001b[0m\u001b[1;32m    264\u001b[0m \u001b[0;34m\u001b[0m\u001b[0m\n\u001b[1;32m    265\u001b[0m     \u001b[0;32mdef\u001b[0m \u001b[0m__reduce__\u001b[0m\u001b[0;34m(\u001b[0m\u001b[0mself\u001b[0m\u001b[0;34m)\u001b[0m\u001b[0;34m:\u001b[0m\u001b[0;34m\u001b[0m\u001b[0m\n",
      "\u001b[0;32m/Library/Frameworks/Python.framework/Versions/3.6/lib/python3.6/site-packages/sklearn/neighbors/_base.py\u001b[0m in \u001b[0;36m_tree_query_parallel_helper\u001b[0;34m(tree, *args, **kwargs)\u001b[0m\n\u001b[1;32m    490\u001b[0m     \u001b[0munder\u001b[0m \u001b[0mPyPy\u001b[0m\u001b[0;34m.\u001b[0m\u001b[0;34m\u001b[0m\u001b[0m\n\u001b[1;32m    491\u001b[0m     \"\"\"\n\u001b[0;32m--> 492\u001b[0;31m     \u001b[0;32mreturn\u001b[0m \u001b[0mtree\u001b[0m\u001b[0;34m.\u001b[0m\u001b[0mquery\u001b[0m\u001b[0;34m(\u001b[0m\u001b[0;34m*\u001b[0m\u001b[0margs\u001b[0m\u001b[0;34m,\u001b[0m \u001b[0;34m**\u001b[0m\u001b[0mkwargs\u001b[0m\u001b[0;34m)\u001b[0m\u001b[0;34m\u001b[0m\u001b[0m\n\u001b[0m\u001b[1;32m    493\u001b[0m \u001b[0;34m\u001b[0m\u001b[0m\n\u001b[1;32m    494\u001b[0m \u001b[0;34m\u001b[0m\u001b[0m\n",
      "\u001b[0;31mKeyboardInterrupt\u001b[0m: "
     ]
    }
   ],
   "source": [
    "ks = []\n",
    "f1s = [[], []]\n",
    "\n",
    "k_max=200\n",
    "\n",
    "metrics= ['euclidean', 'manhattan']\n",
    "\n",
    "for k in range(1, k_max):\n",
    "    models = [KNeighborsClassifier(n_neighbors=k, weights=\"distance\", metric='euclidean'),\n",
    "              KNeighborsClassifier(n_neighbors=k, weights=\"distance\", metric='manhattan')]\n",
    "    \n",
    "    for i, m in enumerate(models):\n",
    "        scores = cross_val_score(estimator=m, \n",
    "                        X=train_all_features_standard, \n",
    "                        y=train_labels.values.ravel(), \n",
    "                        cv=5,\n",
    "                        scoring='f1_macro')\n",
    "        f1s[i].append(np.mean(scores))\n",
    "        print(k, metrics[i], k_max, np.mean(scores))\n",
    "    ks.append(k)\n",
    "\n",
    "# knn_clf = m\n",
    "\n",
    "# knn_clf.fit(train_all_features, train_labels.values.ravel())"
   ]
  },
  {
   "cell_type": "code",
   "execution_count": 729,
   "metadata": {
    "ExecuteTime": {
     "end_time": "2020-10-15T10:57:09.008007Z",
     "start_time": "2020-10-15T10:57:08.860127Z"
    },
    "hidden": true,
    "scrolled": true
   },
   "outputs": [
    {
     "data": {
      "image/png": "[encoded data removed]",
      "text/plain": [
       "<Figure size 432x288 with 1 Axes>"
      ]
     },
     "metadata": {},
     "output_type": "display_data"
    },
    {
     "name": "stdout",
     "output_type": "stream",
     "text": [
      "k maximize f1-score : 6 with 0.24003692444554794\n"
     ]
    }
   ],
   "source": [
    "draw_k_line_chart(ks[:30], f1s[0][:30], \"f1 score\", \"knn euclidean\")\n",
    "knn_euclidean_k = ks[np.argmax(f1s[0])]\n",
    "print(\"k maximize f1-score :\", knn_euclidean_k, \"with\", f1s[0][np.argmax(f1s[0])])"
   ]
  },
  {
   "cell_type": "code",
   "execution_count": 736,
   "metadata": {
    "ExecuteTime": {
     "end_time": "2020-10-15T11:06:03.818388Z",
     "start_time": "2020-10-15T11:06:03.633861Z"
    },
    "hidden": true
   },
   "outputs": [
    {
     "data": {
      "image/png": "[encoded data removed]",
      "text/plain": [
       "<Figure size 432x288 with 1 Axes>"
      ]
     },
     "metadata": {},
     "output_type": "display_data"
    },
    {
     "name": "stdout",
     "output_type": "stream",
     "text": [
      "k maximize f1-score : 1 with 0.22380132378915638\n"
     ]
    }
   ],
   "source": [
    "draw_k_line_chart(ks[:30], f1s[1][:30], \"f1 score\", \"knn manhattan\")\n",
    "knn_euclidean_k = ks[np.argmax(f1s[1])]\n",
    "print(\"k maximize f1-score :\", knn_euclidean_k, \"with\", f1s[1][np.argmax(f1s[1])])"
   ]
  },
  {
   "cell_type": "markdown",
   "metadata": {
    "heading_collapsed": true,
    "hidden": true
   },
   "source": [
    "### dt"
   ]
  },
  {
   "cell_type": "code",
   "execution_count": 427,
   "metadata": {
    "ExecuteTime": {
     "end_time": "2020-10-10T14:26:06.782788Z",
     "start_time": "2020-10-10T14:11:00.415830Z"
    },
    "hidden": true,
    "scrolled": true
   },
   "outputs": [
    {
     "name": "stdout",
     "output_type": "stream",
     "text": [
      "1 0.1269870507149139\n",
      "2 0.2229490179566262\n",
      "3 0.3280593258149846\n",
      "4 0.3590542157636648\n",
      "5 0.3810138740096459\n",
      "6 0.41637049678555094\n",
      "7 0.4267722975536536\n",
      "8 0.43794641976077886\n",
      "9 0.44689071072966496\n",
      "10 0.4410342181234845\n",
      "11 0.435978466142749\n",
      "12 0.43382174624985315\n",
      "13 0.4330280577491223\n",
      "14 0.43441565318286424\n",
      "15 0.4305731359445873\n",
      "16 0.4266265562259254\n",
      "17 0.4282033925957279\n",
      "18 0.4224738098974131\n",
      "19 0.4240862809134839\n",
      "20 0.42522123095633557\n",
      "21 0.4241165113840538\n",
      "22 0.42607496947592727\n",
      "23 0.42657997433145756\n",
      "24 0.4243978924676341\n",
      "25 0.4243978924676341\n",
      "26 0.4243978924676341\n",
      "27 0.4243978924676341\n",
      "28 0.4243978924676341\n",
      "29 0.4243978924676341\n",
      "30 0.4243978924676341\n",
      "31 0.4243978924676341\n",
      "32 0.4243978924676341\n",
      "33 0.4243978924676341\n",
      "34 0.4243978924676341\n",
      "35 0.4243978924676341\n"
     ]
    }
   ],
   "source": [
    "dt = DecisionTreeClassifier(criterion=\"entropy\",\n",
    "                            random_state=RANDOM_STATE)\n",
    "\n",
    "dt_f1s = []\n",
    "ds = [i for i in range(1, 36)] #len(train_dt.columns))]\n",
    "for d in ds:\n",
    "    dt.set_params(max_depth=d)\n",
    "\n",
    "    scores = cross_val_score(estimator=dt, \n",
    "                        X=train_all_features, \n",
    "                        y=train_labels.values.ravel(), \n",
    "                        cv=5,\n",
    "                        scoring='f1_macro')\n",
    "    dt_f1s.append(np.mean(scores))\n",
    "    \n",
    "    print(d, np.mean(scores))"
   ]
  },
  {
   "cell_type": "code",
   "execution_count": 730,
   "metadata": {
    "ExecuteTime": {
     "end_time": "2020-10-15T10:59:16.398266Z",
     "start_time": "2020-10-15T10:59:16.242853Z"
    },
    "hidden": true,
    "scrolled": true
   },
   "outputs": [
    {
     "data": {
      "image/png": "[encoded data removed]",
      "text/plain": [
       "<Figure size 432x288 with 1 Axes>"
      ]
     },
     "metadata": {},
     "output_type": "display_data"
    },
    {
     "name": "stdout",
     "output_type": "stream",
     "text": [
      "max_depth maximize f1-score : 9 with 0.44689071072966496\n"
     ]
    }
   ],
   "source": [
    "draw_k_line_chart(ds[:30], dt_f1s[:30], \"f1 score\", \"entropy Dt\", xlabel=\"max_depth\")\n",
    "best_md = ds[np.argmax(dt_f1s)]\n",
    "print(\"max_depth maximize f1-score :\", best_md, \"with\", dt_f1s[np.argmax(dt_f1s)])"
   ]
  },
  {
   "cell_type": "markdown",
   "metadata": {
    "hidden": true
   },
   "source": [
    "### rf"
   ]
  },
  {
   "cell_type": "code",
   "execution_count": null,
   "metadata": {
    "hidden": true
   },
   "outputs": [],
   "source": [
    "rf = RandomForestClassifier(n_estimators = 2000, \n",
    "                         random_state=RANDOM_STATE, \n",
    "                         criterion=\"entropy\",\n",
    "                         max_depth=9)\n",
    "rf_ns = [10, 100, 300, 500, 700, 1000, 1500]\n",
    "rf_f1s = []"
   ]
  },
  {
   "cell_type": "code",
   "execution_count": 441,
   "metadata": {
    "ExecuteTime": {
     "end_time": "2020-10-11T03:57:08.964504Z",
     "start_time": "2020-10-11T03:40:06.831521Z"
    },
    "hidden": true
   },
   "outputs": [
    {
     "name": "stdout",
     "output_type": "stream",
     "text": [
      "10 0.4336184980646694\n",
      "100 0.4707763296717129\n",
      "300 0.47797978092820725\n",
      "500 0.4763764517524186\n",
      "700 0.47728313435327285\n",
      "1000 0.4779121358327143\n",
      "1500 0.4767749808194763\n"
     ]
    }
   ],
   "source": [
    "for ns in rf_ns:\n",
    "    rf.set_params(n_estimators = ns)\n",
    "    \n",
    "    scores = cross_val_score(estimator=rf, \n",
    "                        X=train_all_features, \n",
    "                        y=train_labels.values.ravel(), \n",
    "                        cv=5,\n",
    "                        scoring='f1_macro')\n",
    "    rf_f1s.append(np.mean(scores))\n",
    "    \n",
    "    print(ns, np.mean(scores))"
   ]
  },
  {
   "cell_type": "code",
   "execution_count": 731,
   "metadata": {
    "ExecuteTime": {
     "end_time": "2020-10-15T10:59:20.466581Z",
     "start_time": "2020-10-15T10:59:20.314636Z"
    },
    "hidden": true
   },
   "outputs": [
    {
     "data": {
      "image/png": "[encoded data removed]",
      "text/plain": [
       "<Figure size 432x288 with 1 Axes>"
      ]
     },
     "metadata": {},
     "output_type": "display_data"
    },
    {
     "name": "stdout",
     "output_type": "stream",
     "text": [
      "n_estimator maximize f1-score : 300 with 0.47797978092820725\n"
     ]
    }
   ],
   "source": [
    "draw_k_line_chart(rf_ns, rf_f1s, \"f1 score\", \"Rf\", xlabel=\"n_estimator\")\n",
    "best_rf_ns = rf_ns[np.argmax(rf_f1s)]\n",
    "print(\"n_estimator maximize f1-score :\", best_rf_ns, \"with\", rf_f1s[np.argmax(rf_f1s)])"
   ]
  },
  {
   "cell_type": "markdown",
   "metadata": {
    "hidden": true
   },
   "source": [
    "### mlp"
   ]
  },
  {
   "cell_type": "code",
   "execution_count": 733,
   "metadata": {
    "ExecuteTime": {
     "end_time": "2020-10-15T10:59:32.206578Z",
     "start_time": "2020-10-15T10:59:32.202217Z"
    },
    "hidden": true
   },
   "outputs": [],
   "source": [
    "mlp = MLPClassifier(random_state=RANDOM_STATE, \n",
    "                                  max_iter=300,\n",
    "                                  hidden_layer_sizes=100,\n",
    "                                  activation='relu',\n",
    "                                  solver='adam'\n",
    "                                 )\n",
    "\n",
    "hl_sizes = [(100), (100,100), (100,100,100), (100,100,100,100)]\n",
    "xs = [i for i in range(1, len(hl_sizes)+1)]\n",
    "\n",
    "mlp_f1s = []"
   ]
  },
  {
   "cell_type": "code",
   "execution_count": 734,
   "metadata": {
    "ExecuteTime": {
     "end_time": "2020-10-15T11:06:03.434221Z",
     "start_time": "2020-10-15T10:59:33.162010Z"
    },
    "hidden": true
   },
   "outputs": [
    {
     "name": "stdout",
     "output_type": "stream",
     "text": [
      "100 0.5429877857042245\n",
      "(100, 100) 0.5296416110685624\n",
      "(100, 100, 100) 0.5366939574889715\n",
      "(100, 100, 100, 100) 0.5378410781524601\n"
     ]
    }
   ],
   "source": [
    "for hl in hl_sizes:\n",
    "    mlp.set_params(hidden_layer_sizes = hl)\n",
    "    \n",
    "    scores = cross_val_score(estimator=mlp, \n",
    "                        X=train_all_features_standard, \n",
    "                        y=train_labels.values.ravel(), \n",
    "                        cv=5,\n",
    "                        scoring='f1_macro')\n",
    "    mlp_f1s.append(np.mean(scores))\n",
    "    \n",
    "    print(hl, np.mean(scores))"
   ]
  },
  {
   "cell_type": "code",
   "execution_count": 735,
   "metadata": {
    "ExecuteTime": {
     "end_time": "2020-10-15T11:06:03.629541Z",
     "start_time": "2020-10-15T11:06:03.436752Z"
    },
    "hidden": true
   },
   "outputs": [
    {
     "data": {
      "image/png": "[encoded data removed]",
      "text/plain": [
       "<Figure size 432x288 with 1 Axes>"
      ]
     },
     "metadata": {},
     "output_type": "display_data"
    },
    {
     "name": "stdout",
     "output_type": "stream",
     "text": [
      "hidden_layer_size maximize f1-score : 100 with 0.5429877857042245\n"
     ]
    }
   ],
   "source": [
    "draw_k_line_chart(xs, mlp_f1s, \"f1 score\", \"Mlp\", xlabel=\"hidden_layer_sizes\")\n",
    "best_hl_ns = xs[np.argmax(mlp_f1s)] - 1\n",
    "print(\"hidden_layer_size maximize f1-score :\", str(hl_sizes[best_hl_ns]), \"with\", mlp_f1s[np.argmax(mlp_f1s)])"
   ]
  },
  {
   "cell_type": "markdown",
   "metadata": {
    "heading_collapsed": true
   },
   "source": [
    "## model comparision"
   ]
  },
  {
   "cell_type": "markdown",
   "metadata": {
    "hidden": true
   },
   "source": [
    "### compare"
   ]
  },
  {
   "cell_type": "markdown",
   "metadata": {
    "heading_collapsed": true,
    "hidden": true
   },
   "source": [
    "#### continous"
   ]
  },
  {
   "cell_type": "code",
   "execution_count": 699,
   "metadata": {
    "ExecuteTime": {
     "end_time": "2020-10-15T04:55:31.827572Z",
     "start_time": "2020-10-15T04:55:31.810595Z"
    },
    "hidden": true
   },
   "outputs": [],
   "source": [
    "models = [\n",
    "    DummyClassifier(strategy=\"most_frequent\"),\n",
    "    GaussianNB(),\n",
    "    make_pipeline(StandardScaler(), KNeighborsClassifier(n_neighbors=6, weights=\"distance\", metric='euclidean')),\n",
    "    DecisionTreeClassifier(criterion=\"entropy\", max_depth=9, random_state=RANDOM_STATE),\n",
    "    RandomForestClassifier(n_estimators = 300, \n",
    "                         random_state=RANDOM_STATE, \n",
    "                         criterion=\"entropy\",\n",
    "                         max_depth=9),\n",
    "    make_pipeline(StandardScaler(), \n",
    "                 MLPClassifier(random_state=RANDOM_STATE, \n",
    "                                  max_iter=300,\n",
    "                                  hidden_layer_sizes=100,\n",
    "                                  activation='relu',\n",
    "                                  solver='adam'\n",
    "                                 )\n",
    "                )\n",
    "]"
   ]
  },
  {
   "cell_type": "code",
   "execution_count": 700,
   "metadata": {
    "ExecuteTime": {
     "end_time": "2020-10-15T04:55:33.806520Z",
     "start_time": "2020-10-15T04:55:33.803298Z"
    },
    "hidden": true
   },
   "outputs": [],
   "source": [
    "model_names = [\n",
    "    \"Zero-R\",\n",
    "    \"Gaussian NB\",\n",
    "    \"Knn\",\n",
    "    \"Decision tree\",\n",
    "    \"Random forest\",\n",
    "    \"Multi-layer perceptron\",\n",
    "]"
   ]
  },
  {
   "cell_type": "code",
   "execution_count": 701,
   "metadata": {
    "ExecuteTime": {
     "end_time": "2020-10-15T04:57:02.415842Z",
     "start_time": "2020-10-15T04:55:36.227060Z"
    },
    "hidden": true
   },
   "outputs": [],
   "source": [
    "models = train(models, train_all_features, train_labels)"
   ]
  },
  {
   "cell_type": "code",
   "execution_count": 702,
   "metadata": {
    "ExecuteTime": {
     "end_time": "2020-10-15T04:57:23.865168Z",
     "start_time": "2020-10-15T04:57:02.418125Z"
    },
    "hidden": true
   },
   "outputs": [],
   "source": [
    "preds = predict(models, valid_all_features)"
   ]
  },
  {
   "cell_type": "code",
   "execution_count": 703,
   "metadata": {
    "ExecuteTime": {
     "end_time": "2020-10-15T04:57:23.915087Z",
     "start_time": "2020-10-15T04:57:23.867210Z"
    },
    "hidden": true
   },
   "outputs": [],
   "source": [
    "m_f1s = []\n",
    "m_acc = []\n",
    "\n",
    "for p in preds:\n",
    "    _, acc, pref = evaluate(p, valid_labels.values.ravel())\n",
    "    m_acc.append(acc)\n",
    "    m_f1s.append(pref[2])\n",
    "    "
   ]
  },
  {
   "cell_type": "code",
   "execution_count": 704,
   "metadata": {
    "ExecuteTime": {
     "end_time": "2020-10-15T04:57:24.102410Z",
     "start_time": "2020-10-15T04:57:23.917199Z"
    },
    "hidden": true
   },
   "outputs": [
    {
     "data": {
      "image/png": "[encoded data removed]",
      "text/plain": [
       "<Figure size 432x288 with 1 Axes>"
      ]
     },
     "metadata": {},
     "output_type": "display_data"
    },
    {
     "name": "stdout",
     "output_type": "stream",
     "text": [
      "[('Zero-R', 0.12222222222222222),\n",
      " ('Gaussian NB', 0.6177777777777778),\n",
      " ('Knn', 0.28444444444444444),\n",
      " ('Decision tree', 0.4533333333333333),\n",
      " ('Random forest', 0.5977777777777777),\n",
      " ('Multi-layer perceptron', 0.6222222222222222)]\n"
     ]
    }
   ],
   "source": [
    "plt.bar(x=model_names, height=m_acc)\n",
    "plt.ylabel(\"macro accuracy\")\n",
    "plt.xticks(rotation=90)\n",
    "plt.title(\"Model performance on valid data-set\")\n",
    "plt.show()\n",
    "pprint(list(zip(model_names, m_acc)))"
   ]
  },
  {
   "cell_type": "code",
   "execution_count": 705,
   "metadata": {
    "ExecuteTime": {
     "end_time": "2020-10-15T04:57:24.285360Z",
     "start_time": "2020-10-15T04:57:24.105114Z"
    },
    "hidden": true
   },
   "outputs": [
    {
     "data": {
      "image/png": "[encoded data removed]",
      "text/plain": [
       "<Figure size 432x288 with 1 Axes>"
      ]
     },
     "metadata": {},
     "output_type": "display_data"
    },
    {
     "name": "stdout",
     "output_type": "stream",
     "text": [
      "[('Zero-R', 0.027227722772277228),\n",
      " ('Gaussian NB', 0.5791759087379859),\n",
      " ('Knn', 0.23582657635076987),\n",
      " ('Decision tree', 0.4351733143531153),\n",
      " ('Random forest', 0.5295263553144117),\n",
      " ('Multi-layer perceptron', 0.5754623232960369)]\n"
     ]
    }
   ],
   "source": [
    "plt.bar(x=model_names, height=m_f1s)\n",
    "plt.ylabel(\"macro f1\")\n",
    "plt.xticks(rotation=90)\n",
    "plt.title(\"Model performance on valid data-set\")\n",
    "plt.show()\n",
    "pprint(list(zip(model_names, m_f1s)))"
   ]
  },
  {
   "cell_type": "markdown",
   "metadata": {
    "heading_collapsed": true,
    "hidden": true
   },
   "source": [
    "#### discrete"
   ]
  },
  {
   "cell_type": "code",
   "execution_count": 637,
   "metadata": {
    "ExecuteTime": {
     "end_time": "2020-10-13T03:00:54.669570Z",
     "start_time": "2020-10-13T03:00:54.663783Z"
    },
    "hidden": true
   },
   "outputs": [],
   "source": [
    "models = [\n",
    "    DummyClassifier(strategy=\"most_frequent\"),\n",
    "    make_pipeline(KBinsDiscretizer(n_bins=10,\n",
    "                                   encode='ordinal',\n",
    "                                   strategy='quantile'\n",
    "                                  ), \n",
    "                  MultinomialNB(alpha=1.0)),\n",
    "    make_pipeline(KBinsDiscretizer(n_bins=10,\n",
    "                                   encode='ordinal',\n",
    "                                   strategy='quantile'\n",
    "                                  ), \n",
    "                  CategoricalNB(alpha=1.0))\n",
    "]"
   ]
  },
  {
   "cell_type": "code",
   "execution_count": 638,
   "metadata": {
    "ExecuteTime": {
     "end_time": "2020-10-13T03:00:55.322768Z",
     "start_time": "2020-10-13T03:00:55.319683Z"
    },
    "hidden": true
   },
   "outputs": [],
   "source": [
    "model_names = [\n",
    "    \"Zero-R\",\n",
    "    \"Multinominal NB\",\n",
    "    \"Categorical NB\",\n",
    "]"
   ]
  },
  {
   "cell_type": "code",
   "execution_count": 639,
   "metadata": {
    "ExecuteTime": {
     "end_time": "2020-10-13T03:01:05.182574Z",
     "start_time": "2020-10-13T03:00:55.951426Z"
    },
    "hidden": true
   },
   "outputs": [],
   "source": [
    "models = train(models, train_all_features, train_labels)"
   ]
  },
  {
   "cell_type": "code",
   "execution_count": 640,
   "metadata": {
    "ExecuteTime": {
     "end_time": "2020-10-13T03:01:05.594001Z",
     "start_time": "2020-10-13T03:01:05.184430Z"
    },
    "hidden": true
   },
   "outputs": [],
   "source": [
    "preds = predict(models, valid_all_features)"
   ]
  },
  {
   "cell_type": "code",
   "execution_count": 641,
   "metadata": {
    "ExecuteTime": {
     "end_time": "2020-10-13T03:01:05.619830Z",
     "start_time": "2020-10-13T03:01:05.595967Z"
    },
    "hidden": true
   },
   "outputs": [],
   "source": [
    "m_f1s = []\n",
    "m_acc = []\n",
    "\n",
    "for p in preds:\n",
    "    _, acc, pref = evaluate(p, valid_labels.values.ravel())\n",
    "    m_acc.append(acc)\n",
    "    m_f1s.append(pref[2])"
   ]
  },
  {
   "cell_type": "code",
   "execution_count": 642,
   "metadata": {
    "ExecuteTime": {
     "end_time": "2020-10-13T03:01:05.759399Z",
     "start_time": "2020-10-13T03:01:05.621455Z"
    },
    "hidden": true
   },
   "outputs": [
    {
     "data": {
      "image/png": "[encoded data removed]",
      "text/plain": [
       "<Figure size 432x288 with 1 Axes>"
      ]
     },
     "metadata": {},
     "output_type": "display_data"
    },
    {
     "name": "stdout",
     "output_type": "stream",
     "text": [
      "[('Zero-R', 0.12222222222222222),\n",
      " ('Multinominal NB', 0.4666666666666667),\n",
      " ('Categorical NB', 0.5666666666666667)]\n"
     ]
    }
   ],
   "source": [
    "plt.bar(x=model_names, height=m_acc)\n",
    "plt.ylabel(\"macro accuracy\")\n",
    "plt.xticks(rotation=90)\n",
    "plt.title(\"Model performance on valid data-set\")\n",
    "plt.show()\n",
    "pprint(list(zip(model_names, m_acc)))"
   ]
  },
  {
   "cell_type": "code",
   "execution_count": 643,
   "metadata": {
    "ExecuteTime": {
     "end_time": "2020-10-13T03:01:05.907934Z",
     "start_time": "2020-10-13T03:01:05.762060Z"
    },
    "hidden": true
   },
   "outputs": [
    {
     "data": {
      "image/png": "[encoded data removed]",
      "text/plain": [
       "<Figure size 432x288 with 1 Axes>"
      ]
     },
     "metadata": {},
     "output_type": "display_data"
    },
    {
     "name": "stdout",
     "output_type": "stream",
     "text": [
      "[('Zero-R', 0.027227722772277228),\n",
      " ('Multinominal NB', 0.44658737205993293),\n",
      " ('Categorical NB', 0.5535938550720744)]\n"
     ]
    }
   ],
   "source": [
    "plt.bar(x=model_names, height=m_f1s)\n",
    "plt.ylabel(\"macro f1\")\n",
    "plt.xticks(rotation=90)\n",
    "plt.title(\"Model performance on valid data-set\")\n",
    "plt.show()\n",
    "pprint(list(zip(model_names, m_f1s)))"
   ]
  },
  {
   "cell_type": "code",
   "execution_count": 646,
   "metadata": {
    "ExecuteTime": {
     "end_time": "2020-10-13T03:02:03.595249Z",
     "start_time": "2020-10-13T03:02:03.361191Z"
    },
    "hidden": true
   },
   "outputs": [],
   "source": [
    "test_preds = predict([models[2]], test_all_features)\n",
    "test_preds[0].reset_index(level=0).to_csv(path_or_buf=\"test_pred.csv\", columns=[\"trackID\", \"genre\"], index=False)"
   ]
  },
  {
   "cell_type": "code",
   "execution_count": null,
   "metadata": {
    "hidden": true
   },
   "outputs": [],
   "source": []
  },
  {
   "cell_type": "markdown",
   "metadata": {
    "heading_collapsed": true,
    "hidden": true
   },
   "source": [
    "### inspect knn"
   ]
  },
  {
   "cell_type": "code",
   "execution_count": 479,
   "metadata": {
    "ExecuteTime": {
     "end_time": "2020-10-11T10:46:11.951029Z",
     "start_time": "2020-10-11T10:46:11.642682Z"
    },
    "hidden": true
   },
   "outputs": [
    {
     "name": "stderr",
     "output_type": "stream",
     "text": [
      "/Library/Frameworks/Python.framework/Versions/3.6/lib/python3.6/site-packages/sklearn/metrics/_classification.py:1221: UndefinedMetricWarning: Precision and F-score are ill-defined and being set to 0.0 in labels with no predicted samples. Use `zero_division` parameter to control this behavior.\n",
      "  _warn_prf(average, modifier, msg_start, len(result))\n"
     ]
    },
    {
     "name": "stdout",
     "output_type": "stream",
     "text": [
      "                       precision    recall  f1-score   support\n",
      "\n",
      " classic pop and rock       0.20      0.84      0.32        55\n",
      "dance and electronica       0.15      0.29      0.20        45\n",
      "                 folk       0.30      0.20      0.24        64\n",
      "       jazz and blues       0.00      0.00      0.00        44\n",
      "                metal       0.00      0.00      0.00        66\n",
      "                  pop       0.72      0.49      0.58        74\n",
      "                 punk       0.33      0.14      0.19        44\n",
      "      soul and reggae       0.64      0.24      0.35        58\n",
      "\n",
      "             accuracy                           0.28       450\n",
      "            macro avg       0.29      0.27      0.24       450\n",
      "         weighted avg       0.31      0.28      0.25       450\n",
      "\n"
     ]
    },
    {
     "data": {
      "image/png": "[encoded data removed]",
      "text/plain": [
       "<Figure size 720x216 with 2 Axes>"
      ]
     },
     "metadata": {},
     "output_type": "display_data"
    }
   ],
   "source": [
    "print(classification_report(valid_labels, preds[2], target_names=models[2].classes_))\n",
    "draw_train_valid_label_distribution(pd.DataFrame(pred, columns=valid_labels.columns, index=valid_all_features.index), \n",
    "                                    valid_labels,\n",
    "                                    title1=\"knn k=6 euclidean\")"
   ]
  },
  {
   "cell_type": "code",
   "execution_count": 482,
   "metadata": {
    "ExecuteTime": {
     "end_time": "2020-10-11T10:55:57.304042Z",
     "start_time": "2020-10-11T10:55:57.295042Z"
    },
    "hidden": true
   },
   "outputs": [
    {
     "name": "stderr",
     "output_type": "stream",
     "text": [
      "/Library/Frameworks/Python.framework/Versions/3.6/lib/python3.6/site-packages/sklearn/metrics/_classification.py:1221: UndefinedMetricWarning: Precision and F-score are ill-defined and being set to 0.0 in labels with no predicted samples. Use `zero_division` parameter to control this behavior.\n",
      "  _warn_prf(average, modifier, msg_start, len(result))\n"
     ]
    }
   ],
   "source": [
    "cm, _, _ = evaluate(preds[2], valid_labels.values.ravel())"
   ]
  },
  {
   "cell_type": "code",
   "execution_count": 487,
   "metadata": {
    "ExecuteTime": {
     "end_time": "2020-10-11T11:00:50.286952Z",
     "start_time": "2020-10-11T11:00:27.963495Z"
    },
    "hidden": true
   },
   "outputs": [
    {
     "data": {
      "text/plain": [
       "Text(0.5,1,'knn confusion matrix')"
      ]
     },
     "execution_count": 487,
     "metadata": {},
     "output_type": "execute_result"
    },
    {
     "data": {
      "image/png": "[encoded data removed]",
      "text/plain": [
       "<Figure size 432x288 with 2 Axes>"
      ]
     },
     "metadata": {},
     "output_type": "display_data"
    }
   ],
   "source": [
    "plot_confusion_matrix(models[2], \n",
    "                      valid_all_features, \n",
    "                      valid_labels.values.ravel(),\n",
    "                      xticks_rotation='vertical'\n",
    "                     )\n",
    "plt.title(\"knn confusion matrix\")"
   ]
  },
  {
   "cell_type": "code",
   "execution_count": 493,
   "metadata": {
    "ExecuteTime": {
     "end_time": "2020-10-11T12:17:09.725477Z",
     "start_time": "2020-10-11T12:17:09.722805Z"
    },
    "hidden": true
   },
   "outputs": [],
   "source": [
    "# train_features.loc[train_labels[train_labels[\"genre\"] == \"classic pop and rock\"].index]"
   ]
  },
  {
   "cell_type": "code",
   "execution_count": 517,
   "metadata": {
    "ExecuteTime": {
     "end_time": "2020-10-11T12:35:25.530207Z",
     "start_time": "2020-10-11T12:35:25.525784Z"
    },
    "hidden": true
   },
   "outputs": [],
   "source": [
    "train_all_features_standard_df = pd.DataFrame(train_all_features_standard, \n",
    "                                              index=train_all_features.index,\n",
    "                                              columns=train_all_features.columns\n",
    "                                             )\n",
    "valid_all_features_standard_df = pd.DataFrame(valid_all_features_standard, \n",
    "                                              index=valid_all_features.index,\n",
    "                                              columns=valid_all_features.columns\n",
    "                                             )"
   ]
  },
  {
   "cell_type": "code",
   "execution_count": 525,
   "metadata": {
    "ExecuteTime": {
     "end_time": "2020-10-11T13:37:51.365607Z",
     "start_time": "2020-10-11T12:48:31.106850Z"
    },
    "hidden": true,
    "scrolled": true
   },
   "outputs": [
    {
     "name": "stdout",
     "output_type": "stream",
     "text": [
      "0 450\n",
      "1 450\n",
      "2 450\n",
      "3 450\n",
      "4 450\n",
      "5 450\n",
      "6 450\n",
      "7 450\n",
      "8 450\n",
      "9 450\n",
      "10 450\n",
      "11 450\n",
      "12 450\n",
      "13 450\n",
      "14 450\n",
      "15 450\n",
      "16 450\n",
      "17 450\n",
      "18 450\n",
      "19 450\n",
      "20 450\n",
      "21 450\n",
      "22 450\n",
      "23 450\n",
      "24 450\n",
      "25 450\n",
      "26 450\n",
      "27 450\n",
      "28 450\n",
      "29 450\n",
      "30 450\n",
      "31 450\n",
      "32 450\n",
      "33 450\n",
      "34 450\n",
      "35 450\n",
      "36 450\n",
      "37 450\n",
      "38 450\n",
      "39 450\n",
      "40 450\n",
      "41 450\n",
      "42 450\n",
      "43 450\n",
      "44 450\n",
      "45 450\n",
      "46 450\n",
      "47 450\n",
      "48 450\n",
      "49 450\n",
      "50 450\n",
      "51 450\n",
      "52 450\n",
      "53 450\n",
      "54 450\n",
      "55 450\n",
      "56 450\n",
      "57 450\n",
      "58 450\n",
      "59 450\n",
      "60 450\n",
      "61 450\n",
      "62 450\n",
      "63 450\n",
      "64 450\n",
      "65 450\n",
      "66 450\n",
      "67 450\n",
      "68 450\n",
      "69 450\n",
      "70 450\n",
      "71 450\n",
      "72 450\n",
      "73 450\n",
      "74 450\n",
      "75 450\n",
      "76 450\n",
      "77 450\n",
      "78 450\n",
      "79 450\n",
      "80 450\n",
      "81 450\n",
      "82 450\n",
      "83 450\n",
      "84 450\n",
      "85 450\n",
      "86 450\n",
      "87 450\n",
      "88 450\n",
      "89 450\n",
      "90 450\n",
      "91 450\n",
      "92 450\n",
      "93 450\n",
      "94 450\n",
      "95 450\n",
      "96 450\n",
      "97 450\n",
      "98 450\n",
      "99 450\n",
      "100 450\n",
      "101 450\n",
      "102 450\n",
      "103 450\n",
      "104 450\n",
      "105 450\n",
      "106 450\n",
      "107 450\n",
      "108 450\n",
      "109 450\n",
      "110 450\n",
      "111 450\n",
      "112 450\n",
      "113 450\n",
      "114 450\n",
      "115 450\n",
      "116 450\n",
      "117 450\n",
      "118 450\n",
      "119 450\n",
      "120 450\n",
      "121 450\n",
      "122 450\n",
      "123 450\n",
      "124 450\n",
      "125 450\n",
      "126 450\n",
      "127 450\n",
      "128 450\n",
      "129 450\n",
      "130 450\n",
      "131 450\n",
      "132 450\n",
      "133 450\n",
      "134 450\n",
      "135 450\n",
      "136 450\n",
      "137 450\n",
      "138 450\n",
      "139 450\n",
      "140 450\n",
      "141 450\n",
      "142 450\n",
      "143 450\n",
      "144 450\n",
      "145 450\n",
      "146 450\n",
      "147 450\n",
      "148 450\n",
      "149 450\n",
      "150 450\n",
      "151 450\n",
      "152 450\n",
      "153 450\n",
      "154 450\n",
      "155 450\n",
      "156 450\n",
      "157 450\n",
      "158 450\n",
      "159 450\n",
      "160 450\n",
      "161 450\n",
      "162 450\n",
      "163 450\n",
      "164 450\n",
      "165 450\n",
      "166 450\n",
      "167 450\n",
      "168 450\n",
      "169 450\n",
      "170 450\n",
      "171 450\n",
      "172 450\n",
      "173 450\n",
      "174 450\n",
      "175 450\n",
      "176 450\n",
      "177 450\n",
      "178 450\n",
      "179 450\n",
      "180 450\n",
      "181 450\n",
      "182 450\n",
      "183 450\n",
      "184 450\n",
      "185 450\n",
      "186 450\n",
      "187 450\n",
      "188 450\n",
      "189 450\n",
      "190 450\n",
      "191 450\n",
      "192 450\n",
      "193 450\n",
      "194 450\n",
      "195 450\n",
      "196 450\n",
      "197 450\n",
      "198 450\n",
      "199 450\n",
      "200 450\n",
      "201 450\n",
      "202 450\n",
      "203 450\n",
      "204 450\n",
      "205 450\n",
      "206 450\n",
      "207 450\n",
      "208 450\n",
      "209 450\n",
      "210 450\n",
      "211 450\n",
      "212 450\n",
      "213 450\n",
      "214 450\n",
      "215 450\n",
      "216 450\n",
      "217 450\n",
      "218 450\n",
      "219 450\n",
      "220 450\n",
      "221 450\n",
      "222 450\n",
      "223 450\n",
      "224 450\n",
      "225 450\n",
      "226 450\n",
      "227 450\n",
      "228 450\n",
      "229 450\n",
      "230 450\n",
      "231 450\n",
      "232 450\n",
      "233 450\n",
      "234 450\n",
      "235 450\n",
      "236 450\n",
      "237 450\n",
      "238 450\n",
      "239 450\n",
      "240 450\n",
      "241 450\n",
      "242 450\n",
      "243 450\n",
      "244 450\n",
      "245 450\n",
      "246 450\n",
      "247 450\n",
      "248 450\n",
      "249 450\n",
      "250 450\n",
      "251 450\n",
      "252 450\n",
      "253 450\n",
      "254 450\n",
      "255 450\n",
      "256 450\n",
      "257 450\n",
      "258 450\n",
      "259 450\n",
      "260 450\n",
      "261 450\n",
      "262 450\n",
      "263 450\n",
      "264 450\n",
      "265 450\n",
      "266 450\n",
      "267 450\n",
      "268 450\n",
      "269 450\n",
      "270 450\n",
      "271 450\n",
      "272 450\n",
      "273 450\n",
      "274 450\n",
      "275 450\n",
      "276 450\n",
      "277 450\n",
      "278 450\n",
      "279 450\n",
      "280 450\n",
      "281 450\n",
      "282 450\n",
      "283 450\n",
      "284 450\n",
      "285 450\n",
      "286 450\n",
      "287 450\n",
      "288 450\n",
      "289 450\n",
      "290 450\n",
      "291 450\n",
      "292 450\n",
      "293 450\n",
      "294 450\n",
      "295 450\n",
      "296 450\n",
      "297 450\n",
      "298 450\n",
      "299 450\n",
      "300 450\n",
      "301 450\n",
      "302 450\n",
      "303 450\n",
      "304 450\n",
      "305 450\n",
      "306 450\n",
      "307 450\n",
      "308 450\n",
      "309 450\n",
      "310 450\n",
      "311 450\n",
      "312 450\n",
      "313 450\n",
      "314 450\n",
      "315 450\n",
      "316 450\n",
      "317 450\n",
      "318 450\n",
      "319 450\n",
      "320 450\n",
      "321 450\n",
      "322 450\n",
      "323 450\n",
      "324 450\n",
      "325 450\n",
      "326 450\n",
      "327 450\n",
      "328 450\n",
      "329 450\n",
      "330 450\n",
      "331 450\n",
      "332 450\n",
      "333 450\n",
      "334 450\n",
      "335 450\n",
      "336 450\n",
      "337 450\n",
      "338 450\n",
      "339 450\n",
      "340 450\n",
      "341 450\n",
      "342 450\n",
      "343 450\n",
      "344 450\n",
      "345 450\n",
      "346 450\n",
      "347 450\n",
      "348 450\n",
      "349 450\n",
      "350 450\n",
      "351 450\n",
      "352 450\n",
      "353 450\n",
      "354 450\n",
      "355 450\n",
      "356 450\n",
      "357 450\n",
      "358 450\n",
      "359 450\n",
      "360 450\n",
      "361 450\n",
      "362 450\n",
      "363 450\n",
      "364 450\n",
      "365 450\n",
      "366 450\n",
      "367 450\n",
      "368 450\n",
      "369 450\n",
      "370 450\n",
      "371 450\n",
      "372 450\n",
      "373 450\n",
      "374 450\n",
      "375 450\n",
      "376 450\n",
      "377 450\n",
      "378 450\n",
      "379 450\n",
      "380 450\n",
      "381 450\n",
      "382 450\n",
      "383 450\n",
      "384 450\n",
      "385 450\n",
      "386 450\n",
      "387 450\n",
      "388 450\n",
      "389 450\n",
      "390 450\n",
      "391 450\n",
      "392 450\n",
      "393 450\n",
      "394 450\n",
      "395 450\n",
      "396 450\n",
      "397 450\n",
      "398 450\n",
      "399 450\n",
      "400 450\n",
      "401 450\n",
      "402 450\n",
      "403 450\n",
      "404 450\n",
      "405 450\n",
      "406 450\n",
      "407 450\n",
      "408 450\n",
      "409 450\n",
      "410 450\n",
      "411 450\n",
      "412 450\n",
      "413 450\n",
      "414 450\n",
      "415 450\n",
      "416 450\n",
      "417 450\n",
      "418 450\n",
      "419 450\n",
      "420 450\n",
      "421 450\n",
      "422 450\n",
      "423 450\n",
      "424 450\n",
      "425 450\n",
      "426 450\n",
      "427 450\n",
      "428 450\n",
      "429 450\n",
      "430 450\n",
      "431 450\n",
      "432 450\n",
      "433 450\n",
      "434 450\n",
      "435 450\n",
      "436 450\n",
      "437 450\n",
      "438 450\n",
      "439 450\n",
      "440 450\n",
      "441 450\n",
      "442 450\n",
      "443 450\n",
      "444 450\n",
      "445 450\n",
      "446 450\n",
      "447 450\n",
      "448 450\n",
      "449 450\n"
     ]
    }
   ],
   "source": [
    "import warnings\n",
    "warnings.filterwarnings('ignore')\n",
    "\n",
    "res = pd.DataFrame(columns=[\"valid title\", \"valid genre\", \"predict genre\", \"closest id\", \"closest genre\", \"distance\"],\n",
    "                   index=valid_labels.index\n",
    "                  )\n",
    "\n",
    "tmp = 0\n",
    "\n",
    "for ind in valid_all_features.index:\n",
    "    res.at[ind, \"valid title\"] = valid_features.loc[ind, \"title\"]\n",
    "    res.at[ind, \"valid genre\"] = valid_labels.loc[ind, \"genre\"]\n",
    "    res.at[ind, \"predict genre\"] = preds[2].loc[ind, \"genre\"]\n",
    "    \n",
    "    distance, train_id = float(\"inf\"), None\n",
    "    \n",
    "    for i in train_all_features_standard_df.index:\n",
    "        d = euclidean_distances(train_all_features_standard_df.loc[i, :].reshape(1, -1), \n",
    "                                valid_all_features_standard_df.loc[ind, :].reshape(1, -1))\n",
    "        if d < distance:\n",
    "            distance, train_id = d, i\n",
    "        \n",
    "        if d <= 0:\n",
    "            break\n",
    "    res.at[ind, \"closest id\"] = train_id\n",
    "    res.at[ind, \"closest genre\"] = train_labels.loc[train_id, \"genre\"]\n",
    "    res.at[ind, \"distance\"] = distance\n",
    "    \n",
    "    print(tmp, valid_labels.shape[0])\n",
    "    tmp += 1"
   ]
  },
  {
   "cell_type": "code",
   "execution_count": 543,
   "metadata": {
    "ExecuteTime": {
     "end_time": "2020-10-12T06:01:45.301032Z",
     "start_time": "2020-10-12T06:01:45.292844Z"
    },
    "hidden": true,
    "scrolled": true
   },
   "outputs": [
    {
     "data": {
      "text/plain": [
       "classic pop and rock     107\n",
       "dance and electronica     32\n",
       "pop                       18\n",
       "folk                      14\n",
       "soul and reggae            8\n",
       "punk                       4\n",
       "jazz and blues             1\n",
       "metal                      1\n",
       "Name: closest genre, dtype: int64"
      ]
     },
     "execution_count": 543,
     "metadata": {},
     "output_type": "execute_result"
    }
   ],
   "source": [
    "missed = res[res[\"valid genre\"] != res[\"predict genre\"]]\n",
    "missed[missed[\"predict genre\"] == \"classic pop and rock\"][\"closest genre\"].value_counts()"
   ]
  },
  {
   "cell_type": "markdown",
   "metadata": {
    "hidden": true
   },
   "source": [
    "### inspect Gnb"
   ]
  },
  {
   "cell_type": "markdown",
   "metadata": {
    "heading_collapsed": true,
    "hidden": true
   },
   "source": [
    "#### correlation"
   ]
  },
  {
   "cell_type": "code",
   "execution_count": 602,
   "metadata": {
    "ExecuteTime": {
     "end_time": "2020-10-12T12:31:55.457567Z",
     "start_time": "2020-10-12T12:31:54.999105Z"
    },
    "hidden": true
   },
   "outputs": [],
   "source": [
    "correlation = train_all_features.iloc[:, -200:].corr()"
   ]
  },
  {
   "cell_type": "code",
   "execution_count": 605,
   "metadata": {
    "ExecuteTime": {
     "end_time": "2020-10-12T12:33:15.761621Z",
     "start_time": "2020-10-12T12:33:15.354134Z"
    },
    "hidden": true
   },
   "outputs": [
    {
     "data": {
      "text/plain": [
       "[('zijn', 'zo'),\n",
       " ('zo', 'zijn'),\n",
       " ('loudness', 'vect_1'),\n",
       " ('loudness', 'vect_29'),\n",
       " ('loudness', 'vect_42'),\n",
       " ('loudness', 'vect_43'),\n",
       " ('loudness', 'vect_44'),\n",
       " ('loudness', 'vect_45'),\n",
       " ('loudness', 'vect_46'),\n",
       " ('loudness', 'vect_47'),\n",
       " ('loudness', 'vect_48'),\n",
       " ('loudness', 'vect_49'),\n",
       " ('loudness', 'vect_53'),\n",
       " ('vect_1', 'loudness'),\n",
       " ('vect_1', 'vect_29'),\n",
       " ('vect_2', 'vect_25'),\n",
       " ('vect_6', 'vect_18'),\n",
       " ('vect_6', 'vect_23'),\n",
       " ('vect_16', 'vect_18'),\n",
       " ('vect_16', 'vect_20'),\n",
       " ('vect_16', 'vect_22'),\n",
       " ('vect_16', 'vect_23'),\n",
       " ('vect_18', 'vect_6'),\n",
       " ('vect_18', 'vect_16'),\n",
       " ('vect_18', 'vect_20'),\n",
       " ('vect_18', 'vect_22'),\n",
       " ('vect_18', 'vect_23'),\n",
       " ('vect_19', 'vect_24'),\n",
       " ('vect_20', 'vect_16'),\n",
       " ('vect_20', 'vect_18'),\n",
       " ('vect_20', 'vect_22'),\n",
       " ('vect_20', 'vect_23'),\n",
       " ('vect_20', 'vect_61'),\n",
       " ('vect_22', 'vect_16'),\n",
       " ('vect_22', 'vect_18'),\n",
       " ('vect_22', 'vect_20'),\n",
       " ('vect_22', 'vect_23'),\n",
       " ('vect_22', 'vect_61'),\n",
       " ('vect_22', 'vect_123'),\n",
       " ('vect_23', 'vect_6'),\n",
       " ('vect_23', 'vect_16'),\n",
       " ('vect_23', 'vect_18'),\n",
       " ('vect_23', 'vect_20'),\n",
       " ('vect_23', 'vect_22'),\n",
       " ('vect_24', 'vect_19'),\n",
       " ('vect_25', 'vect_2'),\n",
       " ('vect_25', 'vect_26'),\n",
       " ('vect_25', 'vect_57'),\n",
       " ('vect_26', 'vect_25'),\n",
       " ('vect_26', 'vect_27'),\n",
       " ('vect_27', 'vect_26'),\n",
       " ('vect_28', 'vect_59'),\n",
       " ('vect_29', 'loudness'),\n",
       " ('vect_29', 'vect_1'),\n",
       " ('vect_42', 'loudness'),\n",
       " ('vect_42', 'vect_43'),\n",
       " ('vect_42', 'vect_44'),\n",
       " ('vect_42', 'vect_45'),\n",
       " ('vect_42', 'vect_46'),\n",
       " ('vect_42', 'vect_47'),\n",
       " ('vect_42', 'vect_48'),\n",
       " ('vect_42', 'vect_49'),\n",
       " ('vect_42', 'vect_50'),\n",
       " ('vect_42', 'vect_51'),\n",
       " ('vect_42', 'vect_52'),\n",
       " ('vect_42', 'vect_53'),\n",
       " ('vect_42', 'vect_73'),\n",
       " ('vect_42', 'vect_74'),\n",
       " ('vect_42', 'vect_75'),\n",
       " ('vect_42', 'vect_76'),\n",
       " ('vect_42', 'vect_77'),\n",
       " ('vect_42', 'vect_78'),\n",
       " ('vect_42', 'vect_79'),\n",
       " ('vect_42', 'vect_80'),\n",
       " ('vect_42', 'vect_81'),\n",
       " ('vect_42', 'vect_82'),\n",
       " ('vect_42', 'vect_83'),\n",
       " ('vect_42', 'vect_84'),\n",
       " ('vect_42', 'vect_104'),\n",
       " ('vect_42', 'vect_105'),\n",
       " ('vect_42', 'vect_106'),\n",
       " ('vect_42', 'vect_107'),\n",
       " ('vect_42', 'vect_108'),\n",
       " ('vect_42', 'vect_109'),\n",
       " ('vect_42', 'vect_110'),\n",
       " ('vect_42', 'vect_111'),\n",
       " ('vect_42', 'vect_112'),\n",
       " ('vect_42', 'vect_113'),\n",
       " ('vect_42', 'vect_114'),\n",
       " ('vect_42', 'vect_115'),\n",
       " ('vect_43', 'loudness'),\n",
       " ('vect_43', 'vect_42'),\n",
       " ('vect_43', 'vect_44'),\n",
       " ('vect_43', 'vect_45'),\n",
       " ('vect_43', 'vect_46'),\n",
       " ('vect_43', 'vect_47'),\n",
       " ('vect_43', 'vect_48'),\n",
       " ('vect_43', 'vect_49'),\n",
       " ('vect_43', 'vect_50'),\n",
       " ('vect_43', 'vect_51'),\n",
       " ('vect_43', 'vect_52'),\n",
       " ('vect_43', 'vect_53'),\n",
       " ('vect_43', 'vect_73'),\n",
       " ('vect_43', 'vect_74'),\n",
       " ('vect_43', 'vect_75'),\n",
       " ('vect_43', 'vect_76'),\n",
       " ('vect_43', 'vect_77'),\n",
       " ('vect_43', 'vect_78'),\n",
       " ('vect_43', 'vect_79'),\n",
       " ('vect_43', 'vect_80'),\n",
       " ('vect_43', 'vect_81'),\n",
       " ('vect_43', 'vect_82'),\n",
       " ('vect_43', 'vect_83'),\n",
       " ('vect_43', 'vect_84'),\n",
       " ('vect_43', 'vect_104'),\n",
       " ('vect_43', 'vect_105'),\n",
       " ('vect_43', 'vect_106'),\n",
       " ('vect_43', 'vect_107'),\n",
       " ('vect_43', 'vect_108'),\n",
       " ('vect_43', 'vect_109'),\n",
       " ('vect_43', 'vect_110'),\n",
       " ('vect_43', 'vect_111'),\n",
       " ('vect_43', 'vect_112'),\n",
       " ('vect_43', 'vect_113'),\n",
       " ('vect_43', 'vect_114'),\n",
       " ('vect_43', 'vect_115'),\n",
       " ('vect_44', 'loudness'),\n",
       " ('vect_44', 'vect_42'),\n",
       " ('vect_44', 'vect_43'),\n",
       " ('vect_44', 'vect_45'),\n",
       " ('vect_44', 'vect_46'),\n",
       " ('vect_44', 'vect_47'),\n",
       " ('vect_44', 'vect_48'),\n",
       " ('vect_44', 'vect_49'),\n",
       " ('vect_44', 'vect_50'),\n",
       " ('vect_44', 'vect_51'),\n",
       " ('vect_44', 'vect_52'),\n",
       " ('vect_44', 'vect_53'),\n",
       " ('vect_44', 'vect_73'),\n",
       " ('vect_44', 'vect_74'),\n",
       " ('vect_44', 'vect_75'),\n",
       " ('vect_44', 'vect_76'),\n",
       " ('vect_44', 'vect_77'),\n",
       " ('vect_44', 'vect_78'),\n",
       " ('vect_44', 'vect_79'),\n",
       " ('vect_44', 'vect_80'),\n",
       " ('vect_44', 'vect_81'),\n",
       " ('vect_44', 'vect_82'),\n",
       " ('vect_44', 'vect_83'),\n",
       " ('vect_44', 'vect_84'),\n",
       " ('vect_44', 'vect_104'),\n",
       " ('vect_44', 'vect_105'),\n",
       " ('vect_44', 'vect_106'),\n",
       " ('vect_44', 'vect_107'),\n",
       " ('vect_44', 'vect_108'),\n",
       " ('vect_44', 'vect_109'),\n",
       " ('vect_44', 'vect_110'),\n",
       " ('vect_44', 'vect_111'),\n",
       " ('vect_44', 'vect_112'),\n",
       " ('vect_44', 'vect_113'),\n",
       " ('vect_44', 'vect_114'),\n",
       " ('vect_44', 'vect_115'),\n",
       " ('vect_45', 'loudness'),\n",
       " ('vect_45', 'vect_42'),\n",
       " ('vect_45', 'vect_43'),\n",
       " ('vect_45', 'vect_44'),\n",
       " ('vect_45', 'vect_46'),\n",
       " ('vect_45', 'vect_47'),\n",
       " ('vect_45', 'vect_48'),\n",
       " ('vect_45', 'vect_49'),\n",
       " ('vect_45', 'vect_50'),\n",
       " ('vect_45', 'vect_51'),\n",
       " ('vect_45', 'vect_52'),\n",
       " ('vect_45', 'vect_53'),\n",
       " ('vect_45', 'vect_73'),\n",
       " ('vect_45', 'vect_74'),\n",
       " ('vect_45', 'vect_75'),\n",
       " ('vect_45', 'vect_76'),\n",
       " ('vect_45', 'vect_77'),\n",
       " ('vect_45', 'vect_78'),\n",
       " ('vect_45', 'vect_79'),\n",
       " ('vect_45', 'vect_80'),\n",
       " ('vect_45', 'vect_81'),\n",
       " ('vect_45', 'vect_82'),\n",
       " ('vect_45', 'vect_83'),\n",
       " ('vect_45', 'vect_84'),\n",
       " ('vect_45', 'vect_104'),\n",
       " ('vect_45', 'vect_105'),\n",
       " ('vect_45', 'vect_106'),\n",
       " ('vect_45', 'vect_107'),\n",
       " ('vect_45', 'vect_108'),\n",
       " ('vect_45', 'vect_109'),\n",
       " ('vect_45', 'vect_110'),\n",
       " ('vect_45', 'vect_111'),\n",
       " ('vect_45', 'vect_112'),\n",
       " ('vect_45', 'vect_113'),\n",
       " ('vect_45', 'vect_114'),\n",
       " ('vect_45', 'vect_115'),\n",
       " ('vect_46', 'loudness'),\n",
       " ('vect_46', 'vect_42'),\n",
       " ('vect_46', 'vect_43'),\n",
       " ('vect_46', 'vect_44'),\n",
       " ('vect_46', 'vect_45'),\n",
       " ('vect_46', 'vect_47'),\n",
       " ('vect_46', 'vect_48'),\n",
       " ('vect_46', 'vect_49'),\n",
       " ('vect_46', 'vect_50'),\n",
       " ('vect_46', 'vect_51'),\n",
       " ('vect_46', 'vect_52'),\n",
       " ('vect_46', 'vect_53'),\n",
       " ('vect_46', 'vect_73'),\n",
       " ('vect_46', 'vect_74'),\n",
       " ('vect_46', 'vect_75'),\n",
       " ('vect_46', 'vect_76'),\n",
       " ('vect_46', 'vect_77'),\n",
       " ('vect_46', 'vect_78'),\n",
       " ('vect_46', 'vect_79'),\n",
       " ('vect_46', 'vect_80'),\n",
       " ('vect_46', 'vect_81'),\n",
       " ('vect_46', 'vect_82'),\n",
       " ('vect_46', 'vect_83'),\n",
       " ('vect_46', 'vect_84'),\n",
       " ('vect_46', 'vect_104'),\n",
       " ('vect_46', 'vect_105'),\n",
       " ('vect_46', 'vect_106'),\n",
       " ('vect_46', 'vect_107'),\n",
       " ('vect_46', 'vect_108'),\n",
       " ('vect_46', 'vect_109'),\n",
       " ('vect_46', 'vect_110'),\n",
       " ('vect_46', 'vect_111'),\n",
       " ('vect_46', 'vect_112'),\n",
       " ('vect_46', 'vect_113'),\n",
       " ('vect_46', 'vect_114'),\n",
       " ('vect_46', 'vect_115'),\n",
       " ('vect_47', 'loudness'),\n",
       " ('vect_47', 'vect_42'),\n",
       " ('vect_47', 'vect_43'),\n",
       " ('vect_47', 'vect_44'),\n",
       " ('vect_47', 'vect_45'),\n",
       " ('vect_47', 'vect_46'),\n",
       " ('vect_47', 'vect_48'),\n",
       " ('vect_47', 'vect_49'),\n",
       " ('vect_47', 'vect_50'),\n",
       " ('vect_47', 'vect_51'),\n",
       " ('vect_47', 'vect_52'),\n",
       " ('vect_47', 'vect_53'),\n",
       " ('vect_47', 'vect_73'),\n",
       " ('vect_47', 'vect_74'),\n",
       " ('vect_47', 'vect_75'),\n",
       " ('vect_47', 'vect_76'),\n",
       " ('vect_47', 'vect_77'),\n",
       " ('vect_47', 'vect_78'),\n",
       " ('vect_47', 'vect_79'),\n",
       " ('vect_47', 'vect_80'),\n",
       " ('vect_47', 'vect_81'),\n",
       " ('vect_47', 'vect_82'),\n",
       " ('vect_47', 'vect_83'),\n",
       " ('vect_47', 'vect_84'),\n",
       " ('vect_47', 'vect_104'),\n",
       " ('vect_47', 'vect_105'),\n",
       " ('vect_47', 'vect_106'),\n",
       " ('vect_47', 'vect_107'),\n",
       " ('vect_47', 'vect_108'),\n",
       " ('vect_47', 'vect_109'),\n",
       " ('vect_47', 'vect_110'),\n",
       " ('vect_47', 'vect_111'),\n",
       " ('vect_47', 'vect_112'),\n",
       " ('vect_47', 'vect_113'),\n",
       " ('vect_47', 'vect_114'),\n",
       " ('vect_47', 'vect_115'),\n",
       " ('vect_48', 'loudness'),\n",
       " ('vect_48', 'vect_42'),\n",
       " ('vect_48', 'vect_43'),\n",
       " ('vect_48', 'vect_44'),\n",
       " ('vect_48', 'vect_45'),\n",
       " ('vect_48', 'vect_46'),\n",
       " ('vect_48', 'vect_47'),\n",
       " ('vect_48', 'vect_49'),\n",
       " ('vect_48', 'vect_50'),\n",
       " ('vect_48', 'vect_51'),\n",
       " ('vect_48', 'vect_52'),\n",
       " ('vect_48', 'vect_53'),\n",
       " ('vect_48', 'vect_73'),\n",
       " ('vect_48', 'vect_74'),\n",
       " ('vect_48', 'vect_75'),\n",
       " ('vect_48', 'vect_76'),\n",
       " ('vect_48', 'vect_77'),\n",
       " ('vect_48', 'vect_78'),\n",
       " ('vect_48', 'vect_79'),\n",
       " ('vect_48', 'vect_80'),\n",
       " ('vect_48', 'vect_81'),\n",
       " ('vect_48', 'vect_82'),\n",
       " ('vect_48', 'vect_83'),\n",
       " ('vect_48', 'vect_84'),\n",
       " ('vect_48', 'vect_104'),\n",
       " ('vect_48', 'vect_105'),\n",
       " ('vect_48', 'vect_106'),\n",
       " ('vect_48', 'vect_107'),\n",
       " ('vect_48', 'vect_108'),\n",
       " ('vect_48', 'vect_109'),\n",
       " ('vect_48', 'vect_110'),\n",
       " ('vect_48', 'vect_111'),\n",
       " ('vect_48', 'vect_112'),\n",
       " ('vect_48', 'vect_113'),\n",
       " ('vect_48', 'vect_114'),\n",
       " ('vect_48', 'vect_115'),\n",
       " ('vect_49', 'loudness'),\n",
       " ('vect_49', 'vect_42'),\n",
       " ('vect_49', 'vect_43'),\n",
       " ('vect_49', 'vect_44'),\n",
       " ('vect_49', 'vect_45'),\n",
       " ('vect_49', 'vect_46'),\n",
       " ('vect_49', 'vect_47'),\n",
       " ('vect_49', 'vect_48'),\n",
       " ('vect_49', 'vect_50'),\n",
       " ('vect_49', 'vect_51'),\n",
       " ('vect_49', 'vect_52'),\n",
       " ('vect_49', 'vect_53'),\n",
       " ('vect_49', 'vect_73'),\n",
       " ('vect_49', 'vect_74'),\n",
       " ('vect_49', 'vect_75'),\n",
       " ('vect_49', 'vect_76'),\n",
       " ('vect_49', 'vect_77'),\n",
       " ('vect_49', 'vect_78'),\n",
       " ('vect_49', 'vect_79'),\n",
       " ('vect_49', 'vect_80'),\n",
       " ('vect_49', 'vect_81'),\n",
       " ('vect_49', 'vect_82'),\n",
       " ('vect_49', 'vect_83'),\n",
       " ('vect_49', 'vect_84'),\n",
       " ('vect_49', 'vect_104'),\n",
       " ('vect_49', 'vect_105'),\n",
       " ('vect_49', 'vect_106'),\n",
       " ('vect_49', 'vect_107'),\n",
       " ('vect_49', 'vect_108'),\n",
       " ('vect_49', 'vect_109'),\n",
       " ('vect_49', 'vect_110'),\n",
       " ('vect_49', 'vect_111'),\n",
       " ('vect_49', 'vect_112'),\n",
       " ('vect_49', 'vect_113'),\n",
       " ('vect_49', 'vect_114'),\n",
       " ('vect_49', 'vect_115'),\n",
       " ('vect_50', 'vect_42'),\n",
       " ('vect_50', 'vect_43'),\n",
       " ('vect_50', 'vect_44'),\n",
       " ('vect_50', 'vect_45'),\n",
       " ('vect_50', 'vect_46'),\n",
       " ('vect_50', 'vect_47'),\n",
       " ('vect_50', 'vect_48'),\n",
       " ('vect_50', 'vect_49'),\n",
       " ('vect_50', 'vect_51'),\n",
       " ('vect_50', 'vect_52'),\n",
       " ('vect_50', 'vect_53'),\n",
       " ('vect_50', 'vect_73'),\n",
       " ('vect_50', 'vect_74'),\n",
       " ('vect_50', 'vect_75'),\n",
       " ('vect_50', 'vect_76'),\n",
       " ('vect_50', 'vect_77'),\n",
       " ('vect_50', 'vect_78'),\n",
       " ('vect_50', 'vect_79'),\n",
       " ('vect_50', 'vect_80'),\n",
       " ('vect_50', 'vect_81'),\n",
       " ('vect_50', 'vect_82'),\n",
       " ('vect_50', 'vect_83'),\n",
       " ('vect_50', 'vect_84'),\n",
       " ('vect_50', 'vect_104'),\n",
       " ('vect_50', 'vect_105'),\n",
       " ('vect_50', 'vect_106'),\n",
       " ('vect_50', 'vect_107'),\n",
       " ('vect_50', 'vect_108'),\n",
       " ('vect_50', 'vect_109'),\n",
       " ('vect_50', 'vect_110'),\n",
       " ('vect_50', 'vect_111'),\n",
       " ('vect_50', 'vect_112'),\n",
       " ('vect_50', 'vect_113'),\n",
       " ('vect_50', 'vect_114'),\n",
       " ('vect_50', 'vect_115'),\n",
       " ('vect_51', 'vect_42'),\n",
       " ('vect_51', 'vect_43'),\n",
       " ('vect_51', 'vect_44'),\n",
       " ('vect_51', 'vect_45'),\n",
       " ('vect_51', 'vect_46'),\n",
       " ('vect_51', 'vect_47'),\n",
       " ('vect_51', 'vect_48'),\n",
       " ('vect_51', 'vect_49'),\n",
       " ('vect_51', 'vect_50'),\n",
       " ('vect_51', 'vect_52'),\n",
       " ('vect_51', 'vect_53'),\n",
       " ('vect_51', 'vect_73'),\n",
       " ('vect_51', 'vect_74'),\n",
       " ('vect_51', 'vect_75'),\n",
       " ('vect_51', 'vect_76'),\n",
       " ('vect_51', 'vect_77'),\n",
       " ('vect_51', 'vect_78'),\n",
       " ('vect_51', 'vect_79'),\n",
       " ('vect_51', 'vect_80'),\n",
       " ('vect_51', 'vect_81'),\n",
       " ('vect_51', 'vect_82'),\n",
       " ('vect_51', 'vect_83'),\n",
       " ('vect_51', 'vect_84'),\n",
       " ('vect_51', 'vect_104'),\n",
       " ('vect_51', 'vect_105'),\n",
       " ('vect_51', 'vect_106'),\n",
       " ('vect_51', 'vect_107'),\n",
       " ('vect_51', 'vect_108'),\n",
       " ('vect_51', 'vect_109'),\n",
       " ('vect_51', 'vect_110'),\n",
       " ('vect_51', 'vect_111'),\n",
       " ('vect_51', 'vect_112'),\n",
       " ('vect_51', 'vect_113'),\n",
       " ('vect_51', 'vect_114'),\n",
       " ('vect_51', 'vect_115'),\n",
       " ('vect_52', 'vect_42'),\n",
       " ('vect_52', 'vect_43'),\n",
       " ('vect_52', 'vect_44'),\n",
       " ('vect_52', 'vect_45'),\n",
       " ('vect_52', 'vect_46'),\n",
       " ('vect_52', 'vect_47'),\n",
       " ('vect_52', 'vect_48'),\n",
       " ('vect_52', 'vect_49'),\n",
       " ('vect_52', 'vect_50'),\n",
       " ('vect_52', 'vect_51'),\n",
       " ('vect_52', 'vect_53'),\n",
       " ('vect_52', 'vect_73'),\n",
       " ('vect_52', 'vect_74'),\n",
       " ('vect_52', 'vect_75'),\n",
       " ('vect_52', 'vect_76'),\n",
       " ('vect_52', 'vect_77'),\n",
       " ('vect_52', 'vect_78'),\n",
       " ('vect_52', 'vect_79'),\n",
       " ('vect_52', 'vect_80'),\n",
       " ('vect_52', 'vect_81'),\n",
       " ('vect_52', 'vect_82'),\n",
       " ('vect_52', 'vect_83'),\n",
       " ('vect_52', 'vect_84'),\n",
       " ('vect_52', 'vect_104'),\n",
       " ('vect_52', 'vect_105'),\n",
       " ('vect_52', 'vect_106'),\n",
       " ('vect_52', 'vect_107'),\n",
       " ('vect_52', 'vect_108'),\n",
       " ('vect_52', 'vect_109'),\n",
       " ('vect_52', 'vect_110'),\n",
       " ('vect_52', 'vect_111'),\n",
       " ('vect_52', 'vect_112'),\n",
       " ('vect_52', 'vect_113'),\n",
       " ('vect_52', 'vect_114'),\n",
       " ('vect_52', 'vect_115'),\n",
       " ('vect_53', 'loudness'),\n",
       " ('vect_53', 'vect_42'),\n",
       " ('vect_53', 'vect_43'),\n",
       " ('vect_53', 'vect_44'),\n",
       " ('vect_53', 'vect_45'),\n",
       " ('vect_53', 'vect_46'),\n",
       " ('vect_53', 'vect_47'),\n",
       " ('vect_53', 'vect_48'),\n",
       " ('vect_53', 'vect_49'),\n",
       " ('vect_53', 'vect_50'),\n",
       " ('vect_53', 'vect_51'),\n",
       " ('vect_53', 'vect_52'),\n",
       " ('vect_53', 'vect_73'),\n",
       " ('vect_53', 'vect_74'),\n",
       " ('vect_53', 'vect_75'),\n",
       " ('vect_53', 'vect_76'),\n",
       " ('vect_53', 'vect_77'),\n",
       " ('vect_53', 'vect_78'),\n",
       " ('vect_53', 'vect_79'),\n",
       " ('vect_53', 'vect_80'),\n",
       " ('vect_53', 'vect_81'),\n",
       " ('vect_53', 'vect_82'),\n",
       " ('vect_53', 'vect_83'),\n",
       " ('vect_53', 'vect_84'),\n",
       " ('vect_53', 'vect_104'),\n",
       " ('vect_53', 'vect_105'),\n",
       " ('vect_53', 'vect_106'),\n",
       " ('vect_53', 'vect_107'),\n",
       " ('vect_53', 'vect_108'),\n",
       " ('vect_53', 'vect_109'),\n",
       " ('vect_53', 'vect_110'),\n",
       " ('vect_53', 'vect_111'),\n",
       " ('vect_53', 'vect_112'),\n",
       " ('vect_53', 'vect_113'),\n",
       " ('vect_53', 'vect_114'),\n",
       " ('vect_53', 'vect_115'),\n",
       " ('vect_54', 'vect_85'),\n",
       " ('vect_54', 'vect_116'),\n",
       " ('vect_54', 'vect_147'),\n",
       " ('vect_55', 'vect_86'),\n",
       " ('vect_55', 'vect_117'),\n",
       " ('vect_56', 'vect_57'),\n",
       " ('vect_57', 'vect_25'),\n",
       " ('vect_57', 'vect_56'),\n",
       " ('vect_59', 'vect_28'),\n",
       " ('vect_61', 'vect_20'),\n",
       " ('vect_61', 'vect_22'),\n",
       " ('vect_61', 'vect_62'),\n",
       " ('vect_61', 'vect_63'),\n",
       " ('vect_61', 'vect_123'),\n",
       " ('vect_62', 'vect_61'),\n",
       " ('vect_62', 'vect_63'),\n",
       " ('vect_62', 'vect_64'),\n",
       " ('vect_62', 'vect_65'),\n",
       " ('vect_62', 'vect_124'),\n",
       " ('vect_63', 'vect_61'),\n",
       " ('vect_63', 'vect_62'),\n",
       " ('vect_63', 'vect_64'),\n",
       " ('vect_63', 'vect_65'),\n",
       " ('vect_63', 'vect_66'),\n",
       " ('vect_63', 'vect_67'),\n",
       " ('vect_63', 'vect_68'),\n",
       " ('vect_63', 'vect_125'),\n",
       " ('vect_64', 'vect_62'),\n",
       " ('vect_64', 'vect_63'),\n",
       " ('vect_64', 'vect_65'),\n",
       " ('vect_64', 'vect_66'),\n",
       " ('vect_64', 'vect_67'),\n",
       " ('vect_64', 'vect_68'),\n",
       " ('vect_64', 'vect_69'),\n",
       " ('vect_64', 'vect_70'),\n",
       " ('vect_64', 'vect_71'),\n",
       " ('vect_64', 'vect_126'),\n",
       " ('vect_65', 'vect_62'),\n",
       " ('vect_65', 'vect_63'),\n",
       " ('vect_65', 'vect_64'),\n",
       " ('vect_65', 'vect_66'),\n",
       " ('vect_65', 'vect_67'),\n",
       " ('vect_65', 'vect_68'),\n",
       " ('vect_65', 'vect_69'),\n",
       " ('vect_65', 'vect_70'),\n",
       " ('vect_65', 'vect_71'),\n",
       " ('vect_65', 'vect_72'),\n",
       " ('vect_66', 'vect_63'),\n",
       " ('vect_66', 'vect_64'),\n",
       " ('vect_66', 'vect_65'),\n",
       " ('vect_66', 'vect_67'),\n",
       " ('vect_66', 'vect_68'),\n",
       " ('vect_66', 'vect_69'),\n",
       " ('vect_66', 'vect_70'),\n",
       " ('vect_66', 'vect_71'),\n",
       " ('vect_66', 'vect_72'),\n",
       " ('vect_67', 'vect_63'),\n",
       " ('vect_67', 'vect_64'),\n",
       " ('vect_67', 'vect_65'),\n",
       " ('vect_67', 'vect_66'),\n",
       " ('vect_67', 'vect_68'),\n",
       " ('vect_67', 'vect_69'),\n",
       " ('vect_67', 'vect_70'),\n",
       " ('vect_67', 'vect_71'),\n",
       " ('vect_67', 'vect_72'),\n",
       " ('vect_68', 'vect_63'),\n",
       " ('vect_68', 'vect_64'),\n",
       " ('vect_68', 'vect_65'),\n",
       " ('vect_68', 'vect_66'),\n",
       " ('vect_68', 'vect_67'),\n",
       " ('vect_68', 'vect_69'),\n",
       " ('vect_68', 'vect_70'),\n",
       " ('vect_68', 'vect_71'),\n",
       " ('vect_68', 'vect_72'),\n",
       " ('vect_69', 'vect_64'),\n",
       " ('vect_69', 'vect_65'),\n",
       " ('vect_69', 'vect_66'),\n",
       " ('vect_69', 'vect_67'),\n",
       " ('vect_69', 'vect_68'),\n",
       " ('vect_69', 'vect_70'),\n",
       " ('vect_69', 'vect_71'),\n",
       " ('vect_69', 'vect_72'),\n",
       " ('vect_70', 'vect_64'),\n",
       " ('vect_70', 'vect_65'),\n",
       " ('vect_70', 'vect_66'),\n",
       " ('vect_70', 'vect_67'),\n",
       " ('vect_70', 'vect_68'),\n",
       " ('vect_70', 'vect_69'),\n",
       " ('vect_70', 'vect_71'),\n",
       " ('vect_70', 'vect_72'),\n",
       " ('vect_71', 'vect_64'),\n",
       " ('vect_71', 'vect_65'),\n",
       " ('vect_71', 'vect_66'),\n",
       " ('vect_71', 'vect_67'),\n",
       " ('vect_71', 'vect_68'),\n",
       " ('vect_71', 'vect_69'),\n",
       " ('vect_71', 'vect_70'),\n",
       " ('vect_71', 'vect_72'),\n",
       " ('vect_72', 'vect_65'),\n",
       " ('vect_72', 'vect_66'),\n",
       " ('vect_72', 'vect_67'),\n",
       " ('vect_72', 'vect_68'),\n",
       " ('vect_72', 'vect_69'),\n",
       " ('vect_72', 'vect_70'),\n",
       " ('vect_72', 'vect_71'),\n",
       " ('vect_73', 'vect_42'),\n",
       " ('vect_73', 'vect_43'),\n",
       " ('vect_73', 'vect_44'),\n",
       " ('vect_73', 'vect_45'),\n",
       " ('vect_73', 'vect_46'),\n",
       " ('vect_73', 'vect_47'),\n",
       " ('vect_73', 'vect_48'),\n",
       " ('vect_73', 'vect_49'),\n",
       " ('vect_73', 'vect_50'),\n",
       " ('vect_73', 'vect_51'),\n",
       " ('vect_73', 'vect_52'),\n",
       " ('vect_73', 'vect_53'),\n",
       " ('vect_73', 'vect_74'),\n",
       " ('vect_73', 'vect_75'),\n",
       " ('vect_73', 'vect_76'),\n",
       " ('vect_73', 'vect_77'),\n",
       " ('vect_73', 'vect_78'),\n",
       " ('vect_73', 'vect_79'),\n",
       " ('vect_73', 'vect_80'),\n",
       " ('vect_73', 'vect_81'),\n",
       " ('vect_73', 'vect_82'),\n",
       " ('vect_73', 'vect_83'),\n",
       " ('vect_73', 'vect_84'),\n",
       " ('vect_73', 'vect_104'),\n",
       " ('vect_73', 'vect_105'),\n",
       " ('vect_73', 'vect_106'),\n",
       " ('vect_73', 'vect_107'),\n",
       " ('vect_73', 'vect_108'),\n",
       " ('vect_73', 'vect_109'),\n",
       " ('vect_73', 'vect_110'),\n",
       " ('vect_73', 'vect_111'),\n",
       " ('vect_73', 'vect_112'),\n",
       " ('vect_73', 'vect_113'),\n",
       " ('vect_73', 'vect_114'),\n",
       " ('vect_73', 'vect_115'),\n",
       " ('vect_73', 'vect_135'),\n",
       " ('vect_73', 'vect_136'),\n",
       " ('vect_73', 'vect_137'),\n",
       " ('vect_73', 'vect_138'),\n",
       " ('vect_73', 'vect_139'),\n",
       " ('vect_73', 'vect_140'),\n",
       " ('vect_73', 'vect_141'),\n",
       " ('vect_73', 'vect_142'),\n",
       " ('vect_73', 'vect_143'),\n",
       " ('vect_73', 'vect_144'),\n",
       " ('vect_73', 'vect_145'),\n",
       " ('vect_73', 'vect_146'),\n",
       " ('vect_74', 'vect_42'),\n",
       " ('vect_74', 'vect_43'),\n",
       " ('vect_74', 'vect_44'),\n",
       " ('vect_74', 'vect_45'),\n",
       " ('vect_74', 'vect_46'),\n",
       " ('vect_74', 'vect_47'),\n",
       " ('vect_74', 'vect_48'),\n",
       " ('vect_74', 'vect_49'),\n",
       " ('vect_74', 'vect_50'),\n",
       " ('vect_74', 'vect_51'),\n",
       " ('vect_74', 'vect_52'),\n",
       " ('vect_74', 'vect_53'),\n",
       " ('vect_74', 'vect_73'),\n",
       " ('vect_74', 'vect_75'),\n",
       " ('vect_74', 'vect_76'),\n",
       " ('vect_74', 'vect_77'),\n",
       " ('vect_74', 'vect_78'),\n",
       " ('vect_74', 'vect_79'),\n",
       " ('vect_74', 'vect_80'),\n",
       " ('vect_74', 'vect_81'),\n",
       " ('vect_74', 'vect_82'),\n",
       " ('vect_74', 'vect_83'),\n",
       " ('vect_74', 'vect_84'),\n",
       " ('vect_74', 'vect_104'),\n",
       " ('vect_74', 'vect_105'),\n",
       " ('vect_74', 'vect_106'),\n",
       " ('vect_74', 'vect_107'),\n",
       " ('vect_74', 'vect_108'),\n",
       " ('vect_74', 'vect_109'),\n",
       " ('vect_74', 'vect_110'),\n",
       " ('vect_74', 'vect_111'),\n",
       " ('vect_74', 'vect_112'),\n",
       " ('vect_74', 'vect_113'),\n",
       " ('vect_74', 'vect_114'),\n",
       " ('vect_74', 'vect_115'),\n",
       " ('vect_74', 'vect_135'),\n",
       " ('vect_74', 'vect_136'),\n",
       " ('vect_74', 'vect_137'),\n",
       " ('vect_74', 'vect_138'),\n",
       " ('vect_74', 'vect_139'),\n",
       " ('vect_74', 'vect_140'),\n",
       " ('vect_74', 'vect_141'),\n",
       " ('vect_74', 'vect_142'),\n",
       " ('vect_74', 'vect_143'),\n",
       " ('vect_74', 'vect_144'),\n",
       " ('vect_74', 'vect_145'),\n",
       " ('vect_74', 'vect_146'),\n",
       " ('vect_75', 'vect_42'),\n",
       " ('vect_75', 'vect_43'),\n",
       " ('vect_75', 'vect_44'),\n",
       " ('vect_75', 'vect_45'),\n",
       " ('vect_75', 'vect_46'),\n",
       " ('vect_75', 'vect_47'),\n",
       " ('vect_75', 'vect_48'),\n",
       " ('vect_75', 'vect_49'),\n",
       " ('vect_75', 'vect_50'),\n",
       " ('vect_75', 'vect_51'),\n",
       " ('vect_75', 'vect_52'),\n",
       " ('vect_75', 'vect_53'),\n",
       " ('vect_75', 'vect_73'),\n",
       " ('vect_75', 'vect_74'),\n",
       " ('vect_75', 'vect_76'),\n",
       " ('vect_75', 'vect_77'),\n",
       " ('vect_75', 'vect_78'),\n",
       " ('vect_75', 'vect_79'),\n",
       " ('vect_75', 'vect_80'),\n",
       " ('vect_75', 'vect_81'),\n",
       " ('vect_75', 'vect_82'),\n",
       " ('vect_75', 'vect_83'),\n",
       " ('vect_75', 'vect_84'),\n",
       " ('vect_75', 'vect_104'),\n",
       " ('vect_75', 'vect_105'),\n",
       " ('vect_75', 'vect_106'),\n",
       " ('vect_75', 'vect_107'),\n",
       " ('vect_75', 'vect_108'),\n",
       " ('vect_75', 'vect_109'),\n",
       " ('vect_75', 'vect_110'),\n",
       " ('vect_75', 'vect_111'),\n",
       " ('vect_75', 'vect_112'),\n",
       " ('vect_75', 'vect_113'),\n",
       " ('vect_75', 'vect_114'),\n",
       " ('vect_75', 'vect_115'),\n",
       " ('vect_75', 'vect_135'),\n",
       " ('vect_75', 'vect_136'),\n",
       " ('vect_75', 'vect_137'),\n",
       " ('vect_75', 'vect_138'),\n",
       " ('vect_75', 'vect_139'),\n",
       " ('vect_75', 'vect_140'),\n",
       " ('vect_75', 'vect_141'),\n",
       " ('vect_75', 'vect_142'),\n",
       " ('vect_75', 'vect_143'),\n",
       " ('vect_75', 'vect_144'),\n",
       " ('vect_75', 'vect_145'),\n",
       " ('vect_75', 'vect_146'),\n",
       " ('vect_76', 'vect_42'),\n",
       " ('vect_76', 'vect_43'),\n",
       " ('vect_76', 'vect_44'),\n",
       " ('vect_76', 'vect_45'),\n",
       " ('vect_76', 'vect_46'),\n",
       " ('vect_76', 'vect_47'),\n",
       " ('vect_76', 'vect_48'),\n",
       " ('vect_76', 'vect_49'),\n",
       " ('vect_76', 'vect_50'),\n",
       " ('vect_76', 'vect_51'),\n",
       " ('vect_76', 'vect_52'),\n",
       " ('vect_76', 'vect_53'),\n",
       " ('vect_76', 'vect_73'),\n",
       " ('vect_76', 'vect_74'),\n",
       " ('vect_76', 'vect_75'),\n",
       " ('vect_76', 'vect_77'),\n",
       " ('vect_76', 'vect_78'),\n",
       " ('vect_76', 'vect_79'),\n",
       " ('vect_76', 'vect_80'),\n",
       " ('vect_76', 'vect_81'),\n",
       " ('vect_76', 'vect_82'),\n",
       " ('vect_76', 'vect_83'),\n",
       " ('vect_76', 'vect_84'),\n",
       " ('vect_76', 'vect_104'),\n",
       " ('vect_76', 'vect_105'),\n",
       " ('vect_76', 'vect_106'),\n",
       " ('vect_76', 'vect_107'),\n",
       " ('vect_76', 'vect_108'),\n",
       " ('vect_76', 'vect_109'),\n",
       " ('vect_76', 'vect_110'),\n",
       " ('vect_76', 'vect_111'),\n",
       " ('vect_76', 'vect_112'),\n",
       " ('vect_76', 'vect_113'),\n",
       " ('vect_76', 'vect_114'),\n",
       " ('vect_76', 'vect_115'),\n",
       " ('vect_76', 'vect_135'),\n",
       " ('vect_76', 'vect_136'),\n",
       " ('vect_76', 'vect_137'),\n",
       " ('vect_76', 'vect_138'),\n",
       " ('vect_76', 'vect_139'),\n",
       " ('vect_76', 'vect_140'),\n",
       " ('vect_76', 'vect_141'),\n",
       " ('vect_76', 'vect_142'),\n",
       " ('vect_76', 'vect_143'),\n",
       " ('vect_76', 'vect_144'),\n",
       " ('vect_76', 'vect_145'),\n",
       " ('vect_76', 'vect_146'),\n",
       " ('vect_77', 'vect_42'),\n",
       " ('vect_77', 'vect_43'),\n",
       " ('vect_77', 'vect_44'),\n",
       " ('vect_77', 'vect_45'),\n",
       " ('vect_77', 'vect_46'),\n",
       " ('vect_77', 'vect_47'),\n",
       " ('vect_77', 'vect_48'),\n",
       " ('vect_77', 'vect_49'),\n",
       " ('vect_77', 'vect_50'),\n",
       " ('vect_77', 'vect_51'),\n",
       " ('vect_77', 'vect_52'),\n",
       " ('vect_77', 'vect_53'),\n",
       " ('vect_77', 'vect_73'),\n",
       " ('vect_77', 'vect_74'),\n",
       " ('vect_77', 'vect_75'),\n",
       " ('vect_77', 'vect_76'),\n",
       " ('vect_77', 'vect_78'),\n",
       " ('vect_77', 'vect_79'),\n",
       " ('vect_77', 'vect_80'),\n",
       " ('vect_77', 'vect_81'),\n",
       " ('vect_77', 'vect_82'),\n",
       " ('vect_77', 'vect_83'),\n",
       " ('vect_77', 'vect_84'),\n",
       " ('vect_77', 'vect_104'),\n",
       " ('vect_77', 'vect_105'),\n",
       " ('vect_77', 'vect_106'),\n",
       " ('vect_77', 'vect_107'),\n",
       " ('vect_77', 'vect_108'),\n",
       " ('vect_77', 'vect_109'),\n",
       " ('vect_77', 'vect_110'),\n",
       " ('vect_77', 'vect_111'),\n",
       " ('vect_77', 'vect_112'),\n",
       " ('vect_77', 'vect_113'),\n",
       " ('vect_77', 'vect_114'),\n",
       " ('vect_77', 'vect_115'),\n",
       " ('vect_77', 'vect_135'),\n",
       " ('vect_77', 'vect_136'),\n",
       " ('vect_77', 'vect_137'),\n",
       " ('vect_77', 'vect_138'),\n",
       " ('vect_77', 'vect_139'),\n",
       " ('vect_77', 'vect_140'),\n",
       " ('vect_77', 'vect_141'),\n",
       " ('vect_77', 'vect_142'),\n",
       " ('vect_77', 'vect_143'),\n",
       " ('vect_77', 'vect_144'),\n",
       " ('vect_77', 'vect_145'),\n",
       " ('vect_77', 'vect_146'),\n",
       " ('vect_78', 'vect_42'),\n",
       " ('vect_78', 'vect_43'),\n",
       " ('vect_78', 'vect_44'),\n",
       " ('vect_78', 'vect_45'),\n",
       " ('vect_78', 'vect_46'),\n",
       " ('vect_78', 'vect_47'),\n",
       " ('vect_78', 'vect_48'),\n",
       " ('vect_78', 'vect_49'),\n",
       " ('vect_78', 'vect_50'),\n",
       " ('vect_78', 'vect_51'),\n",
       " ('vect_78', 'vect_52'),\n",
       " ('vect_78', 'vect_53'),\n",
       " ('vect_78', 'vect_73'),\n",
       " ('vect_78', 'vect_74'),\n",
       " ('vect_78', 'vect_75'),\n",
       " ('vect_78', 'vect_76'),\n",
       " ('vect_78', 'vect_77'),\n",
       " ('vect_78', 'vect_79'),\n",
       " ('vect_78', 'vect_80'),\n",
       " ('vect_78', 'vect_81'),\n",
       " ('vect_78', 'vect_82'),\n",
       " ('vect_78', 'vect_83'),\n",
       " ('vect_78', 'vect_84'),\n",
       " ('vect_78', 'vect_104'),\n",
       " ('vect_78', 'vect_105'),\n",
       " ('vect_78', 'vect_106'),\n",
       " ('vect_78', 'vect_107'),\n",
       " ('vect_78', 'vect_108'),\n",
       " ('vect_78', 'vect_109'),\n",
       " ('vect_78', 'vect_110'),\n",
       " ('vect_78', 'vect_111'),\n",
       " ('vect_78', 'vect_112'),\n",
       " ('vect_78', 'vect_113'),\n",
       " ('vect_78', 'vect_114'),\n",
       " ('vect_78', 'vect_115'),\n",
       " ('vect_78', 'vect_135'),\n",
       " ('vect_78', 'vect_136'),\n",
       " ('vect_78', 'vect_137'),\n",
       " ('vect_78', 'vect_138'),\n",
       " ('vect_78', 'vect_139'),\n",
       " ('vect_78', 'vect_140'),\n",
       " ('vect_78', 'vect_141'),\n",
       " ('vect_78', 'vect_142'),\n",
       " ('vect_78', 'vect_143'),\n",
       " ('vect_78', 'vect_144'),\n",
       " ('vect_78', 'vect_145'),\n",
       " ('vect_78', 'vect_146'),\n",
       " ('vect_79', 'vect_42'),\n",
       " ('vect_79', 'vect_43'),\n",
       " ('vect_79', 'vect_44'),\n",
       " ('vect_79', 'vect_45'),\n",
       " ('vect_79', 'vect_46'),\n",
       " ('vect_79', 'vect_47'),\n",
       " ('vect_79', 'vect_48'),\n",
       " ('vect_79', 'vect_49'),\n",
       " ('vect_79', 'vect_50'),\n",
       " ('vect_79', 'vect_51'),\n",
       " ('vect_79', 'vect_52'),\n",
       " ('vect_79', 'vect_53'),\n",
       " ('vect_79', 'vect_73'),\n",
       " ('vect_79', 'vect_74'),\n",
       " ('vect_79', 'vect_75'),\n",
       " ('vect_79', 'vect_76'),\n",
       " ('vect_79', 'vect_77'),\n",
       " ('vect_79', 'vect_78'),\n",
       " ('vect_79', 'vect_80'),\n",
       " ('vect_79', 'vect_81'),\n",
       " ('vect_79', 'vect_82'),\n",
       " ('vect_79', 'vect_83'),\n",
       " ('vect_79', 'vect_84'),\n",
       " ('vect_79', 'vect_104'),\n",
       " ('vect_79', 'vect_105'),\n",
       " ('vect_79', 'vect_106'),\n",
       " ('vect_79', 'vect_107'),\n",
       " ('vect_79', 'vect_108'),\n",
       " ('vect_79', 'vect_109'),\n",
       " ('vect_79', 'vect_110'),\n",
       " ('vect_79', 'vect_111'),\n",
       " ('vect_79', 'vect_112'),\n",
       " ('vect_79', 'vect_113'),\n",
       " ('vect_79', 'vect_114'),\n",
       " ('vect_79', 'vect_115'),\n",
       " ('vect_79', 'vect_135'),\n",
       " ('vect_79', 'vect_136'),\n",
       " ('vect_79', 'vect_137'),\n",
       " ('vect_79', 'vect_138'),\n",
       " ('vect_79', 'vect_139'),\n",
       " ('vect_79', 'vect_140'),\n",
       " ('vect_79', 'vect_141'),\n",
       " ('vect_79', 'vect_142'),\n",
       " ('vect_79', 'vect_143'),\n",
       " ('vect_79', 'vect_144'),\n",
       " ('vect_79', 'vect_145'),\n",
       " ('vect_79', 'vect_146'),\n",
       " ('vect_80', 'vect_42'),\n",
       " ('vect_80', 'vect_43'),\n",
       " ('vect_80', 'vect_44'),\n",
       " ('vect_80', 'vect_45'),\n",
       " ('vect_80', 'vect_46'),\n",
       " ('vect_80', 'vect_47'),\n",
       " ('vect_80', 'vect_48'),\n",
       " ('vect_80', 'vect_49'),\n",
       " ('vect_80', 'vect_50'),\n",
       " ('vect_80', 'vect_51'),\n",
       " ('vect_80', 'vect_52'),\n",
       " ('vect_80', 'vect_53'),\n",
       " ('vect_80', 'vect_73'),\n",
       " ('vect_80', 'vect_74'),\n",
       " ('vect_80', 'vect_75'),\n",
       " ('vect_80', 'vect_76'),\n",
       " ('vect_80', 'vect_77'),\n",
       " ('vect_80', 'vect_78'),\n",
       " ('vect_80', 'vect_79'),\n",
       " ('vect_80', 'vect_81'),\n",
       " ('vect_80', 'vect_82'),\n",
       " ('vect_80', 'vect_83'),\n",
       " ('vect_80', 'vect_84'),\n",
       " ('vect_80', 'vect_104'),\n",
       " ('vect_80', 'vect_105'),\n",
       " ('vect_80', 'vect_106'),\n",
       " ('vect_80', 'vect_107'),\n",
       " ('vect_80', 'vect_108'),\n",
       " ('vect_80', 'vect_109'),\n",
       " ('vect_80', 'vect_110'),\n",
       " ('vect_80', 'vect_111'),\n",
       " ('vect_80', 'vect_112'),\n",
       " ('vect_80', 'vect_113'),\n",
       " ('vect_80', 'vect_114'),\n",
       " ('vect_80', 'vect_115'),\n",
       " ('vect_80', 'vect_135'),\n",
       " ('vect_80', 'vect_136'),\n",
       " ('vect_80', 'vect_137'),\n",
       " ('vect_80', 'vect_138'),\n",
       " ('vect_80', 'vect_139'),\n",
       " ('vect_80', 'vect_140'),\n",
       " ('vect_80', 'vect_141'),\n",
       " ('vect_80', 'vect_142'),\n",
       " ('vect_80', 'vect_143'),\n",
       " ('vect_80', 'vect_144'),\n",
       " ('vect_80', 'vect_145'),\n",
       " ('vect_80', 'vect_146'),\n",
       " ('vect_81', 'vect_42'),\n",
       " ('vect_81', 'vect_43'),\n",
       " ('vect_81', 'vect_44'),\n",
       " ('vect_81', 'vect_45'),\n",
       " ('vect_81', 'vect_46'),\n",
       " ('vect_81', 'vect_47'),\n",
       " ('vect_81', 'vect_48'),\n",
       " ('vect_81', 'vect_49'),\n",
       " ('vect_81', 'vect_50'),\n",
       " ('vect_81', 'vect_51'),\n",
       " ('vect_81', 'vect_52'),\n",
       " ('vect_81', 'vect_53'),\n",
       " ('vect_81', 'vect_73'),\n",
       " ('vect_81', 'vect_74'),\n",
       " ('vect_81', 'vect_75'),\n",
       " ('vect_81', 'vect_76'),\n",
       " ('vect_81', 'vect_77'),\n",
       " ('vect_81', 'vect_78'),\n",
       " ('vect_81', 'vect_79'),\n",
       " ('vect_81', 'vect_80'),\n",
       " ('vect_81', 'vect_82'),\n",
       " ('vect_81', 'vect_83'),\n",
       " ('vect_81', 'vect_84'),\n",
       " ('vect_81', 'vect_104'),\n",
       " ('vect_81', 'vect_105'),\n",
       " ('vect_81', 'vect_106'),\n",
       " ('vect_81', 'vect_107'),\n",
       " ('vect_81', 'vect_108'),\n",
       " ('vect_81', 'vect_109'),\n",
       " ('vect_81', 'vect_110'),\n",
       " ('vect_81', 'vect_111'),\n",
       " ('vect_81', 'vect_112'),\n",
       " ('vect_81', 'vect_113'),\n",
       " ('vect_81', 'vect_114'),\n",
       " ('vect_81', 'vect_115'),\n",
       " ('vect_81', 'vect_135'),\n",
       " ...]"
      ]
     },
     "execution_count": 605,
     "metadata": {},
     "output_type": "execute_result"
    }
   ],
   "source": [
    "high_corr = []\n",
    "\n",
    "for i in correlation.index:\n",
    "    for j in correlation.index:\n",
    "        if i != j:\n",
    "            if correlation.loc[i, j] >= 0.7:\n",
    "                high_corr.append((i, j))\n",
    "high_corr"
   ]
  },
  {
   "cell_type": "code",
   "execution_count": 607,
   "metadata": {
    "ExecuteTime": {
     "end_time": "2020-10-12T12:37:11.674150Z",
     "start_time": "2020-10-12T12:37:11.668429Z"
    },
    "hidden": true
   },
   "outputs": [
    {
     "data": {
      "text/plain": [
       "vect_1     0.945383\n",
       "vect_29    0.770170\n",
       "Name: loudness, dtype: float64"
      ]
     },
     "execution_count": 607,
     "metadata": {},
     "output_type": "execute_result"
    }
   ],
   "source": [
    "correlation.loc['loudness', ['vect_1', 'vect_29']]"
   ]
  },
  {
   "cell_type": "code",
   "execution_count": null,
   "metadata": {
    "hidden": true
   },
   "outputs": [],
   "source": []
  },
  {
   "cell_type": "code",
   "execution_count": null,
   "metadata": {
    "hidden": true
   },
   "outputs": [],
   "source": []
  },
  {
   "cell_type": "markdown",
   "metadata": {
    "heading_collapsed": true,
    "hidden": true
   },
   "source": [
    "#### inspect"
   ]
  },
  {
   "cell_type": "code",
   "execution_count": 707,
   "metadata": {
    "ExecuteTime": {
     "end_time": "2020-10-15T04:57:25.287299Z",
     "start_time": "2020-10-15T04:57:24.933882Z"
    },
    "hidden": true
   },
   "outputs": [
    {
     "name": "stdout",
     "output_type": "stream",
     "text": [
      "                       precision    recall  f1-score   support\n",
      "\n",
      " classic pop and rock       0.28      0.45      0.35        55\n",
      "dance and electronica       0.65      0.24      0.35        45\n",
      "                 folk       0.64      0.25      0.36        64\n",
      "       jazz and blues       0.44      0.64      0.52        44\n",
      "                metal       0.85      0.83      0.84        66\n",
      "                  pop       0.79      1.00      0.88        74\n",
      "                 punk       0.90      0.43      0.58        44\n",
      "      soul and reggae       0.65      0.86      0.74        58\n",
      "\n",
      "             accuracy                           0.62       450\n",
      "            macro avg       0.65      0.59      0.58       450\n",
      "         weighted avg       0.66      0.62      0.60       450\n",
      "\n"
     ]
    },
    {
     "data": {
      "image/png": "[encoded data removed]",
      "text/plain": [
       "<Figure size 720x216 with 2 Axes>"
      ]
     },
     "metadata": {},
     "output_type": "display_data"
    }
   ],
   "source": [
    "print(classification_report(valid_labels, preds[1], target_names=models[1].classes_))\n",
    "draw_train_valid_label_distribution(pd.DataFrame(pred, columns=valid_labels.columns, index=valid_all_features.index), \n",
    "                                    valid_labels,\n",
    "                                    title1=\"Gaussian NB prediction on valid set\")"
   ]
  },
  {
   "cell_type": "code",
   "execution_count": 621,
   "metadata": {
    "ExecuteTime": {
     "end_time": "2020-10-12T12:59:06.824906Z",
     "start_time": "2020-10-12T12:59:06.633583Z"
    },
    "hidden": true
   },
   "outputs": [
    {
     "data": {
      "image/png": "[encoded data removed]",
      "text/plain": [
       "<Figure size 432x288 with 1 Axes>"
      ]
     },
     "metadata": {},
     "output_type": "display_data"
    }
   ],
   "source": [
    "xs = [\"metal\", \"folk\", \"jazz and blues\", \"soul and reggae\",\n",
    "      \"classic pop and rock\", \"punk\", \"dance and electronica\", \"pop\"]\n",
    "\n",
    "(preds[1][\"genre\"].value_counts() / sum(valid_labels[\"genre\"].value_counts()))[xs].plot(\n",
    "    kind='bar')\n",
    "plt.title('Gaussian NB prediction distribution on valid set')\n",
    "plt.show()"
   ]
  },
  {
   "cell_type": "code",
   "execution_count": 706,
   "metadata": {
    "ExecuteTime": {
     "end_time": "2020-10-15T04:57:24.930854Z",
     "start_time": "2020-10-15T04:57:24.288294Z"
    },
    "hidden": true
   },
   "outputs": [
    {
     "data": {
      "text/plain": [
       "Text(0.5,1,'Gnb confusion matrix')"
      ]
     },
     "execution_count": 706,
     "metadata": {},
     "output_type": "execute_result"
    },
    {
     "data": {
      "image/png": "[encoded data removed]",
      "text/plain": [
       "<Figure size 432x288 with 2 Axes>"
      ]
     },
     "metadata": {},
     "output_type": "display_data"
    }
   ],
   "source": [
    "plot_confusion_matrix(models[1], \n",
    "                      valid_all_features, \n",
    "                      valid_labels.values.ravel(),\n",
    "                      xticks_rotation='vertical'\n",
    "                     )\n",
    "plt.title(\"Gnb confusion matrix\")"
   ]
  },
  {
   "cell_type": "code",
   "execution_count": null,
   "metadata": {
    "hidden": true
   },
   "outputs": [],
   "source": []
  },
  {
   "cell_type": "markdown",
   "metadata": {
    "heading_collapsed": true
   },
   "source": [
    "## error analysis"
   ]
  },
  {
   "cell_type": "code",
   "execution_count": 547,
   "metadata": {
    "ExecuteTime": {
     "end_time": "2020-10-12T07:50:21.118002Z",
     "start_time": "2020-10-12T06:40:31.877659Z"
    },
    "hidden": true,
    "scrolled": true
   },
   "outputs": [
    {
     "name": "stdout",
     "output_type": "stream",
     "text": [
      "0 Gaussian NB 6\n",
      "1 Knn 6\n",
      "2 Decision tree 6\n",
      "3 Random forest 6\n",
      "4 Multi-layer perceptron 6\n"
     ]
    }
   ],
   "source": [
    "train_sizes_all = []\n",
    "train_scores_all = []\n",
    "test_scores_all = []\n",
    "fit_times_all = []\n",
    "\n",
    "for i, m in enumerate(models[1:]): # skip 0-R\n",
    "    train_sizes, train_scores, test_scores, fit_times, _ = \\\n",
    "            learning_curve(m, \n",
    "                           train_all_features, \n",
    "                           train_labels.values.ravel(), \n",
    "                           cv=5, \n",
    "                           shuffle=True,\n",
    "                           random_state=RANDOM_STATE,\n",
    "                           return_times=True\n",
    "                          )\n",
    "    train_sizes_all.append(train_sizes)\n",
    "    train_scores_all.append(train_scores)\n",
    "    test_scores_all.append(test_scores)\n",
    "    fit_times_all.append(fit_times)\n",
    "    \n",
    "    print(i, model_names[i+1], len(models))"
   ]
  },
  {
   "cell_type": "code",
   "execution_count": 580,
   "metadata": {
    "ExecuteTime": {
     "end_time": "2020-10-12T10:39:52.533993Z",
     "start_time": "2020-10-12T10:39:51.275523Z"
    },
    "hidden": true,
    "scrolled": true
   },
   "outputs": [
    {
     "data": {
      "image/png": "[encoded data removed]",
      "text/plain": [
       "<Figure size 504x1440 with 5 Axes>"
      ]
     },
     "metadata": {},
     "output_type": "display_data"
    }
   ],
   "source": [
    "_, axes = plt.subplots(5, 1, figsize=(7, 20))\n",
    "plt.subplots_adjust(hspace=0.25)\n",
    "\n",
    "for i in range(1, len(models)):\n",
    "#     print(model_names[i])\n",
    "    train_scores_mean = np.mean(train_scores_all[i-1], axis=1)\n",
    "    train_scores_std = np.std(train_scores_all[i-1], axis=1)\n",
    "    test_scores_mean = np.mean(test_scores_all[i-1], axis=1)\n",
    "    test_scores_std = np.std(test_scores_all[i-1], axis=1)\n",
    "    fit_times_mean = np.mean(fit_times_all[i-1], axis=1)\n",
    "    fit_times_std = np.std(fit_times_all[i-1], axis=1)\n",
    "\n",
    "    axes[i-1].grid()\n",
    "    axes[i-1].fill_between(train_sizes_all[i-1], train_scores_mean - train_scores_std,\n",
    "                         train_scores_mean + train_scores_std, alpha=0.1,\n",
    "                         color=\"r\")\n",
    "    axes[i-1].fill_between(train_sizes_all[i-1], test_scores_mean - test_scores_std,\n",
    "                         test_scores_mean + test_scores_std, alpha=0.1,\n",
    "                         color=\"g\")\n",
    "    axes[i-1].plot(train_sizes_all[i-1], train_scores_mean, 'o-', color=\"r\",\n",
    "                 label=\"Training score\")\n",
    "    axes[i-1].plot(train_sizes_all[i-1], test_scores_mean, 'o-', color=\"g\",\n",
    "                 label=\"Cross-validation score\")\n",
    "    axes[i-1].set_ylim([0, 1.1])\n",
    "    axes[i-1].set_ylabel(\"accuracy\")\n",
    "    axes[i-1].set_xlabel(\"train size\")\n",
    "    axes[i-1].set_title(model_names[i])\n",
    "    axes[i-1].legend(loc=\"best\")\n",
    "\n",
    "plt.savefig(\"error1\")"
   ]
  },
  {
   "cell_type": "code",
   "execution_count": 573,
   "metadata": {
    "ExecuteTime": {
     "end_time": "2020-10-12T10:16:53.334140Z",
     "start_time": "2020-10-12T09:06:41.714308Z"
    },
    "hidden": true
   },
   "outputs": [
    {
     "name": "stdout",
     "output_type": "stream",
     "text": [
      "0 Gaussian NB 6\n",
      "1 Knn 6\n",
      "2 Decision tree 6\n",
      "3 Random forest 6\n",
      "4 Multi-layer perceptron 6\n"
     ]
    }
   ],
   "source": [
    "train_sizes_all2 = []\n",
    "train_scores_all2 = []\n",
    "test_scores_all2 = []\n",
    "fit_times_all2 = []\n",
    "\n",
    "for i, m in enumerate(models[1:]): # skip 0-R\n",
    "    train_sizes, train_scores, test_scores, fit_times, _ = \\\n",
    "            learning_curve(m, \n",
    "                           train_all_features, \n",
    "                           train_labels.values.ravel(), \n",
    "                           cv=5, \n",
    "                           shuffle=True,\n",
    "                           random_state=RANDOM_STATE,\n",
    "                           return_times=True,\n",
    "                           scoring=\"f1_macro\"\n",
    "                          )\n",
    "    train_sizes_all2.append(train_sizes)\n",
    "    train_scores_all2.append(train_scores)\n",
    "    test_scores_all2.append(test_scores)\n",
    "    fit_times_all2.append(fit_times)\n",
    "    \n",
    "    print(i, model_names[i+1], len(models))"
   ]
  },
  {
   "cell_type": "code",
   "execution_count": 579,
   "metadata": {
    "ExecuteTime": {
     "end_time": "2020-10-12T10:39:29.732261Z",
     "start_time": "2020-10-12T10:39:28.516428Z"
    },
    "hidden": true,
    "scrolled": true
   },
   "outputs": [
    {
     "data": {
      "image/png": "[encoded data removed]",
      "text/plain": [
       "<Figure size 504x1440 with 5 Axes>"
      ]
     },
     "metadata": {},
     "output_type": "display_data"
    }
   ],
   "source": [
    "_, axes = plt.subplots(5, 1, figsize=(7, 20))\n",
    "plt.subplots_adjust(hspace=0.25)\n",
    "\n",
    "for i in range(1, len(models)):\n",
    "#     print(model_names[i])\n",
    "    train_scores_mean = np.mean(train_scores_all2[i-1], axis=1)\n",
    "    train_scores_std = np.std(train_scores_all2[i-1], axis=1)\n",
    "    test_scores_mean = np.mean(test_scores_all2[i-1], axis=1)\n",
    "    test_scores_std = np.std(test_scores_all2[i-1], axis=1)\n",
    "    fit_times_mean = np.mean(fit_times_all2[i-1], axis=1)\n",
    "    fit_times_std = np.std(fit_times_all2[i-1], axis=1)\n",
    "\n",
    "    axes[i-1].grid()\n",
    "    axes[i-1].fill_between(train_sizes_all[i-1], train_scores_mean - train_scores_std,\n",
    "                         train_scores_mean + train_scores_std, alpha=0.1,\n",
    "                         color=\"r\")\n",
    "    axes[i-1].fill_between(train_sizes_all[i-1], test_scores_mean - test_scores_std,\n",
    "                         test_scores_mean + test_scores_std, alpha=0.1,\n",
    "                         color=\"g\")\n",
    "    axes[i-1].plot(train_sizes_all[i-1], train_scores_mean, 'o-', color=\"r\",\n",
    "                 label=\"Training score\")\n",
    "    axes[i-1].plot(train_sizes_all[i-1], test_scores_mean, 'o-', color=\"g\",\n",
    "                 label=\"Cross-validation score\")\n",
    "    axes[i-1].set_ylabel(\"macro f1\")\n",
    "    axes[i-1].set_ylim([0, 1.1])\n",
    "    axes[i-1].set_xlabel(\"train size\")\n",
    "    axes[i-1].set_title(model_names[i])\n",
    "    axes[i-1].legend(loc=\"best\")\n",
    "\n",
    "plt.savefig(\"error2\")"
   ]
  },
  {
   "cell_type": "code",
   "execution_count": null,
   "metadata": {
    "hidden": true
   },
   "outputs": [],
   "source": []
  },
  {
   "cell_type": "markdown",
   "metadata": {},
   "source": [
    "## ensemble learning"
   ]
  },
  {
   "cell_type": "markdown",
   "metadata": {},
   "source": [
    "### boosting Gnb"
   ]
  },
  {
   "cell_type": "markdown",
   "metadata": {},
   "source": [
    "#### hyper-parameter tuning"
   ]
  },
  {
   "cell_type": "code",
   "execution_count": 749,
   "metadata": {
    "ExecuteTime": {
     "end_time": "2020-10-15T12:04:15.138216Z",
     "start_time": "2020-10-15T12:04:15.134592Z"
    }
   },
   "outputs": [],
   "source": [
    "gnb_ada_discrete = AdaBoostClassifier(\n",
    "    GaussianNB(),\n",
    "    n_estimators=21,\n",
    "    learning_rate=1,\n",
    "    algorithm=\"SAMME\",\n",
    "    random_state=RANDOM_STATE)\n",
    "\n",
    "ns = []\n",
    "train_f1s = []"
   ]
  },
  {
   "cell_type": "code",
   "execution_count": 750,
   "metadata": {
    "ExecuteTime": {
     "end_time": "2020-10-15T20:41:10.903945Z",
     "start_time": "2020-10-15T12:04:15.849185Z"
    },
    "scrolled": true
   },
   "outputs": [
    {
     "name": "stdout",
     "output_type": "stream",
     "text": [
      "1 0.44954506564133023\n",
      "2 0.44954506564133023\n",
      "3 0.4907536619631535\n",
      "4 0.4716838477608872\n",
      "5 0.47437735819921156\n",
      "6 0.46885493146507856\n",
      "7 0.47376608024160216\n",
      "8 0.4814647123708621\n",
      "9 0.48531839940898325\n",
      "10 0.48406019097121816\n",
      "11 0.4839136960255255\n",
      "12 0.48817808918588657\n",
      "13 0.4875599218132004\n",
      "14 0.49322922215555254\n",
      "15 0.49468130702936924\n",
      "16 0.49636618255333154\n",
      "17 0.4940741328765158\n",
      "18 0.49481234579872985\n",
      "19 0.5000594417074374\n",
      "20 0.5017177946420661\n",
      "21 0.5030761888995301\n",
      "22 0.5059562757230187\n",
      "23 0.5071184662171423\n",
      "24 0.5102928485634524\n",
      "25 0.510691148962706\n",
      "26 0.5105116545251838\n",
      "27 0.5125593893283058\n",
      "28 0.5120553994434319\n",
      "29 0.5118395132258378\n",
      "30 0.514910808483171\n",
      "31 0.5116547393567088\n",
      "32 0.5113471409537307\n",
      "33 0.5111134397896668\n",
      "34 0.5147495301433584\n",
      "35 0.5143858219444986\n",
      "36 0.51285669529886\n",
      "37 0.5126846756824062\n",
      "38 0.5122321588850969\n",
      "39 0.5154869499259126\n",
      "40 0.5134839052575085\n",
      "41 0.5138069209455447\n",
      "42 0.5150900668142022\n",
      "43 0.5165440532960538\n",
      "44 0.5162916499764693\n",
      "45 0.5174804741837009\n",
      "46 0.5159750299476673\n",
      "47 0.51542491838269\n",
      "48 0.5137009477928418\n",
      "49 0.5137081163365762\n",
      "50 0.5136227336970028\n",
      "51 0.5157647967447131\n",
      "52 0.5168941653896164\n",
      "53 0.5168403008388985\n",
      "54 0.5172997348073038\n",
      "55 0.5157881636371274\n"
     ]
    }
   ],
   "source": [
    "for i in range(1, 56):\n",
    "    ns.append(i)\n",
    "    gnb_ada_discrete.set_params(n_estimators=i)\n",
    "    \n",
    "    scores = cross_val_score(estimator=gnb_ada_discrete, \n",
    "                    X=train_all_features, \n",
    "                    y=train_labels.values.ravel(), \n",
    "                    cv=5,\n",
    "                    scoring='f1_macro')\n",
    "    train_f1s.append(np.mean(scores))\n",
    "    \n",
    "    print(i, train_f1s[-1])"
   ]
  },
  {
   "cell_type": "code",
   "execution_count": 751,
   "metadata": {
    "ExecuteTime": {
     "end_time": "2020-10-15T20:41:11.203608Z",
     "start_time": "2020-10-15T20:41:10.906891Z"
    },
    "scrolled": true
   },
   "outputs": [
    {
     "data": {
      "image/png": "[encoded data removed]",
      "text/plain": [
       "<Figure size 432x288 with 1 Axes>"
      ]
     },
     "metadata": {},
     "output_type": "display_data"
    },
    {
     "name": "stdout",
     "output_type": "stream",
     "text": [
      "n_estimators maximize f1-score : 45 with 0.5174804741837009\n"
     ]
    }
   ],
   "source": [
    "draw_k_line_chart(ns, train_f1s, \"f1 score\", \"Ada-boosted Gnb\")\n",
    "boost_gnb_best_n_estimators = ns[np.argmax(train_f1s)]\n",
    "print(\"n_estimators maximize f1-score :\", boost_gnb_best_n_estimators, \n",
    "      \"with\", train_f1s[np.argmax(train_f1s)])"
   ]
  },
  {
   "cell_type": "markdown",
   "metadata": {
    "heading_collapsed": true
   },
   "source": [
    "#### comparison"
   ]
  },
  {
   "cell_type": "code",
   "execution_count": 688,
   "metadata": {
    "ExecuteTime": {
     "end_time": "2020-10-14T13:04:34.261102Z",
     "start_time": "2020-10-14T13:04:34.257551Z"
    },
    "hidden": true
   },
   "outputs": [],
   "source": [
    "Nbs = [\n",
    "    GaussianNB(),\n",
    "    AdaBoostClassifier(\n",
    "        GaussianNB(),\n",
    "        n_estimators=45,\n",
    "        learning_rate=1,\n",
    "        algorithm=\"SAMME\",\n",
    "        random_state=RANDOM_STATE\n",
    "    )\n",
    "]\n",
    "\n",
    "Nbs_name = [\"Gnb\", \"Ada-boosted Gnb\"]"
   ]
  },
  {
   "cell_type": "code",
   "execution_count": 689,
   "metadata": {
    "ExecuteTime": {
     "end_time": "2020-10-14T13:09:05.087215Z",
     "start_time": "2020-10-14T13:04:51.800416Z"
    },
    "hidden": true
   },
   "outputs": [],
   "source": [
    "Nbs = train(Nbs, train_all_features, train_labels)"
   ]
  },
  {
   "cell_type": "code",
   "execution_count": 690,
   "metadata": {
    "ExecuteTime": {
     "end_time": "2020-10-14T13:09:10.073201Z",
     "start_time": "2020-10-14T13:09:05.089384Z"
    },
    "hidden": true
   },
   "outputs": [],
   "source": [
    "preds = predict(Nbs, valid_all_features)"
   ]
  },
  {
   "cell_type": "code",
   "execution_count": 691,
   "metadata": {
    "ExecuteTime": {
     "end_time": "2020-10-14T13:09:10.176023Z",
     "start_time": "2020-10-14T13:09:10.075271Z"
    },
    "hidden": true
   },
   "outputs": [],
   "source": [
    "m_f1s = []\n",
    "m_acc = []\n",
    "\n",
    "for p in preds:\n",
    "    _, acc, pref = evaluate(p, valid_labels.values.ravel())\n",
    "    m_acc.append(acc)\n",
    "    m_f1s.append(pref[2])"
   ]
  },
  {
   "cell_type": "code",
   "execution_count": 692,
   "metadata": {
    "ExecuteTime": {
     "end_time": "2020-10-14T13:09:10.332123Z",
     "start_time": "2020-10-14T13:09:10.199926Z"
    },
    "hidden": true
   },
   "outputs": [
    {
     "data": {
      "image/png": "[encoded data removed]",
      "text/plain": [
       "<Figure size 432x288 with 1 Axes>"
      ]
     },
     "metadata": {},
     "output_type": "display_data"
    },
    {
     "name": "stdout",
     "output_type": "stream",
     "text": [
      "[('Gnb', 0.6177777777777778), ('Ada-boosted Gnb', 0.6244444444444445)]\n"
     ]
    }
   ],
   "source": [
    "plt.bar(x=Dts_name, height=m_acc)\n",
    "plt.ylabel(\"macro accuracy\")\n",
    "plt.xticks(rotation=90)\n",
    "plt.title(\"Model performance on valid data-set\")\n",
    "plt.show()\n",
    "pprint(list(zip(Nbs_name, m_acc)))"
   ]
  },
  {
   "cell_type": "code",
   "execution_count": 693,
   "metadata": {
    "ExecuteTime": {
     "end_time": "2020-10-14T13:09:10.471737Z",
     "start_time": "2020-10-14T13:09:10.334633Z"
    },
    "hidden": true
   },
   "outputs": [
    {
     "data": {
      "image/png": "[encoded data removed]",
      "text/plain": [
       "<Figure size 432x288 with 1 Axes>"
      ]
     },
     "metadata": {},
     "output_type": "display_data"
    },
    {
     "name": "stdout",
     "output_type": "stream",
     "text": [
      "[('Gnb', 0.5791759087379859), ('Ada-boosted Gnb', 0.5832981026072412)]\n"
     ]
    }
   ],
   "source": [
    "plt.bar(x=Dts_name, height=m_f1s)\n",
    "plt.ylabel(\"macro f1\")\n",
    "plt.xticks(rotation=90)\n",
    "plt.title(\"Model performance on valid data-set\")\n",
    "plt.show()\n",
    "pprint(list(zip(Nbs_name, m_f1s)))"
   ]
  },
  {
   "cell_type": "markdown",
   "metadata": {
    "heading_collapsed": true
   },
   "source": [
    "#### error analysis"
   ]
  },
  {
   "cell_type": "code",
   "execution_count": 695,
   "metadata": {
    "ExecuteTime": {
     "end_time": "2020-10-14T14:43:07.280014Z",
     "start_time": "2020-10-14T13:30:01.462793Z"
    },
    "hidden": true
   },
   "outputs": [],
   "source": [
    "train_sizes, train_scores, test_scores, fit_times, _ = \\\n",
    "            learning_curve(AdaBoostClassifier(\n",
    "                                GaussianNB(),\n",
    "                                n_estimators=45,\n",
    "                                learning_rate=1,\n",
    "                                algorithm=\"SAMME\",\n",
    "                                random_state=RANDOM_STATE\n",
    "                            ), \n",
    "                           train_all_features, \n",
    "                           train_labels.values.ravel(), \n",
    "                           cv=5, \n",
    "                           shuffle=True,\n",
    "                           random_state=RANDOM_STATE,\n",
    "                           return_times=True\n",
    "                          )"
   ]
  },
  {
   "cell_type": "code",
   "execution_count": 696,
   "metadata": {
    "ExecuteTime": {
     "end_time": "2020-10-14T14:43:07.524455Z",
     "start_time": "2020-10-14T14:43:07.282333Z"
    },
    "hidden": true
   },
   "outputs": [
    {
     "data": {
      "text/plain": [
       "<matplotlib.legend.Legend at 0x141eb7e10>"
      ]
     },
     "execution_count": 696,
     "metadata": {},
     "output_type": "execute_result"
    },
    {
     "data": {
      "image/png": "[encoded data removed]",
      "text/plain": [
       "<Figure size 432x288 with 1 Axes>"
      ]
     },
     "metadata": {},
     "output_type": "display_data"
    }
   ],
   "source": [
    "train_scores_mean = np.mean(train_scores, axis=1)\n",
    "train_scores_std = np.std(train_scores, axis=1)\n",
    "test_scores_mean = np.mean(test_scores, axis=1)\n",
    "test_scores_std = np.std(test_scores, axis=1)\n",
    "fit_times_mean = np.mean(fit_times, axis=1)\n",
    "fit_times_std = np.std(fit_times, axis=1)\n",
    "\n",
    "plt.grid()\n",
    "plt.fill_between(train_sizes, train_scores_mean - train_scores_std,\n",
    "                     train_scores_mean + train_scores_std, alpha=0.1,\n",
    "                     color=\"r\")\n",
    "plt.fill_between(train_sizes, test_scores_mean - test_scores_std,\n",
    "                     test_scores_mean + test_scores_std, alpha=0.1,\n",
    "                     color=\"g\")\n",
    "plt.plot(train_sizes, train_scores_mean, 'o-', color=\"r\",\n",
    "             label=\"Training score\")\n",
    "plt.plot(train_sizes, test_scores_mean, 'o-', color=\"g\",\n",
    "             label=\"Cross-validation score\")\n",
    "plt.ylim([0, 1.1])\n",
    "plt.ylabel(\"accuracy\")\n",
    "plt.xlabel(\"train size\")\n",
    "plt.title(\"Ada-boosted Gnb\")\n",
    "plt.legend(loc=\"best\")"
   ]
  },
  {
   "cell_type": "code",
   "execution_count": 697,
   "metadata": {
    "ExecuteTime": {
     "end_time": "2020-10-14T15:55:53.821940Z",
     "start_time": "2020-10-14T14:43:07.527258Z"
    },
    "hidden": true
   },
   "outputs": [],
   "source": [
    "train_sizes2, train_scores2, test_scores2, fit_times2, _ = \\\n",
    "        learning_curve(AdaBoostClassifier(\n",
    "                                GaussianNB(),\n",
    "                                n_estimators=45,\n",
    "                                learning_rate=1,\n",
    "                                algorithm=\"SAMME\",\n",
    "                                random_state=RANDOM_STATE\n",
    "                            ), \n",
    "                       train_all_features, \n",
    "                       train_labels.values.ravel(), \n",
    "                       cv=5, \n",
    "                       shuffle=True,\n",
    "                       random_state=RANDOM_STATE,\n",
    "                       return_times=True,\n",
    "                       scoring=\"f1_macro\"\n",
    "                      )"
   ]
  },
  {
   "cell_type": "code",
   "execution_count": 698,
   "metadata": {
    "ExecuteTime": {
     "end_time": "2020-10-14T15:55:54.040755Z",
     "start_time": "2020-10-14T15:55:53.824096Z"
    },
    "hidden": true
   },
   "outputs": [
    {
     "data": {
      "text/plain": [
       "<matplotlib.legend.Legend at 0x13be73f60>"
      ]
     },
     "execution_count": 698,
     "metadata": {},
     "output_type": "execute_result"
    },
    {
     "data": {
      "image/png": "[encoded data removed]",
      "text/plain": [
       "<Figure size 432x288 with 1 Axes>"
      ]
     },
     "metadata": {},
     "output_type": "display_data"
    }
   ],
   "source": [
    "train_scores_mean = np.mean(train_scores2, axis=1)\n",
    "train_scores_std = np.std(train_scores2, axis=1)\n",
    "test_scores_mean = np.mean(test_scores2, axis=1)\n",
    "test_scores_std = np.std(test_scores2, axis=1)\n",
    "fit_times_mean = np.mean(fit_times2, axis=1)\n",
    "fit_times_std = np.std(fit_times2, axis=1)\n",
    "\n",
    "plt.grid()\n",
    "plt.fill_between(train_sizes, train_scores_mean - train_scores_std,\n",
    "                     train_scores_mean + train_scores_std, alpha=0.1,\n",
    "                     color=\"r\")\n",
    "plt.fill_between(train_sizes, test_scores_mean - test_scores_std,\n",
    "                     test_scores_mean + test_scores_std, alpha=0.1,\n",
    "                     color=\"g\")\n",
    "plt.plot(train_sizes, train_scores_mean, 'o-', color=\"r\",\n",
    "             label=\"Training score\")\n",
    "plt.plot(train_sizes, test_scores_mean, 'o-', color=\"g\",\n",
    "             label=\"Cross-validation score\")\n",
    "plt.ylim([0, 1.1])\n",
    "plt.ylabel(\"macro f1\")\n",
    "plt.xlabel(\"train size\")\n",
    "plt.title(\"Ada-boosted Gnb\")\n",
    "plt.legend(loc=\"best\")"
   ]
  },
  {
   "cell_type": "markdown",
   "metadata": {
    "heading_collapsed": true
   },
   "source": [
    "#### inspect"
   ]
  },
  {
   "cell_type": "code",
   "execution_count": 711,
   "metadata": {
    "ExecuteTime": {
     "end_time": "2020-10-15T05:07:44.958247Z",
     "start_time": "2020-10-15T05:03:41.247706Z"
    },
    "hidden": true
   },
   "outputs": [
    {
     "data": {
      "text/plain": [
       "AdaBoostClassifier(algorithm='SAMME', base_estimator=GaussianNB(),\n",
       "                   learning_rate=1, n_estimators=45, random_state=90049)"
      ]
     },
     "execution_count": 711,
     "metadata": {},
     "output_type": "execute_result"
    }
   ],
   "source": [
    "gnb_ada_discrete = AdaBoostClassifier(\n",
    "    GaussianNB(),\n",
    "    n_estimators=45,\n",
    "    learning_rate=1,\n",
    "    algorithm=\"SAMME\",\n",
    "    random_state=RANDOM_STATE)\n",
    "gnb_ada_discrete.fit(train_all_features, train_labels.values.ravel())"
   ]
  },
  {
   "cell_type": "code",
   "execution_count": 712,
   "metadata": {
    "ExecuteTime": {
     "end_time": "2020-10-15T05:07:50.176589Z",
     "start_time": "2020-10-15T05:07:44.960338Z"
    },
    "hidden": true
   },
   "outputs": [
    {
     "data": {
      "text/plain": [
       "Text(0.5,1,'Ada-boosted Gnb confusion matrix')"
      ]
     },
     "execution_count": 712,
     "metadata": {},
     "output_type": "execute_result"
    },
    {
     "data": {
      "image/png": "[encoded data removed]",
      "text/plain": [
       "<Figure size 432x288 with 2 Axes>"
      ]
     },
     "metadata": {},
     "output_type": "display_data"
    }
   ],
   "source": [
    "plot_confusion_matrix(gnb_ada_discrete, \n",
    "                      valid_all_features, \n",
    "                      valid_labels.values.ravel(),\n",
    "                      xticks_rotation='vertical'\n",
    "                     )\n",
    "plt.title(\"Ada-boosted Gnb confusion matrix\")"
   ]
  },
  {
   "cell_type": "code",
   "execution_count": null,
   "metadata": {
    "hidden": true
   },
   "outputs": [],
   "source": []
  },
  {
   "cell_type": "code",
   "execution_count": null,
   "metadata": {
    "hidden": true
   },
   "outputs": [],
   "source": []
  },
  {
   "cell_type": "markdown",
   "metadata": {},
   "source": [
    "### bagging Dt"
   ]
  },
  {
   "cell_type": "markdown",
   "metadata": {
    "heading_collapsed": true
   },
   "source": [
    "#### hyper-parameter tuning"
   ]
  },
  {
   "cell_type": "code",
   "execution_count": null,
   "metadata": {
    "ExecuteTime": {
     "end_time": "2020-10-15T12:04:13.769166Z",
     "start_time": "2020-10-15T12:03:25.654Z"
    },
    "hidden": true
   },
   "outputs": [],
   "source": [
    "bagging_dt = BaggingClassifier(\n",
    "    base_estimator=DecisionTreeClassifier(criterion=\"entropy\", max_depth=9, random_state=RANDOM_STATE),\n",
    "                            n_estimators=10, \n",
    "                            random_state=RANDOM_STATE)\n",
    "\n",
    "ns_bagging = []\n",
    "train_bagging_f1s = []"
   ]
  },
  {
   "cell_type": "code",
   "execution_count": null,
   "metadata": {
    "ExecuteTime": {
     "end_time": "2020-10-15T12:04:13.770131Z",
     "start_time": "2020-10-15T12:03:26.489Z"
    },
    "hidden": true,
    "scrolled": true
   },
   "outputs": [],
   "source": [
    "for i in range(1, 101):\n",
    "    bagging_dt.set_params(n_estimators=i)\n",
    "    \n",
    "    scores = cross_val_score(estimator=bagging_dt, \n",
    "                    X=train_all_features, \n",
    "                    y=train_labels.values.ravel(), \n",
    "                    cv=5,\n",
    "                    scoring='f1_macro')\n",
    "    train_bagging_f1s.append(np.mean(scores))\n",
    "    ns_bagging.append(i)\n",
    "    \n",
    "    print(i, train_bagging_f1s[-1])"
   ]
  },
  {
   "cell_type": "code",
   "execution_count": null,
   "metadata": {
    "ExecuteTime": {
     "end_time": "2020-10-15T12:04:13.770876Z",
     "start_time": "2020-10-15T12:03:27.235Z"
    },
    "hidden": true
   },
   "outputs": [],
   "source": [
    "draw_k_line_chart(ns_bagging, train_bagging_f1s, \"f1 score\", \"Dt bagging\")\n",
    "Dt_bagging_best_n_estimators = ns_bagging[np.argmax(train_bagging_f1s)]\n",
    "print(\"n_estimators maximize f1-score :\", Dt_bagging_best_n_estimators, \n",
    "      \"with\", train_bagging_f1s[np.argmax(train_bagging_f1s)])"
   ]
  },
  {
   "cell_type": "markdown",
   "metadata": {
    "heading_collapsed": true
   },
   "source": [
    "#### comparison"
   ]
  },
  {
   "cell_type": "code",
   "execution_count": 664,
   "metadata": {
    "ExecuteTime": {
     "end_time": "2020-10-14T02:40:29.939885Z",
     "start_time": "2020-10-14T02:40:29.935603Z"
    },
    "hidden": true
   },
   "outputs": [],
   "source": [
    "Dts = [\n",
    "    DecisionTreeClassifier(criterion=\"entropy\", max_depth=9, random_state=RANDOM_STATE),\n",
    "    BaggingClassifier(\n",
    "    base_estimator=DecisionTreeClassifier(criterion=\"entropy\", max_depth=9, random_state=RANDOM_STATE),\n",
    "                            n_estimators=54, \n",
    "                            random_state=RANDOM_STATE)\n",
    "]\n",
    "\n",
    "Dts_name = [\"Dt\", \"Bagged Dt\"]"
   ]
  },
  {
   "cell_type": "code",
   "execution_count": 666,
   "metadata": {
    "ExecuteTime": {
     "end_time": "2020-10-14T02:44:31.665553Z",
     "start_time": "2020-10-14T02:40:58.334350Z"
    },
    "hidden": true
   },
   "outputs": [],
   "source": [
    "Dts = train(Dts, train_all_features, train_labels)"
   ]
  },
  {
   "cell_type": "code",
   "execution_count": 679,
   "metadata": {
    "ExecuteTime": {
     "end_time": "2020-10-14T11:36:03.790526Z",
     "start_time": "2020-10-14T11:36:03.325393Z"
    },
    "hidden": true
   },
   "outputs": [],
   "source": [
    "preds = predict(Dts, valid_all_features)"
   ]
  },
  {
   "cell_type": "code",
   "execution_count": 680,
   "metadata": {
    "ExecuteTime": {
     "end_time": "2020-10-14T11:36:04.455529Z",
     "start_time": "2020-10-14T11:36:04.439757Z"
    },
    "hidden": true
   },
   "outputs": [],
   "source": [
    "m_f1s = []\n",
    "m_acc = []\n",
    "\n",
    "for p in preds:\n",
    "    _, acc, pref = evaluate(p, valid_labels.values.ravel())\n",
    "    m_acc.append(acc)\n",
    "    m_f1s.append(pref[2])"
   ]
  },
  {
   "cell_type": "code",
   "execution_count": 682,
   "metadata": {
    "ExecuteTime": {
     "end_time": "2020-10-14T11:36:15.022278Z",
     "start_time": "2020-10-14T11:36:14.896778Z"
    },
    "hidden": true
   },
   "outputs": [
    {
     "data": {
      "image/png": "[encoded data removed]",
      "text/plain": [
       "<Figure size 432x288 with 1 Axes>"
      ]
     },
     "metadata": {},
     "output_type": "display_data"
    },
    {
     "name": "stdout",
     "output_type": "stream",
     "text": [
      "[('Dt', 0.4533333333333333), ('Bagged Dt', 0.5777777777777777)]\n"
     ]
    }
   ],
   "source": [
    "plt.bar(x=Dts_name, height=m_acc)\n",
    "plt.ylabel(\"macro accuracy\")\n",
    "plt.xticks(rotation=90)\n",
    "plt.title(\"Model performance on valid data-set\")\n",
    "plt.show()\n",
    "pprint(list(zip(Dts_name, m_acc)))"
   ]
  },
  {
   "cell_type": "code",
   "execution_count": 683,
   "metadata": {
    "ExecuteTime": {
     "end_time": "2020-10-14T11:36:56.027368Z",
     "start_time": "2020-10-14T11:36:55.901956Z"
    },
    "hidden": true
   },
   "outputs": [
    {
     "data": {
      "image/png": "[encoded data removed]",
      "text/plain": [
       "<Figure size 432x288 with 1 Axes>"
      ]
     },
     "metadata": {},
     "output_type": "display_data"
    },
    {
     "name": "stdout",
     "output_type": "stream",
     "text": [
      "[('Dt', 0.4351733143531153), ('Bagged Dt', 0.5193925057031797)]\n"
     ]
    }
   ],
   "source": [
    "plt.bar(x=Dts_name, height=m_f1s)\n",
    "plt.ylabel(\"macro f1\")\n",
    "plt.xticks(rotation=90)\n",
    "plt.title(\"Model performance on valid data-set\")\n",
    "plt.show()\n",
    "pprint(list(zip(Dts_name, m_f1s)))"
   ]
  },
  {
   "cell_type": "code",
   "execution_count": null,
   "metadata": {
    "hidden": true
   },
   "outputs": [],
   "source": []
  },
  {
   "cell_type": "markdown",
   "metadata": {
    "heading_collapsed": true
   },
   "source": [
    "#### error analysis"
   ]
  },
  {
   "cell_type": "code",
   "execution_count": 667,
   "metadata": {
    "ExecuteTime": {
     "end_time": "2020-10-14T03:21:59.442574Z",
     "start_time": "2020-10-14T02:44:31.751412Z"
    },
    "hidden": true
   },
   "outputs": [],
   "source": [
    "train_sizes, train_scores, test_scores, fit_times, _ = \\\n",
    "            learning_curve(BaggingClassifier(\n",
    "                            base_estimator=DecisionTreeClassifier(criterion=\"entropy\", max_depth=9, random_state=RANDOM_STATE),\n",
    "                            n_estimators=54, \n",
    "                            random_state=RANDOM_STATE), \n",
    "                           train_all_features, \n",
    "                           train_labels.values.ravel(), \n",
    "                           cv=5, \n",
    "                           shuffle=True,\n",
    "                           random_state=RANDOM_STATE,\n",
    "                           return_times=True\n",
    "                          )"
   ]
  },
  {
   "cell_type": "code",
   "execution_count": 742,
   "metadata": {
    "ExecuteTime": {
     "end_time": "2020-10-15T12:00:32.147649Z",
     "start_time": "2020-10-15T12:00:31.928564Z"
    },
    "hidden": true
   },
   "outputs": [
    {
     "data": {
      "text/plain": [
       "<matplotlib.legend.Legend at 0x29eea7080>"
      ]
     },
     "execution_count": 742,
     "metadata": {},
     "output_type": "execute_result"
    },
    {
     "data": {
      "image/png": "[encoded data removed]",
      "text/plain": [
       "<Figure size 432x288 with 1 Axes>"
      ]
     },
     "metadata": {},
     "output_type": "display_data"
    }
   ],
   "source": [
    "train_scores_mean = np.mean(train_scores, axis=1)\n",
    "train_scores_std = np.std(train_scores, axis=1)\n",
    "test_scores_mean = np.mean(test_scores, axis=1)\n",
    "test_scores_std = np.std(test_scores, axis=1)\n",
    "fit_times_mean = np.mean(fit_times, axis=1)\n",
    "fit_times_std = np.std(fit_times, axis=1)\n",
    "\n",
    "plt.grid()\n",
    "plt.fill_between(train_sizes, train_scores_mean - train_scores_std,\n",
    "                     train_scores_mean + train_scores_std, alpha=0.1,\n",
    "                     color=\"r\")\n",
    "plt.fill_between(train_sizes, test_scores_mean - test_scores_std,\n",
    "                     test_scores_mean + test_scores_std, alpha=0.1,\n",
    "                     color=\"g\")\n",
    "plt.plot(train_sizes, train_scores_mean, 'o-', color=\"r\",\n",
    "             label=\"Training score\")\n",
    "plt.plot(train_sizes, test_scores_mean, 'o-', color=\"g\",\n",
    "             label=\"Cross-validation score\")\n",
    "plt.ylim([0, 1.1])\n",
    "plt.ylabel(\"accuracy\")\n",
    "plt.xlabel(\"train size\")\n",
    "plt.title(\"Dt bagging\")\n",
    "plt.legend(loc=\"best\")"
   ]
  },
  {
   "cell_type": "code",
   "execution_count": null,
   "metadata": {
    "ExecuteTime": {
     "end_time": "2020-10-15T11:59:05.185643Z",
     "start_time": "2020-10-15T11:57:40.652Z"
    },
    "hidden": true
   },
   "outputs": [],
   "source": [
    "train_sizes2, train_scores2, test_scores2, fit_times2, _ = \\\n",
    "        learning_curve(BaggingClassifier(\n",
    "                        base_estimator=DecisionTreeClassifier(criterion=\"entropy\", max_depth=9, random_state=RANDOM_STATE),\n",
    "                        n_estimators=54, \n",
    "                        random_state=RANDOM_STATE),\n",
    "                       train_all_features, \n",
    "                       train_labels.values.ravel(), \n",
    "                       cv=5, \n",
    "                       shuffle=True,\n",
    "                       random_state=RANDOM_STATE,\n",
    "                       return_times=True,\n",
    "                       scoring=\"f1_macro\"\n",
    "                      )"
   ]
  },
  {
   "cell_type": "code",
   "execution_count": 741,
   "metadata": {
    "ExecuteTime": {
     "end_time": "2020-10-15T12:00:22.745160Z",
     "start_time": "2020-10-15T12:00:22.529564Z"
    },
    "hidden": true
   },
   "outputs": [
    {
     "data": {
      "text/plain": [
       "<matplotlib.legend.Legend at 0x134cec080>"
      ]
     },
     "execution_count": 741,
     "metadata": {},
     "output_type": "execute_result"
    },
    {
     "data": {
      "image/png": "[encoded data removed]",
      "text/plain": [
       "<Figure size 432x288 with 1 Axes>"
      ]
     },
     "metadata": {},
     "output_type": "display_data"
    }
   ],
   "source": [
    "train_scores_mean = np.mean(train_scores2, axis=1)\n",
    "train_scores_std = np.std(train_scores2, axis=1)\n",
    "test_scores_mean = np.mean(test_scores2, axis=1)\n",
    "test_scores_std = np.std(test_scores2, axis=1)\n",
    "fit_times_mean = np.mean(fit_times2, axis=1)\n",
    "fit_times_std = np.std(fit_times2, axis=1)\n",
    "\n",
    "plt.grid()\n",
    "plt.fill_between(train_sizes, train_scores_mean - train_scores_std,\n",
    "                     train_scores_mean + train_scores_std, alpha=0.1,\n",
    "                     color=\"r\")\n",
    "plt.fill_between(train_sizes, test_scores_mean - test_scores_std,\n",
    "                     test_scores_mean + test_scores_std, alpha=0.1,\n",
    "                     color=\"g\")\n",
    "plt.plot(train_sizes, train_scores_mean, 'o-', color=\"r\",\n",
    "             label=\"Training score\")\n",
    "plt.plot(train_sizes, test_scores_mean, 'o-', color=\"g\",\n",
    "             label=\"Cross-validation score\")\n",
    "plt.ylim([0, 1.1])\n",
    "plt.ylabel(\"macro f1\")\n",
    "plt.xlabel(\"train size\")\n",
    "plt.title(\"Dt bagging\")\n",
    "plt.legend(loc=\"best\")"
   ]
  },
  {
   "cell_type": "code",
   "execution_count": null,
   "metadata": {
    "hidden": true
   },
   "outputs": [],
   "source": []
  },
  {
   "cell_type": "markdown",
   "metadata": {},
   "source": [
    "# End"
   ]
  },
  {
   "cell_type": "code",
   "execution_count": null,
   "metadata": {
    "ExecuteTime": {
     "end_time": "2020-10-01T11:50:47.545042Z",
     "start_time": "2020-10-01T11:42:37.333Z"
    }
   },
   "outputs": [],
   "source": [
    "# Introduction to machine learning is fun!"
   ]
  }
 ],
 "metadata": {
  "kernelspec": {
   "display_name": "Python 3",
   "language": "python",
   "name": "python3"
  },
  "language_info": {
   "codemirror_mode": {
    "name": "ipython",
    "version": 3
   },
   "file_extension": ".py",
   "mimetype": "text/x-python",
   "name": "python",
   "nbconvert_exporter": "python",
   "pygments_lexer": "ipython3",
   "version": "3.6.5"
  },
  "latex_envs": {
   "LaTeX_envs_menu_present": true,
   "autoclose": false,
   "autocomplete": true,
   "bibliofile": "biblio.bib",
   "cite_by": "apalike",
   "current_citInitial": 1,
   "eqLabelWithNumbers": true,
   "eqNumInitial": 1,
   "hotkeys": {
    "equation": "Ctrl-E",
    "itemize": "Ctrl-I"
   },
   "labels_anchors": false,
   "latex_user_defs": false,
   "report_style_numbering": false,
   "user_envs_cfg": false
  },
  "toc": {
   "nav_menu": {},
   "number_sections": true,
   "sideBar": true,
   "skip_h1_title": false,
   "title_cell": "Table of Contents",
   "title_sidebar": "Contents",
   "toc_cell": false,
   "toc_position": {},
   "toc_section_display": true,
   "toc_window_display": false
  }
 },
 "nbformat": 4,
 "nbformat_minor": 2
}
